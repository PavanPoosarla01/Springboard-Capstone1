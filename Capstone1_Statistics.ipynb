{
 "cells": [
  {
   "cell_type": "markdown",
   "metadata": {},
   "source": [
    "# Capstone 1: Statistical Data Analysis"
   ]
  },
  {
   "cell_type": "markdown",
   "metadata": {},
   "source": [
    "In this section, we look at the correlations looked at in the previous sections and try to test their statistical significance. We will also capture new correlations"
   ]
  },
  {
   "cell_type": "code",
   "execution_count": 228,
   "metadata": {},
   "outputs": [],
   "source": [
    "import pandas as pd\n",
    "import seaborn as sns\n",
    "import matplotlib.pyplot as plt\n",
    "import numpy as np\n",
    "import scipy as sp\n"
   ]
  },
  {
   "cell_type": "code",
   "execution_count": 229,
   "metadata": {},
   "outputs": [],
   "source": [
    "import ast\n",
    "def str2list(text):\n",
    "    # print(text)\n",
    "    init_ls = text.strip('[]').split(',')\n",
    "    #print (init_ls[1])\n",
    "    final_ls = [X.strip(' ').strip('\\'') for X in init_ls]\n",
    "    # print(final_ls[1])\n",
    "    tag_ls = ['tag_'+X for X in final_ls]\n",
    "    return tag_ls\n",
    "        "
   ]
  },
  {
   "cell_type": "code",
   "execution_count": 230,
   "metadata": {},
   "outputs": [],
   "source": [
    "# Read the output of Data Storytelling\n",
    "df_clean = pd.read_csv(r'After_Storytelling.csv', index_col = 0)\n",
    "df_clean.index.name = \"index\""
   ]
  },
  {
   "cell_type": "code",
   "execution_count": 231,
   "metadata": {
    "scrolled": false
   },
   "outputs": [
    {
     "name": "stdout",
     "output_type": "stream",
     "text": [
      "Shape is (2314, 30)\n"
     ]
    },
    {
     "data": {
      "text/html": [
       "<div>\n",
       "<style scoped>\n",
       "    .dataframe tbody tr th:only-of-type {\n",
       "        vertical-align: middle;\n",
       "    }\n",
       "\n",
       "    .dataframe tbody tr th {\n",
       "        vertical-align: top;\n",
       "    }\n",
       "\n",
       "    .dataframe thead th {\n",
       "        text-align: right;\n",
       "    }\n",
       "</style>\n",
       "<table border=\"1\" class=\"dataframe\">\n",
       "  <thead>\n",
       "    <tr style=\"text-align: right;\">\n",
       "      <th></th>\n",
       "      <th>description</th>\n",
       "      <th>duration</th>\n",
       "      <th>event</th>\n",
       "      <th>main_speaker</th>\n",
       "      <th>speaker_occupation</th>\n",
       "      <th>tags</th>\n",
       "      <th>title</th>\n",
       "      <th>transcript</th>\n",
       "      <th>film_datestamp</th>\n",
       "      <th>pub_datestamp</th>\n",
       "      <th>...</th>\n",
       "      <th>Funny</th>\n",
       "      <th>Beautiful</th>\n",
       "      <th>Informative</th>\n",
       "      <th>Fascinating</th>\n",
       "      <th>Inspiring</th>\n",
       "      <th>event_type</th>\n",
       "      <th>BadTalk</th>\n",
       "      <th>Max_rating</th>\n",
       "      <th>ratings_total</th>\n",
       "      <th>word_per_min</th>\n",
       "    </tr>\n",
       "    <tr>\n",
       "      <th>index</th>\n",
       "      <th></th>\n",
       "      <th></th>\n",
       "      <th></th>\n",
       "      <th></th>\n",
       "      <th></th>\n",
       "      <th></th>\n",
       "      <th></th>\n",
       "      <th></th>\n",
       "      <th></th>\n",
       "      <th></th>\n",
       "      <th></th>\n",
       "      <th></th>\n",
       "      <th></th>\n",
       "      <th></th>\n",
       "      <th></th>\n",
       "      <th></th>\n",
       "      <th></th>\n",
       "      <th></th>\n",
       "      <th></th>\n",
       "      <th></th>\n",
       "      <th></th>\n",
       "    </tr>\n",
       "  </thead>\n",
       "  <tbody>\n",
       "    <tr>\n",
       "      <td>0</td>\n",
       "      <td>Sir Ken Robinson makes an entertaining and pro...</td>\n",
       "      <td>1164</td>\n",
       "      <td>TED2006</td>\n",
       "      <td>Ken Robinson</td>\n",
       "      <td>Author/educator</td>\n",
       "      <td>['children', 'creativity', 'culture', 'dance',...</td>\n",
       "      <td>Do schools kill creativity?</td>\n",
       "      <td>Good morning. How are you?(Laughter)It's been ...</td>\n",
       "      <td>2006-02-25 00:00:00</td>\n",
       "      <td>2006-06-27 00:11:00</td>\n",
       "      <td>...</td>\n",
       "      <td>0.398027</td>\n",
       "      <td>0.092653</td>\n",
       "      <td>0.148837</td>\n",
       "      <td>0.337426</td>\n",
       "      <td>38881</td>\n",
       "      <td>TED</td>\n",
       "      <td>0.023057</td>\n",
       "      <td>Funny</td>\n",
       "      <td>49356</td>\n",
       "      <td>163</td>\n",
       "    </tr>\n",
       "    <tr>\n",
       "      <td>1</td>\n",
       "      <td>With the same humor and humanity he exuded in ...</td>\n",
       "      <td>977</td>\n",
       "      <td>TED2006</td>\n",
       "      <td>Al Gore</td>\n",
       "      <td>Climate advocate</td>\n",
       "      <td>['alternative energy', 'cars', 'climate change...</td>\n",
       "      <td>Averting the climate crisis</td>\n",
       "      <td>Thank you so much, Chris. And it's truly a gre...</td>\n",
       "      <td>2006-02-25 00:00:00</td>\n",
       "      <td>2006-06-27 00:11:00</td>\n",
       "      <td>...</td>\n",
       "      <td>0.302727</td>\n",
       "      <td>0.032276</td>\n",
       "      <td>0.246522</td>\n",
       "      <td>0.104619</td>\n",
       "      <td>820</td>\n",
       "      <td>TED</td>\n",
       "      <td>0.313856</td>\n",
       "      <td>BadTalk</td>\n",
       "      <td>1797</td>\n",
       "      <td>127</td>\n",
       "    </tr>\n",
       "    <tr>\n",
       "      <td>2</td>\n",
       "      <td>New York Times columnist David Pogue takes aim...</td>\n",
       "      <td>1286</td>\n",
       "      <td>TED2006</td>\n",
       "      <td>David Pogue</td>\n",
       "      <td>Technology columnist</td>\n",
       "      <td>['computers', 'entertainment', 'interface desi...</td>\n",
       "      <td>Simplicity sells</td>\n",
       "      <td>(Music: \"The Sound of Silence,\" Simon &amp; Garfun...</td>\n",
       "      <td>2006-02-24 00:00:00</td>\n",
       "      <td>2006-06-27 00:11:00</td>\n",
       "      <td>...</td>\n",
       "      <td>0.454932</td>\n",
       "      <td>0.028315</td>\n",
       "      <td>0.186409</td>\n",
       "      <td>0.164700</td>\n",
       "      <td>505</td>\n",
       "      <td>TED</td>\n",
       "      <td>0.165644</td>\n",
       "      <td>Funny</td>\n",
       "      <td>2119</td>\n",
       "      <td>157</td>\n",
       "    </tr>\n",
       "  </tbody>\n",
       "</table>\n",
       "<p>3 rows × 30 columns</p>\n",
       "</div>"
      ],
      "text/plain": [
       "                                             description  duration    event  \\\n",
       "index                                                                         \n",
       "0      Sir Ken Robinson makes an entertaining and pro...      1164  TED2006   \n",
       "1      With the same humor and humanity he exuded in ...       977  TED2006   \n",
       "2      New York Times columnist David Pogue takes aim...      1286  TED2006   \n",
       "\n",
       "       main_speaker    speaker_occupation  \\\n",
       "index                                       \n",
       "0      Ken Robinson       Author/educator   \n",
       "1           Al Gore      Climate advocate   \n",
       "2       David Pogue  Technology columnist   \n",
       "\n",
       "                                                    tags  \\\n",
       "index                                                      \n",
       "0      ['children', 'creativity', 'culture', 'dance',...   \n",
       "1      ['alternative energy', 'cars', 'climate change...   \n",
       "2      ['computers', 'entertainment', 'interface desi...   \n",
       "\n",
       "                             title  \\\n",
       "index                                \n",
       "0      Do schools kill creativity?   \n",
       "1      Averting the climate crisis   \n",
       "2                 Simplicity sells   \n",
       "\n",
       "                                              transcript       film_datestamp  \\\n",
       "index                                                                           \n",
       "0      Good morning. How are you?(Laughter)It's been ...  2006-02-25 00:00:00   \n",
       "1      Thank you so much, Chris. And it's truly a gre...  2006-02-25 00:00:00   \n",
       "2      (Music: \"The Sound of Silence,\" Simon & Garfun...  2006-02-24 00:00:00   \n",
       "\n",
       "             pub_datestamp  ...     Funny  Beautiful  Informative  \\\n",
       "index                       ...                                     \n",
       "0      2006-06-27 00:11:00  ...  0.398027   0.092653     0.148837   \n",
       "1      2006-06-27 00:11:00  ...  0.302727   0.032276     0.246522   \n",
       "2      2006-06-27 00:11:00  ...  0.454932   0.028315     0.186409   \n",
       "\n",
       "       Fascinating  Inspiring  event_type   BadTalk  Max_rating  \\\n",
       "index                                                             \n",
       "0         0.337426      38881         TED  0.023057       Funny   \n",
       "1         0.104619        820         TED  0.313856     BadTalk   \n",
       "2         0.164700        505         TED  0.165644       Funny   \n",
       "\n",
       "       ratings_total  word_per_min  \n",
       "index                               \n",
       "0              49356           163  \n",
       "1               1797           127  \n",
       "2               2119           157  \n",
       "\n",
       "[3 rows x 30 columns]"
      ]
     },
     "execution_count": 231,
     "metadata": {},
     "output_type": "execute_result"
    }
   ],
   "source": [
    "print ('Shape is', df_clean.shape)\n",
    "df_clean.head(3)"
   ]
  },
  {
   "cell_type": "markdown",
   "metadata": {},
   "source": [
    "# Parse Tags"
   ]
  },
  {
   "cell_type": "code",
   "execution_count": 232,
   "metadata": {},
   "outputs": [],
   "source": [
    "df_clean.tags = df_clean.tags.apply(str2list)"
   ]
  },
  {
   "cell_type": "code",
   "execution_count": 233,
   "metadata": {},
   "outputs": [],
   "source": [
    "tags_all = df_clean.tags\n",
    "tag_dict = {}"
   ]
  },
  {
   "cell_type": "code",
   "execution_count": 234,
   "metadata": {},
   "outputs": [],
   "source": [
    "for ls_tags in tags_all:\n",
    "    for tag in ls_tags:\n",
    "        if tag in tag_dict:\n",
    "            tag_dict[tag] = tag_dict[tag]+1\n",
    "        else:\n",
    "            tag_dict[tag] = 0\n"
   ]
  },
  {
   "cell_type": "code",
   "execution_count": 235,
   "metadata": {},
   "outputs": [
    {
     "name": "stdout",
     "output_type": "stream",
     "text": [
      "We have 416 unique tags assigned to all the talks\n"
     ]
    }
   ],
   "source": [
    "print ('We have %d unique tags assigned to all the talks'%len(tag_dict))"
   ]
  },
  {
   "cell_type": "code",
   "execution_count": 236,
   "metadata": {
    "scrolled": true
   },
   "outputs": [
    {
     "data": {
      "text/plain": [
       "<matplotlib.axes._subplots.AxesSubplot at 0x1d4ae7c0e48>"
      ]
     },
     "execution_count": 236,
     "metadata": {},
     "output_type": "execute_result"
    },
    {
     "data": {
      "image/png": "[encoded data removed]",
      "text/plain": [
       "<Figure size 432x288 with 1 Axes>"
      ]
     },
     "metadata": {
      "needs_background": "light"
     },
     "output_type": "display_data"
    }
   ],
   "source": [
    "pd.Series(tag_dict).sort_values(ascending = False)[0:10].plot.bar(title = 'Most Common Tags')"
   ]
  },
  {
   "cell_type": "markdown",
   "metadata": {},
   "source": [
    " We will try to see whether a particular tag is indicative of different ratings"
   ]
  },
  {
   "cell_type": "code",
   "execution_count": 237,
   "metadata": {},
   "outputs": [
    {
     "data": {
      "text/plain": [
       "Index(['description', 'duration', 'event', 'main_speaker',\n",
       "       'speaker_occupation', 'tags', 'title', 'transcript', 'film_datestamp',\n",
       "       'pub_datestamp', 'sentence_count', 'word_count', 'applause', 'laughter',\n",
       "       'music', 'cheering', 'sighs', 'singing', 'video', 'audio', 'Funny',\n",
       "       'Beautiful', 'Informative', 'Fascinating', 'Inspiring', 'event_type',\n",
       "       'BadTalk', 'Max_rating', 'ratings_total', 'word_per_min'],\n",
       "      dtype='object')"
      ]
     },
     "execution_count": 237,
     "metadata": {},
     "output_type": "execute_result"
    }
   ],
   "source": [
    "df_clean.columns"
   ]
  },
  {
   "cell_type": "code",
   "execution_count": null,
   "metadata": {},
   "outputs": [],
   "source": []
  },
  {
   "cell_type": "code",
   "execution_count": 238,
   "metadata": {},
   "outputs": [],
   "source": [
    "# Create Binary columns for top tags\n",
    "df_clean['tag_technology'] = ['tag_technology' in ls for ls in df_clean.tags]\n",
    "df_clean['tag_science'] = ['tag_science' in ls for ls in df_clean.tags]\n",
    "df_clean['tag_global issues'] = ['tag_global issues' in ls for ls in df_clean.tags]\n",
    "df_clean['tag_culture'] = ['tag_culture' in ls for ls in df_clean.tags]\n",
    "df_clean['tag_design'] = ['tag_design' in ls for ls in df_clean.tags]\n",
    "df_clean['tag_business'] = ['tag_business' in ls for ls in df_clean.tags]\n",
    "df_clean['tag_entertainment'] = ['tag_entertainment' in ls for ls in df_clean.tags]"
   ]
  },
  {
   "cell_type": "markdown",
   "metadata": {},
   "source": [
    "## Hypothesis Testing"
   ]
  },
  {
   "cell_type": "markdown",
   "metadata": {},
   "source": [
    "We would like to see if talks with each of the tags score differently compared to talks without the tag for each of our rating of interest. In other words, we would like to ask the following questions\n"
   ]
  },
  {
   "cell_type": "markdown",
   "metadata": {},
   "source": [
    "Q1 : Are talks with tag 'technology' score differently compared to talks without this tag on the rating 'Informative'? \n",
    "\n",
    "Null Hypotheis : Talks with and without 'technology' tag score similar on 'Informative\n",
    "\n",
    "Alt Hypotheis : Two groups are different"
   ]
  },
  {
   "cell_type": "code",
   "execution_count": 239,
   "metadata": {},
   "outputs": [],
   "source": [
    "tech = df_clean[df_clean['tag_technology'] == True]\n",
    "non_tech = df_clean[df_clean['tag_technology'] != True]"
   ]
  },
  {
   "cell_type": "code",
   "execution_count": 240,
   "metadata": {},
   "outputs": [
    {
     "name": "stdout",
     "output_type": "stream",
     "text": [
      "Talks with technology tag have average 'Informative' rating of 0.3091382695375263\n",
      "Talks without technology tag have average 'Informative' rating of 0.3051461304647752\n"
     ]
    }
   ],
   "source": [
    "# The mean rating for each is\n",
    "print ('Talks with technology tag have average \\'Informative\\' rating of', tech.Informative.mean())\n",
    "print ('Talks without technology tag have average \\'Informative\\' rating of', non_tech.Informative.mean())"
   ]
  },
  {
   "cell_type": "code",
   "execution_count": 241,
   "metadata": {},
   "outputs": [
    {
     "data": {
      "text/plain": [
       "Ttest_indResult(statistic=0.5346696330041699, pvalue=0.592961883728399)"
      ]
     },
     "execution_count": 241,
     "metadata": {},
     "output_type": "execute_result"
    }
   ],
   "source": [
    "# Performing a t-test to chcek if the differences are statistically significant\n",
    "from scipy.stats import ttest_ind\n",
    "test_res = ttest_ind(tech.Informative, non_tech.Informative, equal_var = False)\n",
    "\n",
    "test_res"
   ]
  },
  {
   "cell_type": "code",
   "execution_count": 242,
   "metadata": {
    "scrolled": true
   },
   "outputs": [
    {
     "data": {
      "text/plain": [
       "<matplotlib.axes._subplots.AxesSubplot at 0x1d4ac3d6ec8>"
      ]
     },
     "execution_count": 242,
     "metadata": {},
     "output_type": "execute_result"
    },
    {
     "data": {
      "image/png": "[encoded data removed]",
      "text/plain": [
       "<Figure size 432x288 with 1 Axes>"
      ]
     },
     "metadata": {
      "needs_background": "light"
     },
     "output_type": "display_data"
    }
   ],
   "source": [
    "df_clean.boxplot('Informative', 'tag_technology', grid = False)"
   ]
  },
  {
   "cell_type": "markdown",
   "metadata": {},
   "source": [
    "As can be seen from the test, we see that talks which have 'technology' as tag scored higher on 'Informative' ratings compared to those without this. In other words, we reject null hypotheis. \n",
    "Lets similarly ask other questions\n",
    "\n",
    "Q2 : Do talks with tag 'design' score differently on 'inspiring' compared to talks without?\n"
   ]
  },
  {
   "cell_type": "code",
   "execution_count": 243,
   "metadata": {},
   "outputs": [
    {
     "name": "stdout",
     "output_type": "stream",
     "text": [
      "Talks with design tag have average 'Inspiring' rating of 583.1377245508982\n",
      "Talks without design tag have average 'Inspiring' rating of 1081.874240583232\n"
     ]
    }
   ],
   "source": [
    "design = df_clean[df_clean['tag_design'] == True]\n",
    "non_design = df_clean[df_clean['tag_design'] != True]\n",
    "# Calculate mean ratings\n",
    "print ('Talks with design tag have average \\'Inspiring\\' rating of', tech.Inspiring.mean())\n",
    "print ('Talks without design tag have average \\'Inspiring\\' rating of', non_tech.Inspiring.mean())"
   ]
  },
  {
   "cell_type": "code",
   "execution_count": 244,
   "metadata": {
    "scrolled": true
   },
   "outputs": [
    {
     "data": {
      "text/plain": [
       "Ttest_indResult(statistic=-8.273417923390406, pvalue=2.282130007298281e-16)"
      ]
     },
     "execution_count": 244,
     "metadata": {},
     "output_type": "execute_result"
    }
   ],
   "source": [
    "# Check statistical significance\n",
    "test_res = ttest_ind(design.Inspiring, non_design.Inspiring, equal_var = False)\n",
    "test_res"
   ]
  },
  {
   "cell_type": "code",
   "execution_count": 245,
   "metadata": {},
   "outputs": [
    {
     "data": {
      "text/plain": [
       "<matplotlib.axes._subplots.AxesSubplot at 0x1d4aea054c8>"
      ]
     },
     "execution_count": 245,
     "metadata": {},
     "output_type": "execute_result"
    },
    {
     "data": {
      "image/png": "[encoded data removed]",
      "text/plain": [
       "<Figure size 432x288 with 1 Axes>"
      ]
     },
     "metadata": {
      "needs_background": "light"
     },
     "output_type": "display_data"
    }
   ],
   "source": [
    "df_clean.boxplot('Inspiring', 'tag_design', grid = False)\n",
    "# plt.title ('BoxPlot, \\'Inspiring\\' rating by tag_design')"
   ]
  },
  {
   "cell_type": "markdown",
   "metadata": {},
   "source": [
    "We see that talks without design as tag score higher on 'Inspiring' than those with. This is counterintuitive"
   ]
  },
  {
   "cell_type": "markdown",
   "metadata": {},
   "source": [
    "Finally, we calculate biserial correlation matrix for  all tags and ratings\n"
   ]
  },
  {
   "cell_type": "code",
   "execution_count": 246,
   "metadata": {},
   "outputs": [
    {
     "data": {
      "text/plain": [
       "Index(['description', 'duration', 'event', 'main_speaker',\n",
       "       'speaker_occupation', 'tags', 'title', 'transcript', 'film_datestamp',\n",
       "       'pub_datestamp', 'sentence_count', 'word_count', 'applause', 'laughter',\n",
       "       'music', 'cheering', 'sighs', 'singing', 'video', 'audio', 'Funny',\n",
       "       'Beautiful', 'Informative', 'Fascinating', 'Inspiring', 'event_type',\n",
       "       'BadTalk', 'Max_rating', 'ratings_total', 'word_per_min',\n",
       "       'tag_technology', 'tag_science', 'tag_global issues', 'tag_culture',\n",
       "       'tag_design', 'tag_business', 'tag_entertainment'],\n",
       "      dtype='object')"
      ]
     },
     "execution_count": 246,
     "metadata": {},
     "output_type": "execute_result"
    }
   ],
   "source": [
    "df_clean.columns"
   ]
  },
  {
   "cell_type": "code",
   "execution_count": 248,
   "metadata": {},
   "outputs": [
    {
     "data": {
      "text/html": [
       "<div>\n",
       "<style scoped>\n",
       "    .dataframe tbody tr th:only-of-type {\n",
       "        vertical-align: middle;\n",
       "    }\n",
       "\n",
       "    .dataframe tbody tr th {\n",
       "        vertical-align: top;\n",
       "    }\n",
       "\n",
       "    .dataframe thead th {\n",
       "        text-align: right;\n",
       "    }\n",
       "</style>\n",
       "<table border=\"1\" class=\"dataframe\">\n",
       "  <thead>\n",
       "    <tr style=\"text-align: right;\">\n",
       "      <th></th>\n",
       "      <th>Funny</th>\n",
       "      <th>Beautiful</th>\n",
       "      <th>Informative</th>\n",
       "      <th>Fascinating</th>\n",
       "      <th>Inspiring</th>\n",
       "    </tr>\n",
       "    <tr>\n",
       "      <th>Tags</th>\n",
       "      <th></th>\n",
       "      <th></th>\n",
       "      <th></th>\n",
       "      <th></th>\n",
       "      <th></th>\n",
       "    </tr>\n",
       "  </thead>\n",
       "  <tbody>\n",
       "    <tr>\n",
       "      <td>tag_technology</td>\n",
       "      <td>-0.108184</td>\n",
       "      <td>-0.254732</td>\n",
       "      <td>0.010446</td>\n",
       "      <td>0.344645</td>\n",
       "      <td>-0.110165</td>\n",
       "    </tr>\n",
       "    <tr>\n",
       "      <td>tag_science</td>\n",
       "      <td>-0.075574</td>\n",
       "      <td>-0.192331</td>\n",
       "      <td>0.125275</td>\n",
       "      <td>0.214651</td>\n",
       "      <td>-0.078214</td>\n",
       "    </tr>\n",
       "    <tr>\n",
       "      <td>tag_global issues</td>\n",
       "      <td>-0.160629</td>\n",
       "      <td>-0.049641</td>\n",
       "      <td>0.190344</td>\n",
       "      <td>-0.148319</td>\n",
       "      <td>0.005750</td>\n",
       "    </tr>\n",
       "    <tr>\n",
       "      <td>tag_culture</td>\n",
       "      <td>0.098262</td>\n",
       "      <td>0.043593</td>\n",
       "      <td>-0.082953</td>\n",
       "      <td>-0.122112</td>\n",
       "      <td>0.136050</td>\n",
       "    </tr>\n",
       "    <tr>\n",
       "      <td>tag_design</td>\n",
       "      <td>-0.008676</td>\n",
       "      <td>-0.046265</td>\n",
       "      <td>-0.192415</td>\n",
       "      <td>0.243157</td>\n",
       "      <td>-0.089412</td>\n",
       "    </tr>\n",
       "    <tr>\n",
       "      <td>tag_business</td>\n",
       "      <td>-0.010206</td>\n",
       "      <td>-0.167521</td>\n",
       "      <td>0.167685</td>\n",
       "      <td>-0.053642</td>\n",
       "      <td>0.092172</td>\n",
       "    </tr>\n",
       "    <tr>\n",
       "      <td>tag_entertainment</td>\n",
       "      <td>0.318240</td>\n",
       "      <td>0.103080</td>\n",
       "      <td>-0.305236</td>\n",
       "      <td>-0.031602</td>\n",
       "      <td>-0.012502</td>\n",
       "    </tr>\n",
       "  </tbody>\n",
       "</table>\n",
       "</div>"
      ],
      "text/plain": [
       "                      Funny  Beautiful  Informative  Fascinating  Inspiring\n",
       "Tags                                                                       \n",
       "tag_technology    -0.108184  -0.254732     0.010446     0.344645  -0.110165\n",
       "tag_science       -0.075574  -0.192331     0.125275     0.214651  -0.078214\n",
       "tag_global issues -0.160629  -0.049641     0.190344    -0.148319   0.005750\n",
       "tag_culture        0.098262   0.043593    -0.082953    -0.122112   0.136050\n",
       "tag_design        -0.008676  -0.046265    -0.192415     0.243157  -0.089412\n",
       "tag_business      -0.010206  -0.167521     0.167685    -0.053642   0.092172\n",
       "tag_entertainment  0.318240   0.103080    -0.305236    -0.031602  -0.012502"
      ]
     },
     "execution_count": 248,
     "metadata": {},
     "output_type": "execute_result"
    }
   ],
   "source": [
    "from scipy.stats import pointbiserialr\n",
    "\n",
    "tag_list = ['tag_technology','tag_science','tag_global issues','tag_culture','tag_design','tag_business', \n",
    "            'tag_entertainment']\n",
    "rating_list = [ 'Funny', 'Beautiful', 'Informative', 'Fascinating', 'Inspiring']\n",
    "# rating_list = ['Funny','Beautiful', 'Ingenious', 'Courageous', 'Confusing', 'Informative',\n",
    "#        'Fascinating', 'Unconvincing', 'OK', 'Inspiring']\n",
    "biserial_dict = {}\n",
    "biserial_dict['Tags'] = tag_list\n",
    "for rating in rating_list:\n",
    "    biserial_dict[rating] = []\n",
    "    for tag in tag_list:\n",
    "        biserial_corr = pointbiserialr(df_clean[tag], df_clean[rating])\n",
    "        biserial_dict[rating].append(biserial_corr[0])\n",
    "\n",
    "# pd.dataframe(biserial_dict)\n",
    "corr_df = pd.DataFrame(biserial_dict).set_index('Tags')   \n",
    "corr_df"
   ]
  },
  {
   "cell_type": "code",
   "execution_count": 249,
   "metadata": {
    "scrolled": true
   },
   "outputs": [
    {
     "data": {
      "text/plain": [
       "<matplotlib.axes._subplots.AxesSubplot at 0x1d4aeb0e508>"
      ]
     },
     "execution_count": 249,
     "metadata": {},
     "output_type": "execute_result"
    },
    {
     "data": {
      "image/png": "[encoded data removed]",
      "text/plain": [
       "<Figure size 720x360 with 2 Axes>"
      ]
     },
     "metadata": {
      "needs_background": "light"
     },
     "output_type": "display_data"
    }
   ],
   "source": [
    "_ = plt.figure(figsize = (10,5))\n",
    "_ = plt.title(\"Heatmap of Point-Biserial Correlation between tags and ratings\")\n",
    "sns.heatmap(corr_df, annot = True)"
   ]
  },
  {
   "cell_type": "markdown",
   "metadata": {},
   "source": [
    "## Conclusion"
   ]
  },
  {
   "cell_type": "markdown",
   "metadata": {},
   "source": [
    "As we can see we can use statistical methods to get useful insights into our data. We see that the tag 'technology' is correlated to 'Fascinating'. Similarly, 'Global Issues' is correlated to 'Inspiring'. Unexpected result is the negative correlation between 'science' and 'inspiring'. Tag 'entertainment' has strong positive correlation to 'Funny' and negative correlation to 'Informative' "
   ]
  },
  {
   "cell_type": "markdown",
   "metadata": {},
   "source": [
    "Finally, lets drop the extra columns and get ready for applying machine learning to the data"
   ]
  },
  {
   "cell_type": "code",
   "execution_count": 250,
   "metadata": {},
   "outputs": [],
   "source": [
    "# Keep the three ratings of interest and drop the rest\n",
    "# Keep the following ratings : Inspiring, Informative and Funny\n",
    "# df_clean.drop(['Beautiful', 'Ingenious', 'Courageous', 'Confusing', \n",
    "#        'Fascinating', 'Unconvincing', 'OK'], axis = 1, inplace = True)"
   ]
  },
  {
   "cell_type": "code",
   "execution_count": 251,
   "metadata": {},
   "outputs": [],
   "source": [
    "# Write to file\n",
    "df_clean.to_csv('After_StatisticalAnalysis.csv')"
   ]
  },
  {
   "cell_type": "code",
   "execution_count": null,
   "metadata": {},
   "outputs": [],
   "source": []
  },
  {
   "cell_type": "code",
   "execution_count": null,
   "metadata": {},
   "outputs": [],
   "source": []
  },
  {
   "cell_type": "code",
   "execution_count": null,
   "metadata": {},
   "outputs": [],
   "source": []
  },
  {
   "cell_type": "code",
   "execution_count": null,
   "metadata": {},
   "outputs": [],
   "source": []
  },
  {
   "cell_type": "code",
   "execution_count": null,
   "metadata": {},
   "outputs": [],
   "source": []
  },
  {
   "cell_type": "code",
   "execution_count": null,
   "metadata": {},
   "outputs": [],
   "source": []
  },
  {
   "cell_type": "code",
   "execution_count": null,
   "metadata": {},
   "outputs": [],
   "source": []
  },
  {
   "cell_type": "code",
   "execution_count": null,
   "metadata": {},
   "outputs": [],
   "source": []
  }
 ],
 "metadata": {
  "kernelspec": {
   "display_name": "Python 3",
   "language": "python",
   "name": "python3"
  },
  "language_info": {
   "codemirror_mode": {
    "name": "ipython",
    "version": 3
   },
   "file_extension": ".py",
   "mimetype": "text/x-python",
   "name": "python",
   "nbconvert_exporter": "python",
   "pygments_lexer": "ipython3",
   "version": "3.7.4"
  }
 },
 "nbformat": 4,
 "nbformat_minor": 2
}
