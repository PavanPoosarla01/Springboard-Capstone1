{
 "cells": [
  {
   "cell_type": "markdown",
   "metadata": {},
   "source": [
    "# Capstone 1 : Modelling"
   ]
  },
  {
   "cell_type": "markdown",
   "metadata": {},
   "source": [
    "In this section, we will apply ML techniques to the transcript and the features we extracted to predict the ratings"
   ]
  },
  {
   "cell_type": "code",
   "execution_count": 40,
   "metadata": {},
   "outputs": [
    {
     "name": "stderr",
     "output_type": "stream",
     "text": [
      "[nltk_data] Downloading package stopwords to C:\\Users\\Pavan\n",
      "[nltk_data]     Anirudh\\AppData\\Roaming\\nltk_data...\n",
      "[nltk_data]   Package stopwords is already up-to-date!\n"
     ]
    }
   ],
   "source": [
    "# imports\n",
    "import numpy as np\n",
    "import matplotlib.pyplot as plt\n",
    "import pandas as pd\n",
    "import seaborn as sns\n",
    "\n",
    "# Import NLP Modules\n",
    "import spacy\n",
    "import nltk\n",
    "import re\n",
    "import unicodedata\n",
    "from nltk.corpus import stopwords\n",
    "from nltk.stem import WordNetLemmatizer\n",
    "nltk.download('stopwords')\n",
    "\n",
    "from sklearn.model_selection import train_test_split\n",
    "from sklearn.linear_model import LogisticRegression\n",
    "from sklearn.naive_bayes import MultinomialNB\n",
    "from sklearn.metrics import balanced_accuracy_score\n",
    "from sklearn.metrics import accuracy_score\n"
   ]
  },
  {
   "cell_type": "code",
   "execution_count": 41,
   "metadata": {
    "scrolled": true
   },
   "outputs": [
    {
     "data": {
      "text/html": [
       "<div>\n",
       "<style scoped>\n",
       "    .dataframe tbody tr th:only-of-type {\n",
       "        vertical-align: middle;\n",
       "    }\n",
       "\n",
       "    .dataframe tbody tr th {\n",
       "        vertical-align: top;\n",
       "    }\n",
       "\n",
       "    .dataframe thead th {\n",
       "        text-align: right;\n",
       "    }\n",
       "</style>\n",
       "<table border=\"1\" class=\"dataframe\">\n",
       "  <thead>\n",
       "    <tr style=\"text-align: right;\">\n",
       "      <th></th>\n",
       "      <th>description</th>\n",
       "      <th>duration</th>\n",
       "      <th>event</th>\n",
       "      <th>main_speaker</th>\n",
       "      <th>speaker_occupation</th>\n",
       "      <th>tags</th>\n",
       "      <th>title</th>\n",
       "      <th>transcript</th>\n",
       "      <th>film_datestamp</th>\n",
       "      <th>pub_datestamp</th>\n",
       "      <th>...</th>\n",
       "      <th>word_per_min</th>\n",
       "      <th>tag_technology</th>\n",
       "      <th>tag_science</th>\n",
       "      <th>tag_global issues</th>\n",
       "      <th>tag_culture</th>\n",
       "      <th>tag_design</th>\n",
       "      <th>tag_business</th>\n",
       "      <th>tag_entertainment</th>\n",
       "      <th>clean_transcript</th>\n",
       "      <th>MaxRating_Class</th>\n",
       "    </tr>\n",
       "    <tr>\n",
       "      <th>index</th>\n",
       "      <th></th>\n",
       "      <th></th>\n",
       "      <th></th>\n",
       "      <th></th>\n",
       "      <th></th>\n",
       "      <th></th>\n",
       "      <th></th>\n",
       "      <th></th>\n",
       "      <th></th>\n",
       "      <th></th>\n",
       "      <th></th>\n",
       "      <th></th>\n",
       "      <th></th>\n",
       "      <th></th>\n",
       "      <th></th>\n",
       "      <th></th>\n",
       "      <th></th>\n",
       "      <th></th>\n",
       "      <th></th>\n",
       "      <th></th>\n",
       "      <th></th>\n",
       "    </tr>\n",
       "  </thead>\n",
       "  <tbody>\n",
       "    <tr>\n",
       "      <td>0</td>\n",
       "      <td>Sir Ken Robinson makes an entertaining and pro...</td>\n",
       "      <td>1164</td>\n",
       "      <td>TED2006</td>\n",
       "      <td>Ken Robinson</td>\n",
       "      <td>Author/educator</td>\n",
       "      <td>['tag_children', 'tag_creativity', 'tag_cultur...</td>\n",
       "      <td>Do schools kill creativity?</td>\n",
       "      <td>Good morning. How are you?(Laughter)It's been ...</td>\n",
       "      <td>2006-02-25 00:00:00</td>\n",
       "      <td>2006-06-27 00:11:00</td>\n",
       "      <td>...</td>\n",
       "      <td>163</td>\n",
       "      <td>False</td>\n",
       "      <td>False</td>\n",
       "      <td>False</td>\n",
       "      <td>True</td>\n",
       "      <td>False</td>\n",
       "      <td>False</td>\n",
       "      <td>False</td>\n",
       "      <td>Good morning  How are you It is been great  ha...</td>\n",
       "      <td>5</td>\n",
       "    </tr>\n",
       "    <tr>\n",
       "      <td>1</td>\n",
       "      <td>With the same humor and humanity he exuded in ...</td>\n",
       "      <td>977</td>\n",
       "      <td>TED2006</td>\n",
       "      <td>Al Gore</td>\n",
       "      <td>Climate advocate</td>\n",
       "      <td>['tag_alternative energy', 'tag_cars', 'tag_cl...</td>\n",
       "      <td>Averting the climate crisis</td>\n",
       "      <td>Thank you so much, Chris. And it's truly a gre...</td>\n",
       "      <td>2006-02-25 00:00:00</td>\n",
       "      <td>2006-06-27 00:11:00</td>\n",
       "      <td>...</td>\n",
       "      <td>127</td>\n",
       "      <td>True</td>\n",
       "      <td>True</td>\n",
       "      <td>True</td>\n",
       "      <td>True</td>\n",
       "      <td>False</td>\n",
       "      <td>False</td>\n",
       "      <td>False</td>\n",
       "      <td>Thank you so much  Chris  And it is truly a gr...</td>\n",
       "      <td>2</td>\n",
       "    </tr>\n",
       "  </tbody>\n",
       "</table>\n",
       "<p>2 rows × 39 columns</p>\n",
       "</div>"
      ],
      "text/plain": [
       "                                             description  duration    event  \\\n",
       "index                                                                         \n",
       "0      Sir Ken Robinson makes an entertaining and pro...      1164  TED2006   \n",
       "1      With the same humor and humanity he exuded in ...       977  TED2006   \n",
       "\n",
       "       main_speaker speaker_occupation  \\\n",
       "index                                    \n",
       "0      Ken Robinson    Author/educator   \n",
       "1           Al Gore   Climate advocate   \n",
       "\n",
       "                                                    tags  \\\n",
       "index                                                      \n",
       "0      ['tag_children', 'tag_creativity', 'tag_cultur...   \n",
       "1      ['tag_alternative energy', 'tag_cars', 'tag_cl...   \n",
       "\n",
       "                             title  \\\n",
       "index                                \n",
       "0      Do schools kill creativity?   \n",
       "1      Averting the climate crisis   \n",
       "\n",
       "                                              transcript       film_datestamp  \\\n",
       "index                                                                           \n",
       "0      Good morning. How are you?(Laughter)It's been ...  2006-02-25 00:00:00   \n",
       "1      Thank you so much, Chris. And it's truly a gre...  2006-02-25 00:00:00   \n",
       "\n",
       "             pub_datestamp  ...  word_per_min  tag_technology  tag_science  \\\n",
       "index                       ...                                              \n",
       "0      2006-06-27 00:11:00  ...           163           False        False   \n",
       "1      2006-06-27 00:11:00  ...           127            True         True   \n",
       "\n",
       "       tag_global issues  tag_culture  tag_design  tag_business  \\\n",
       "index                                                             \n",
       "0                  False         True       False         False   \n",
       "1                   True         True       False         False   \n",
       "\n",
       "       tag_entertainment                                   clean_transcript  \\\n",
       "index                                                                         \n",
       "0                  False  Good morning  How are you It is been great  ha...   \n",
       "1                  False  Thank you so much  Chris  And it is truly a gr...   \n",
       "\n",
       "       MaxRating_Class  \n",
       "index                   \n",
       "0                    5  \n",
       "1                    2  \n",
       "\n",
       "[2 rows x 39 columns]"
      ]
     },
     "execution_count": 41,
     "metadata": {},
     "output_type": "execute_result"
    }
   ],
   "source": [
    "# Load data for modelling\n",
    "df_clean = pd.read_csv('../data/processed/DataforModelling.csv', index_col = 0)\n",
    "df_clean.index.name = \"index\"\n",
    "df_clean.head(2)"
   ]
  },
  {
   "cell_type": "code",
   "execution_count": 42,
   "metadata": {},
   "outputs": [],
   "source": [
    "# Create class mapping\n",
    "class_dict = ({'Fascinating': 1, 'BadTalk': 2, 'Beautiful':3,'Informative':4, 'Funny':5})\n"
   ]
  },
  {
   "cell_type": "code",
   "execution_count": 43,
   "metadata": {},
   "outputs": [
    {
     "data": {
      "text/plain": [
       "Text(0, 0.5, 'Number of talks')"
      ]
     },
     "execution_count": 43,
     "metadata": {},
     "output_type": "execute_result"
    },
    {
     "data": {
      "image/png": "[encoded data removed]",
      "text/plain": [
       "<Figure size 432x288 with 1 Axes>"
      ]
     },
     "metadata": {
      "needs_background": "light"
     },
     "output_type": "display_data"
    }
   ],
   "source": [
    "df_clean.Max_rating.hist()\n",
    "plt.title('Distribution of talks by the popular rating')\n",
    "plt.xlabel('Rating')\n",
    "plt.ylabel('Number of talks')"
   ]
  },
  {
   "cell_type": "code",
   "execution_count": 44,
   "metadata": {},
   "outputs": [
    {
     "data": {
      "text/plain": [
       "Index(['description', 'duration', 'event', 'main_speaker',\n",
       "       'speaker_occupation', 'tags', 'title', 'transcript', 'film_datestamp',\n",
       "       'pub_datestamp', 'sentence_count', 'word_count', 'applause', 'laughter',\n",
       "       'music', 'cheering', 'sighs', 'singing', 'video', 'audio', 'Funny',\n",
       "       'Beautiful', 'Informative', 'Fascinating', 'Inspiring', 'event_type',\n",
       "       'BadTalk', 'Max_rating', 'ratings_total', 'word_per_min',\n",
       "       'tag_technology', 'tag_science', 'tag_global issues', 'tag_culture',\n",
       "       'tag_design', 'tag_business', 'tag_entertainment', 'clean_transcript',\n",
       "       'MaxRating_Class'],\n",
       "      dtype='object')"
      ]
     },
     "execution_count": 44,
     "metadata": {},
     "output_type": "execute_result"
    }
   ],
   "source": [
    "df_clean.columns"
   ]
  },
  {
   "cell_type": "code",
   "execution_count": 45,
   "metadata": {},
   "outputs": [
    {
     "data": {
      "text/plain": [
       "(2314, 39)"
      ]
     },
     "execution_count": 45,
     "metadata": {},
     "output_type": "execute_result"
    }
   ],
   "source": [
    "df_clean.shape"
   ]
  },
  {
   "cell_type": "markdown",
   "metadata": {},
   "source": [
    "### Assemble feature vector"
   ]
  },
  {
   "cell_type": "markdown",
   "metadata": {},
   "source": [
    "We will make a feature matrix by combining the word count matrix and the metadata matrix "
   ]
  },
  {
   "cell_type": "code",
   "execution_count": 46,
   "metadata": {},
   "outputs": [],
   "source": [
    "# Define predictors and other rating vectors\n",
    "y_Funny = df_clean[['Funny']]\n",
    "y_Informative = df_clean[['Informative']]\n",
    "y_Inspiring = df_clean[['Inspiring']]\n",
    "\n",
    "y_MaxRating = df_clean[['MaxRating_Class']].to_numpy(dtype = int)"
   ]
  },
  {
   "cell_type": "code",
   "execution_count": 47,
   "metadata": {},
   "outputs": [
    {
     "data": {
      "text/plain": [
       "(2314, 19)"
      ]
     },
     "execution_count": 47,
     "metadata": {},
     "output_type": "execute_result"
    }
   ],
   "source": [
    "# Define metadata fields\n",
    "X_metadata = df_clean[['duration', 'sentence_count', 'word_count', 'applause', 'laughter',\n",
    "       'music', 'cheering', 'sighs', 'singing', 'video', 'audio', 'event_type', 'ratings_total',\n",
    "       'word_per_min', 'tag_technology', 'tag_science', 'tag_global issues',\n",
    "       'tag_culture', 'tag_design']]\n",
    "X_metadata.shape"
   ]
  },
  {
   "cell_type": "code",
   "execution_count": 48,
   "metadata": {},
   "outputs": [],
   "source": [
    "event_onehot = pd.get_dummies(X_metadata.event_type,prefix='event')"
   ]
  },
  {
   "cell_type": "code",
   "execution_count": 49,
   "metadata": {},
   "outputs": [
    {
     "data": {
      "text/plain": [
       "(2314, 27)"
      ]
     },
     "execution_count": 49,
     "metadata": {},
     "output_type": "execute_result"
    }
   ],
   "source": [
    "X_metadata_new = X_metadata.join(event_onehot)\n",
    "X_metadata_new.drop(columns = ['event_type'], inplace = True)\n",
    "X_metadata_new.shape"
   ]
  },
  {
   "cell_type": "code",
   "execution_count": 50,
   "metadata": {},
   "outputs": [],
   "source": [
    "from scipy import sparse\n",
    "metadata_np = X_metadata_new.to_numpy(dtype = float)\n",
    "metadata_sparse = sparse.csr_matrix(metadata_np)"
   ]
  },
  {
   "cell_type": "code",
   "execution_count": 51,
   "metadata": {},
   "outputs": [],
   "source": [
    "from sklearn.feature_extraction.text import CountVectorizer\n",
    "# vectorizer_predict = CountVectorizer(stop_words = stopwords.words('english'), min_df = 0.01, max_df = 0.98)\n",
    "vectorizer = CountVectorizer(stop_words = stopwords.words('english'), min_df = 0.01)"
   ]
  },
  {
   "cell_type": "code",
   "execution_count": 52,
   "metadata": {},
   "outputs": [],
   "source": [
    "vectorizer.fit(df_clean.clean_transcript)\n",
    "X_transcript = vectorizer.transform(df_clean.clean_transcript)\n"
   ]
  },
  {
   "cell_type": "code",
   "execution_count": 53,
   "metadata": {},
   "outputs": [
    {
     "data": {
      "text/plain": [
       "(2314, 6945)"
      ]
     },
     "execution_count": 53,
     "metadata": {},
     "output_type": "execute_result"
    }
   ],
   "source": [
    "X_transcript.shape"
   ]
  },
  {
   "cell_type": "code",
   "execution_count": 54,
   "metadata": {},
   "outputs": [
    {
     "data": {
      "text/plain": [
       "<2314x6972 sparse matrix of type '<class 'numpy.float64'>'\n",
       "\twith 1007196 stored elements in COOrdinate format>"
      ]
     },
     "execution_count": 54,
     "metadata": {},
     "output_type": "execute_result"
    }
   ],
   "source": [
    "# Combine wordvectorizer matrix and metadata matrix to get the final feature matrix\n",
    "X_features = sparse.hstack((X_transcript, metadata_sparse))\n",
    "X_features"
   ]
  },
  {
   "cell_type": "code",
   "execution_count": 55,
   "metadata": {},
   "outputs": [
    {
     "data": {
      "text/plain": [
       "6944"
      ]
     },
     "execution_count": 55,
     "metadata": {},
     "output_type": "execute_result"
    }
   ],
   "source": [
    "feature_dict_vocab = vectorizer.vocabulary_\n",
    "# feature_dict = feature_dict_vocab\n",
    "word_ix_max = max(feature_dict_vocab.values())\n",
    "word_ix_max"
   ]
  },
  {
   "cell_type": "code",
   "execution_count": 56,
   "metadata": {},
   "outputs": [],
   "source": [
    "feature_dict = dict([[v,k] for k,v in feature_dict_vocab.items()])\n",
    "# for key in feature_dict_vocab \n",
    "for col_name in X_metadata_new.columns:\n",
    "    col_ix = X_metadata_new.columns.get_loc(col_name)\n",
    "    new_key = col_ix +word_ix_max+1\n",
    "    feature_dict[new_key] = 'metadata_'+col_name\n",
    "#     print (new_key , feature_dict[new_key])\n",
    "# feature_dict\n",
    "\n"
   ]
  },
  {
   "cell_type": "code",
   "execution_count": 57,
   "metadata": {},
   "outputs": [
    {
     "data": {
      "text/plain": [
       "index\n",
       "0       223\n",
       "1       141\n",
       "2       250\n",
       "3       179\n",
       "4       236\n",
       "       ... \n",
       "2462     61\n",
       "2463     34\n",
       "2464     72\n",
       "2465    135\n",
       "2466     84\n",
       "Name: sentence_count, Length: 2314, dtype: int64"
      ]
     },
     "execution_count": 57,
     "metadata": {},
     "output_type": "execute_result"
    }
   ],
   "source": [
    "X_metadata_new.iloc[:,1]"
   ]
  },
  {
   "cell_type": "code",
   "execution_count": 58,
   "metadata": {},
   "outputs": [
    {
     "data": {
      "text/plain": [
       "'zoom'"
      ]
     },
     "execution_count": 58,
     "metadata": {},
     "output_type": "execute_result"
    }
   ],
   "source": [
    "max(feature_dict.values())"
   ]
  },
  {
   "cell_type": "code",
   "execution_count": 59,
   "metadata": {},
   "outputs": [
    {
     "data": {
      "text/plain": [
       "array([[<matplotlib.axes._subplots.AxesSubplot object at 0x000002B6428A8F88>]],\n",
       "      dtype=object)"
      ]
     },
     "execution_count": 59,
     "metadata": {},
     "output_type": "execute_result"
    },
    {
     "data": {
      "image/png": "[encoded data removed]",
      "text/plain": [
       "<Figure size 432x288 with 1 Axes>"
      ]
     },
     "metadata": {
      "needs_background": "light"
     },
     "output_type": "display_data"
    }
   ],
   "source": [
    "# Plot the number of talks in each class\n",
    "pd.DataFrame(y_MaxRating).hist()"
   ]
  },
  {
   "cell_type": "markdown",
   "metadata": {},
   "source": [
    "As can be seen, we have unbalanced classes in our dataset. We can overcome this by oversampling the rating groups with fewer number of talks\n"
   ]
  },
  {
   "cell_type": "markdown",
   "metadata": {},
   "source": [
    "### Train Models and Predict"
   ]
  },
  {
   "cell_type": "markdown",
   "metadata": {},
   "source": [
    "The classifiers being tried for prediction on this dataset are\n",
    "1. Logistic Regression\n",
    "2. Support Vector Machine \n",
    "3. Naive Bayes\n",
    "4. Random Forest\n",
    "\n"
   ]
  },
  {
   "cell_type": "code",
   "execution_count": 60,
   "metadata": {},
   "outputs": [],
   "source": [
    "# Create Training and Test split\n",
    "X_train, X_test, y_train, y_test = train_test_split(X_features, (y_MaxRating), test_size = 0.20)"
   ]
  },
  {
   "cell_type": "code",
   "execution_count": 61,
   "metadata": {},
   "outputs": [],
   "source": [
    "# Define FUnction for Cross Validation. \n",
    "from sklearn.metrics import roc_auc_score\n",
    "from sklearn.metrics import accuracy_score\n",
    "\n",
    "def cv_score(clf, x, y, score_func = roc_auc_score):\n",
    "    result = 0\n",
    "    nfold = 3\n",
    "    for train, test in KFold(nfold).split(x): # split data into train/test groups, 5 times\n",
    "        clf.fit(x[train], y[train]) # Fit model\n",
    "        result += score_func(clf.predict(x[test]), y[test], multi_class = 'ovo') # evaluate score function on held-out data\n",
    "        \n",
    "    return result / nfold # average\n",
    "    "
   ]
  },
  {
   "cell_type": "markdown",
   "metadata": {},
   "source": [
    "### 1. Logistic Regression"
   ]
  },
  {
   "cell_type": "code",
   "execution_count": 62,
   "metadata": {},
   "outputs": [],
   "source": [
    "from sklearn.linear_model import LogisticRegression\n",
    "from sklearn.metrics import balanced_accuracy_score"
   ]
  },
  {
   "cell_type": "code",
   "execution_count": 72,
   "metadata": {},
   "outputs": [],
   "source": [
    "y_train = y_train[:,0]"
   ]
  },
  {
   "cell_type": "code",
   "execution_count": 77,
   "metadata": {
    "scrolled": true
   },
   "outputs": [
    {
     "name": "stdout",
     "output_type": "stream",
     "text": [
      "Balanced accuracy score (training)is  1.0\n",
      "Balanced accuracy score (test)is  0.4289231601731601\n"
     ]
    }
   ],
   "source": [
    "lr_clf = LogisticRegression(class_weight = 'balanced', multi_class = 'ovr', C = 1, max_iter= 100, solver = 'newton-cg')\n",
    "# Fit the model on the trainng data.\n",
    "lr_clf.fit(X_train, y_train)\n",
    "y_pred = lr_clf.predict(X_train)\n",
    "\n",
    "# Calculate accuracy score using balanced accuracy scores\n",
    "print ('Balanced accuracy score (training)is ', balanced_accuracy_score(lr_clf.predict(X_train), y_train, adjusted = True))\n",
    "print ('Balanced accuracy score (test)is ', balanced_accuracy_score(lr_clf.predict(X_test), y_test, adjusted = True))\n"
   ]
  },
  {
   "cell_type": "code",
   "execution_count": 78,
   "metadata": {},
   "outputs": [],
   "source": [
    "# Make scorer\n",
    "from sklearn.metrics import fbeta_score, make_scorer\n",
    "bal_acc_scorer = make_scorer(balanced_accuracy_score, adjusted = True)\n",
    "roc_auc_scorer = make_scorer(roc_auc_score)\n",
    "# >>> from sklearn.model_selection import GridSearchCV\n",
    "# >>> from sklearn.svm import LinearSVC"
   ]
  },
  {
   "cell_type": "code",
   "execution_count": 85,
   "metadata": {
    "scrolled": true
   },
   "outputs": [
    {
     "data": {
      "text/plain": [
       "{'mean_fit_time': array([ 9.22391205, 10.25372658, 14.99114237, 16.39345064, 18.93969955,\n",
       "        23.7592001 , 25.06046858, 29.57038016, 35.36656942, 30.0895824 ]),\n",
       " 'std_fit_time': array([0.81426244, 1.02420292, 1.01231214, 0.62346727, 0.41504015,\n",
       "        1.83276694, 1.08197058, 2.23430896, 1.66832852, 5.83886503]),\n",
       " 'mean_score_time': array([0.01249704, 0.00635462, 0.00844297, 0.00651507, 0.0109786 ,\n",
       "        0.00339112, 0.00259953, 0.00478716, 0.00831184, 0.00260363]),\n",
       " 'std_score_time': array([0.00624852, 0.00778461, 0.0062026 , 0.00506487, 0.0071341 ,\n",
       "        0.00279265, 0.00332423, 0.00239358, 0.00640627, 0.0019515 ]),\n",
       " 'param_C': masked_array(data=[1e-05, 3.5938136638046256e-05, 0.0001291549665014884,\n",
       "                    0.0004641588833612782, 0.0016681005372000592,\n",
       "                    0.005994842503189409, 0.021544346900318846,\n",
       "                    0.07742636826811278, 0.2782559402207126, 1.0],\n",
       "              mask=[False, False, False, False, False, False, False, False,\n",
       "                    False, False],\n",
       "        fill_value='?',\n",
       "             dtype=object),\n",
       " 'params': [{'C': 1e-05},\n",
       "  {'C': 3.5938136638046256e-05},\n",
       "  {'C': 0.0001291549665014884},\n",
       "  {'C': 0.0004641588833612782},\n",
       "  {'C': 0.0016681005372000592},\n",
       "  {'C': 0.005994842503189409},\n",
       "  {'C': 0.021544346900318846},\n",
       "  {'C': 0.07742636826811278},\n",
       "  {'C': 0.2782559402207126},\n",
       "  {'C': 1.0}],\n",
       " 'split0_test_score': array([0.26595623, 0.39927801, 0.42535127, 0.46398025, 0.48615216,\n",
       "        0.46639031, 0.4509364 , 0.46228789, 0.4437655 , 0.4437655 ]),\n",
       " 'split1_test_score': array([0.33786446, 0.38101474, 0.4405653 , 0.4518767 , 0.44755849,\n",
       "        0.41758323, 0.41279693, 0.37293323, 0.37640545, 0.36370783]),\n",
       " 'split2_test_score': array([0.28164796, 0.36050738, 0.44022211, 0.46998037, 0.43927991,\n",
       "        0.40012404, 0.38503927, 0.38308614, 0.37603088, 0.36049472]),\n",
       " 'split3_test_score': array([0.275792  , 0.40600487, 0.46379121, 0.47035305, 0.45473812,\n",
       "        0.44455121, 0.41843815, 0.39648503, 0.40262819, 0.40458132]),\n",
       " 'split4_test_score': array([0.28025785, 0.34744313, 0.42876308, 0.4498062 , 0.47941643,\n",
       "        0.48010082, 0.45669651, 0.43423557, 0.40478677, 0.39897281]),\n",
       " 'mean_test_score': array([0.2883037 , 0.37884963, 0.4397386 , 0.46119931, 0.46142902,\n",
       "        0.44174992, 0.42478145, 0.40980557, 0.40072336, 0.39430444]),\n",
       " 'std_test_score': array([0.0253821 , 0.02228102, 0.01346776, 0.0087789 , 0.01823471,\n",
       "        0.02967332, 0.02632854, 0.03347283, 0.02479453, 0.03050591]),\n",
       " 'rank_test_score': array([10,  9,  4,  2,  1,  3,  5,  6,  7,  8])}"
      ]
     },
     "execution_count": 85,
     "metadata": {},
     "output_type": "execute_result"
    }
   ],
   "source": [
    "# Grid Search CV\n",
    "from sklearn.model_selection import GridSearchCV\n",
    "C_ls = np.logspace(-5, 0, num=10)\n",
    "param_grid = {'C':C_ls}\n",
    "clf = GridSearchCV(lr_clf, param_grid, scoring = bal_acc_scorer, n_jobs = -1)\n",
    "clf.fit(X_train, y_train)\n",
    "clf.cv_results_"
   ]
  },
  {
   "cell_type": "code",
   "execution_count": 88,
   "metadata": {},
   "outputs": [
    {
     "name": "stdout",
     "output_type": "stream",
     "text": [
      "Best score is 0.4614290227791564\n",
      "Score on test set is 0.555682380167506\n"
     ]
    }
   ],
   "source": [
    "lr_clf_cvsearch = clf.best_estimator_\n",
    "print ('Best score is', clf.best_score_)\n",
    "print ('Score on test set is', balanced_accuracy_score(lr_clf_cvsearch.predict(X_test), y_test))\n"
   ]
  },
  {
   "cell_type": "code",
   "execution_count": 89,
   "metadata": {},
   "outputs": [
    {
     "name": "stdout",
     "output_type": "stream",
     "text": [
      "Value of C chosen from parameter search is 0.0016681005372000592\n"
     ]
    }
   ],
   "source": [
    "print ('Value of C chosen from parameter search is', lr_clf_cvsearch.get_params()['C'])"
   ]
  },
  {
   "cell_type": "code",
   "execution_count": 92,
   "metadata": {},
   "outputs": [
    {
     "data": {
      "text/plain": [
       "array([[109,   3,   9,  30,  10],\n",
       "       [  8,   3,   7,  16,   0],\n",
       "       [  7,   6,  42,   6,   1],\n",
       "       [ 29,   6,   9, 130,   5],\n",
       "       [  1,   1,   2,   0,  23]], dtype=int64)"
      ]
     },
     "execution_count": 92,
     "metadata": {},
     "output_type": "execute_result"
    }
   ],
   "source": [
    "# Confusion Matrix\n",
    "from sklearn.metrics import confusion_matrix\n",
    "confusion_matrix(y_test, lr_clf_cvsearch.predict(X_test), labels = [1,2,3,4,5])"
   ]
  },
  {
   "cell_type": "markdown",
   "metadata": {},
   "source": [
    "We can see from the confusion matrix that the hardest class to predict for the classifier is class 2, on BadTalk. Most likely this is due to this class being a grouping of several other classes"
   ]
  },
  {
   "cell_type": "code",
   "execution_count": 93,
   "metadata": {},
   "outputs": [
    {
     "name": "stdout",
     "output_type": "stream",
     "text": [
      "              precision    recall  f1-score   support\n",
      "\n",
      "           1       0.71      0.68      0.69       161\n",
      "           2       0.16      0.09      0.11        34\n",
      "           3       0.61      0.68      0.64        62\n",
      "           4       0.71      0.73      0.72       179\n",
      "           5       0.59      0.85      0.70        27\n",
      "\n",
      "    accuracy                           0.66       463\n",
      "   macro avg       0.56      0.60      0.57       463\n",
      "weighted avg       0.65      0.66      0.65       463\n",
      "\n"
     ]
    }
   ],
   "source": [
    "from sklearn.metrics import classification_report\n",
    "print(classification_report(y_test, lr_clf_cvsearch.predict(X_test)))"
   ]
  },
  {
   "cell_type": "code",
   "execution_count": 94,
   "metadata": {},
   "outputs": [
    {
     "data": {
      "text/plain": [
       "{'Fascinating': 1, 'BadTalk': 2, 'Beautiful': 3, 'Informative': 4, 'Funny': 5}"
      ]
     },
     "execution_count": 94,
     "metadata": {},
     "output_type": "execute_result"
    }
   ],
   "source": [
    "class_dict"
   ]
  },
  {
   "cell_type": "code",
   "execution_count": 136,
   "metadata": {},
   "outputs": [
    {
     "name": "stdout",
     "output_type": "stream",
     "text": [
      "Confusion matrix, without normalization\n",
      "[[109   3   9  30  10]\n",
      " [  8   3   7  16   0]\n",
      " [  7   6  42   6   1]\n",
      " [ 29   6   9 130   5]\n",
      " [  1   1   2   0  23]]\n",
      "Normalized confusion matrix\n",
      "[[0.67701863 0.01863354 0.05590062 0.1863354  0.0621118 ]\n",
      " [0.23529412 0.08823529 0.20588235 0.47058824 0.        ]\n",
      " [0.11290323 0.09677419 0.67741935 0.09677419 0.01612903]\n",
      " [0.16201117 0.03351955 0.05027933 0.72625698 0.02793296]\n",
      " [0.03703704 0.03703704 0.07407407 0.         0.85185185]]\n"
     ]
    },
    {
     "data": {
      "image/png": "[encoded data removed]",
      "text/plain": [
       "<Figure size 504x504 with 2 Axes>"
      ]
     },
     "metadata": {
      "needs_background": "light"
     },
     "output_type": "display_data"
    },
    {
     "data": {
      "image/png": "[encoded data removed]",
      "text/plain": [
       "<Figure size 504x504 with 2 Axes>"
      ]
     },
     "metadata": {
      "needs_background": "light"
     },
     "output_type": "display_data"
    }
   ],
   "source": [
    "# Plotting the confusion Matrix\n",
    "from sklearn.metrics import plot_confusion_matrix\n",
    "# Plot non-normalized confusion matrix\n",
    "titles_options = [(\"Confusion matrix, without normalization\", None),\n",
    "                  (\"Normalized confusion matrix\", 'true')]\n",
    "for title, normalize in titles_options:\n",
    "    disp = plot_confusion_matrix(lr_clf_cvsearch, X_test, y_test,\n",
    "                                 display_labels=list(class_dict.keys()),\n",
    "                                 cmap=plt.cm.Blues,\n",
    "                                 normalize=normalize)\n",
    "    disp.ax_.set_title(title)\n",
    "    disp.figure_.set_size_inches((7,7))\n",
    "\n",
    "    print(title)\n",
    "    print(disp.confusion_matrix)\n",
    "\n",
    "plt.show()"
   ]
  },
  {
   "cell_type": "code",
   "execution_count": 96,
   "metadata": {
    "scrolled": false
   },
   "outputs": [
    {
     "ename": "ValueError",
     "evalue": "continuous-multioutput format is not supported",
     "output_type": "error",
     "traceback": [
      "\u001b[1;31m---------------------------------------------------------------------------\u001b[0m",
      "\u001b[1;31mValueError\u001b[0m                                Traceback (most recent call last)",
      "\u001b[1;32m<ipython-input-96-b01826b9b937>\u001b[0m in \u001b[0;36m<module>\u001b[1;34m\u001b[0m\n\u001b[1;32m----> 1\u001b[1;33m \u001b[0mroc_auc_score\u001b[0m\u001b[1;33m(\u001b[0m\u001b[0mlr_clf\u001b[0m\u001b[1;33m.\u001b[0m\u001b[0mpredict_proba\u001b[0m\u001b[1;33m(\u001b[0m\u001b[0mX_train\u001b[0m\u001b[1;33m)\u001b[0m\u001b[1;33m,\u001b[0m\u001b[0my_train\u001b[0m\u001b[1;33m,\u001b[0m  \u001b[0mmulti_class\u001b[0m\u001b[1;33m=\u001b[0m\u001b[1;34m\"ovo\"\u001b[0m\u001b[1;33m,\u001b[0m \u001b[0maverage\u001b[0m\u001b[1;33m=\u001b[0m\u001b[1;34m'macro'\u001b[0m\u001b[1;33m)\u001b[0m\u001b[1;33m\u001b[0m\u001b[1;33m\u001b[0m\u001b[0m\n\u001b[0m",
      "\u001b[1;32mC:\\ProgramData\\Anaconda3\\lib\\site-packages\\sklearn\\metrics\\_ranking.py\u001b[0m in \u001b[0;36mroc_auc_score\u001b[1;34m(y_true, y_score, average, sample_weight, max_fpr, multi_class, labels)\u001b[0m\n\u001b[0;32m    393\u001b[0m                                              max_fpr=max_fpr),\n\u001b[0;32m    394\u001b[0m                                      \u001b[0my_true\u001b[0m\u001b[1;33m,\u001b[0m \u001b[0my_score\u001b[0m\u001b[1;33m,\u001b[0m \u001b[0maverage\u001b[0m\u001b[1;33m,\u001b[0m\u001b[1;33m\u001b[0m\u001b[1;33m\u001b[0m\u001b[0m\n\u001b[1;32m--> 395\u001b[1;33m                                      sample_weight=sample_weight)\n\u001b[0m\u001b[0;32m    396\u001b[0m \u001b[1;33m\u001b[0m\u001b[0m\n\u001b[0;32m    397\u001b[0m \u001b[1;33m\u001b[0m\u001b[0m\n",
      "\u001b[1;32mC:\\ProgramData\\Anaconda3\\lib\\site-packages\\sklearn\\metrics\\_base.py\u001b[0m in \u001b[0;36m_average_binary_score\u001b[1;34m(binary_metric, y_true, y_score, average, sample_weight)\u001b[0m\n\u001b[0;32m     72\u001b[0m     \u001b[0my_type\u001b[0m \u001b[1;33m=\u001b[0m \u001b[0mtype_of_target\u001b[0m\u001b[1;33m(\u001b[0m\u001b[0my_true\u001b[0m\u001b[1;33m)\u001b[0m\u001b[1;33m\u001b[0m\u001b[1;33m\u001b[0m\u001b[0m\n\u001b[0;32m     73\u001b[0m     \u001b[1;32mif\u001b[0m \u001b[0my_type\u001b[0m \u001b[1;32mnot\u001b[0m \u001b[1;32min\u001b[0m \u001b[1;33m(\u001b[0m\u001b[1;34m\"binary\"\u001b[0m\u001b[1;33m,\u001b[0m \u001b[1;34m\"multilabel-indicator\"\u001b[0m\u001b[1;33m)\u001b[0m\u001b[1;33m:\u001b[0m\u001b[1;33m\u001b[0m\u001b[1;33m\u001b[0m\u001b[0m\n\u001b[1;32m---> 74\u001b[1;33m         \u001b[1;32mraise\u001b[0m \u001b[0mValueError\u001b[0m\u001b[1;33m(\u001b[0m\u001b[1;34m\"{0} format is not supported\"\u001b[0m\u001b[1;33m.\u001b[0m\u001b[0mformat\u001b[0m\u001b[1;33m(\u001b[0m\u001b[0my_type\u001b[0m\u001b[1;33m)\u001b[0m\u001b[1;33m)\u001b[0m\u001b[1;33m\u001b[0m\u001b[1;33m\u001b[0m\u001b[0m\n\u001b[0m\u001b[0;32m     75\u001b[0m \u001b[1;33m\u001b[0m\u001b[0m\n\u001b[0;32m     76\u001b[0m     \u001b[1;32mif\u001b[0m \u001b[0my_type\u001b[0m \u001b[1;33m==\u001b[0m \u001b[1;34m\"binary\"\u001b[0m\u001b[1;33m:\u001b[0m\u001b[1;33m\u001b[0m\u001b[1;33m\u001b[0m\u001b[0m\n",
      "\u001b[1;31mValueError\u001b[0m: continuous-multioutput format is not supported"
     ]
    }
   ],
   "source": [
    "roc_auc_score(lr_clf.predict_proba(X_train),y_train,  multi_class=\"ovo\", average='macro')"
   ]
  },
  {
   "cell_type": "markdown",
   "metadata": {},
   "source": [
    "### 2. Naive Bayes Classification"
   ]
  },
  {
   "cell_type": "code",
   "execution_count": 97,
   "metadata": {},
   "outputs": [
    {
     "name": "stdout",
     "output_type": "stream",
     "text": [
      "Balanced accuracy score (training)is  0.5138175598165404\n",
      "Balanced accuracy score (test)is  0.4203960029923242\n"
     ]
    }
   ],
   "source": [
    "from sklearn.naive_bayes import MultinomialNB\n",
    "from sklearn.metrics import balanced_accuracy_score\n",
    "\n",
    "nb = MultinomialNB()\n",
    "nb.fit(X_train, y_train)\n",
    "y_pred = nb.predict(X_test)\n",
    "\n",
    "# Calculate accuracy score using balanced accuracy scores\n",
    "print ('Balanced accuracy score (training)is ', balanced_accuracy_score(nb.predict(X_train), y_train))\n",
    "print ('Balanced accuracy score (test)is ', balanced_accuracy_score(nb.predict(X_test), y_test))\n"
   ]
  },
  {
   "cell_type": "code",
   "execution_count": 98,
   "metadata": {},
   "outputs": [
    {
     "name": "stderr",
     "output_type": "stream",
     "text": [
      "C:\\ProgramData\\Anaconda3\\lib\\site-packages\\sklearn\\metrics\\_classification.py:1859: UserWarning: y_pred contains classes not in y_true\n",
      "  warnings.warn('y_pred contains classes not in y_true')\n",
      "C:\\ProgramData\\Anaconda3\\lib\\site-packages\\sklearn\\metrics\\_classification.py:1859: UserWarning: y_pred contains classes not in y_true\n",
      "  warnings.warn('y_pred contains classes not in y_true')\n",
      "C:\\ProgramData\\Anaconda3\\lib\\site-packages\\sklearn\\metrics\\_classification.py:1859: UserWarning: y_pred contains classes not in y_true\n",
      "  warnings.warn('y_pred contains classes not in y_true')\n",
      "C:\\ProgramData\\Anaconda3\\lib\\site-packages\\sklearn\\metrics\\_classification.py:1859: UserWarning: y_pred contains classes not in y_true\n",
      "  warnings.warn('y_pred contains classes not in y_true')\n",
      "C:\\ProgramData\\Anaconda3\\lib\\site-packages\\sklearn\\metrics\\_classification.py:1859: UserWarning: y_pred contains classes not in y_true\n",
      "  warnings.warn('y_pred contains classes not in y_true')\n",
      "C:\\ProgramData\\Anaconda3\\lib\\site-packages\\sklearn\\metrics\\_classification.py:1859: UserWarning: y_pred contains classes not in y_true\n",
      "  warnings.warn('y_pred contains classes not in y_true')\n",
      "C:\\ProgramData\\Anaconda3\\lib\\site-packages\\sklearn\\metrics\\_classification.py:1859: UserWarning: y_pred contains classes not in y_true\n",
      "  warnings.warn('y_pred contains classes not in y_true')\n",
      "C:\\ProgramData\\Anaconda3\\lib\\site-packages\\sklearn\\metrics\\_classification.py:1859: UserWarning: y_pred contains classes not in y_true\n",
      "  warnings.warn('y_pred contains classes not in y_true')\n",
      "C:\\ProgramData\\Anaconda3\\lib\\site-packages\\sklearn\\metrics\\_classification.py:1859: UserWarning: y_pred contains classes not in y_true\n",
      "  warnings.warn('y_pred contains classes not in y_true')\n",
      "C:\\ProgramData\\Anaconda3\\lib\\site-packages\\sklearn\\metrics\\_classification.py:1859: UserWarning: y_pred contains classes not in y_true\n",
      "  warnings.warn('y_pred contains classes not in y_true')\n",
      "C:\\ProgramData\\Anaconda3\\lib\\site-packages\\sklearn\\metrics\\_classification.py:1859: UserWarning: y_pred contains classes not in y_true\n",
      "  warnings.warn('y_pred contains classes not in y_true')\n",
      "C:\\ProgramData\\Anaconda3\\lib\\site-packages\\sklearn\\metrics\\_classification.py:1859: UserWarning: y_pred contains classes not in y_true\n",
      "  warnings.warn('y_pred contains classes not in y_true')\n",
      "C:\\ProgramData\\Anaconda3\\lib\\site-packages\\sklearn\\metrics\\_classification.py:1859: UserWarning: y_pred contains classes not in y_true\n",
      "  warnings.warn('y_pred contains classes not in y_true')\n",
      "C:\\ProgramData\\Anaconda3\\lib\\site-packages\\sklearn\\metrics\\_classification.py:1859: UserWarning: y_pred contains classes not in y_true\n",
      "  warnings.warn('y_pred contains classes not in y_true')\n",
      "C:\\ProgramData\\Anaconda3\\lib\\site-packages\\sklearn\\metrics\\_classification.py:1859: UserWarning: y_pred contains classes not in y_true\n",
      "  warnings.warn('y_pred contains classes not in y_true')\n",
      "C:\\ProgramData\\Anaconda3\\lib\\site-packages\\sklearn\\metrics\\_classification.py:1859: UserWarning: y_pred contains classes not in y_true\n",
      "  warnings.warn('y_pred contains classes not in y_true')\n",
      "C:\\ProgramData\\Anaconda3\\lib\\site-packages\\sklearn\\metrics\\_classification.py:1859: UserWarning: y_pred contains classes not in y_true\n",
      "  warnings.warn('y_pred contains classes not in y_true')\n",
      "C:\\ProgramData\\Anaconda3\\lib\\site-packages\\sklearn\\metrics\\_classification.py:1859: UserWarning: y_pred contains classes not in y_true\n",
      "  warnings.warn('y_pred contains classes not in y_true')\n",
      "C:\\ProgramData\\Anaconda3\\lib\\site-packages\\sklearn\\metrics\\_classification.py:1859: UserWarning: y_pred contains classes not in y_true\n",
      "  warnings.warn('y_pred contains classes not in y_true')\n",
      "C:\\ProgramData\\Anaconda3\\lib\\site-packages\\sklearn\\metrics\\_classification.py:1859: UserWarning: y_pred contains classes not in y_true\n",
      "  warnings.warn('y_pred contains classes not in y_true')\n"
     ]
    },
    {
     "data": {
      "text/plain": [
       "<matplotlib.legend.Legend at 0x2b646319f48>"
      ]
     },
     "execution_count": 98,
     "metadata": {},
     "output_type": "execute_result"
    },
    {
     "data": {
      "image/png": "[encoded data removed]",
      "text/plain": [
       "<Figure size 432x288 with 1 Axes>"
      ]
     },
     "metadata": {
      "needs_background": "light"
     },
     "output_type": "display_data"
    }
   ],
   "source": [
    "# Hyperparameter optimization\n",
    "alpha_ls = np.logspace(-3, 4, num=50)\n",
    "train_accuracy_ls = []\n",
    "test_accuracy_ls = []\n",
    "for alpha in alpha_ls:\n",
    "    nb = MultinomialNB(alpha = alpha)\n",
    "    nb.fit(X_train, y_train)\n",
    "    y_pred = nb.predict(X_test)\n",
    "    \n",
    "    train_accu = balanced_accuracy_score(nb.predict(X_train), y_train)\n",
    "    test_accu = balanced_accuracy_score(nb.predict(X_test), y_test)\n",
    "    train_accuracy_ls.append(train_accu)\n",
    "    test_accuracy_ls.append(test_accu)\n",
    "\n",
    "# Plotting\n",
    "# fig, ax = plt.subplot()\n",
    "plt.plot(alpha_ls, train_accuracy_ls, label = 'Training Accuracy')\n",
    "plt.plot(alpha_ls, test_accuracy_ls, label = 'Test Accuracy')\n",
    "plt.xscale('log') \n",
    "plt.legend()\n",
    "\n"
   ]
  },
  {
   "cell_type": "code",
   "execution_count": 99,
   "metadata": {},
   "outputs": [
    {
     "data": {
      "text/plain": [
       "{'mean_fit_time': array([0.00929394, 0.00777898, 0.00837669, 0.00735064, 0.00798783,\n",
       "        0.00778928, 0.00878248, 0.00778208, 0.00758176, 0.00858231]),\n",
       " 'std_fit_time': array([0.00133381, 0.00074619, 0.00119671, 0.00081393, 0.0006217 ,\n",
       "        0.00074209, 0.00145886, 0.00096798, 0.00078542, 0.00134711]),\n",
       " 'mean_score_time': array([0.00198503, 0.00139632, 0.00199542, 0.00165281, 0.00179663,\n",
       "        0.00120702, 0.00140405, 0.00159602, 0.00138969, 0.00323701]),\n",
       " 'std_score_time': array([0.00088018, 0.0004886 , 0.00063128, 0.00055118, 0.00039966,\n",
       "        0.00039414, 0.00049827, 0.00048798, 0.00048041, 0.00247161]),\n",
       " 'param_alpha': masked_array(data=[0.1, 0.35938136638046275, 1.291549665014884,\n",
       "                    4.641588833612779, 16.68100537200059,\n",
       "                    59.94842503189409, 215.44346900318845,\n",
       "                    774.2636826811278, 2782.559402207126, 10000.0],\n",
       "              mask=[False, False, False, False, False, False, False, False,\n",
       "                    False, False],\n",
       "        fill_value='?',\n",
       "             dtype=object),\n",
       " 'params': [{'alpha': 0.1},\n",
       "  {'alpha': 0.35938136638046275},\n",
       "  {'alpha': 1.291549665014884},\n",
       "  {'alpha': 4.641588833612779},\n",
       "  {'alpha': 16.68100537200059},\n",
       "  {'alpha': 59.94842503189409},\n",
       "  {'alpha': 215.44346900318845},\n",
       "  {'alpha': 774.2636826811278},\n",
       "  {'alpha': 2782.559402207126},\n",
       "  {'alpha': 10000.0}],\n",
       " 'split0_test_score': array([0.27368117, 0.27227426, 0.26258434, 0.25452493, 0.15719415,\n",
       "        0.08599806, 0.0497416 , 0.        , 0.        , 0.        ]),\n",
       " 'split1_test_score': array([0.30820543, 0.30709368, 0.3320382 , 0.27885847, 0.12224826,\n",
       "        0.09939236, 0.05967882, 0.        , 0.        , 0.        ]),\n",
       " 'split2_test_score': array([0.33857849, 0.31976506, 0.29921551, 0.29139236, 0.11235908,\n",
       "        0.09960937, 0.07638889, 0.        , 0.        , 0.        ]),\n",
       " 'split3_test_score': array([0.28219781, 0.28482471, 0.2986475 , 0.26357404, 0.07815972,\n",
       "        0.07573785, 0.05230035, 0.        , 0.        , 0.        ]),\n",
       " 'split4_test_score': array([0.27545159, 0.29545144, 0.30207528, 0.28556693, 0.15989727,\n",
       "        0.09319944, 0.04487179, 0.        , 0.        , 0.        ]),\n",
       " 'mean_test_score': array([0.2956229 , 0.29588183, 0.29891217, 0.27478335, 0.1259717 ,\n",
       "        0.09078742, 0.05659629, 0.        , 0.        , 0.        ]),\n",
       " 'std_test_score': array([0.02478732, 0.01658841, 0.02203276, 0.01374629, 0.03036754,\n",
       "        0.0090235 , 0.01099231, 0.        , 0.        , 0.        ]),\n",
       " 'rank_test_score': array([3, 2, 1, 4, 5, 6, 7, 8, 8, 8])}"
      ]
     },
     "execution_count": 99,
     "metadata": {},
     "output_type": "execute_result"
    }
   ],
   "source": [
    "# Parameter selection using GridSearchCV\n",
    "alpha_ls = np.logspace(-1, 4, num=10)\n",
    "param_grid = {'alpha':alpha_ls}\n",
    "nb_clf = GridSearchCV(nb, param_grid, scoring = bal_acc_scorer)\n",
    "nb_clf.fit(X_train, y_train)\n",
    "nb_clf.cv_results_\n"
   ]
  },
  {
   "cell_type": "code",
   "execution_count": 100,
   "metadata": {},
   "outputs": [
    {
     "data": {
      "text/plain": [
       "1.291549665014884"
      ]
     },
     "execution_count": 100,
     "metadata": {},
     "output_type": "execute_result"
    }
   ],
   "source": [
    "# Find optimal alpha : it appears to be close to 1000 based on above plot\n",
    "optimal_alpha = nb_clf.best_params_['alpha']\n",
    "optimal_alpha"
   ]
  },
  {
   "cell_type": "code",
   "execution_count": 101,
   "metadata": {},
   "outputs": [],
   "source": [
    "nb_clf_gridcv = nb_clf.best_estimator_"
   ]
  },
  {
   "cell_type": "code",
   "execution_count": 102,
   "metadata": {},
   "outputs": [
    {
     "name": "stdout",
     "output_type": "stream",
     "text": [
      "Balanced accuracy score (training)is  0.513956550727326\n",
      "Balanced accuracy score (test)is  0.4144403279222191\n"
     ]
    }
   ],
   "source": [
    "# # Retraining with optimal alpha at 23.35\n",
    "# nb = MultinomialNB(alpha = optimal_alpha)\n",
    "# nb.fit(X_train, y_train)\n",
    "# y_pred = nb.predict(X_test)\n",
    "\n",
    "# Calculate accuracy score using balanced accuracy scores\n",
    "print ('Balanced accuracy score (training)is ', balanced_accuracy_score(nb_clf_gridcv.predict(X_train), y_train))\n",
    "print ('Balanced accuracy score (test)is ', balanced_accuracy_score(nb_clf_gridcv.predict(X_test), y_test))\n"
   ]
  },
  {
   "cell_type": "code",
   "execution_count": 103,
   "metadata": {},
   "outputs": [
    {
     "data": {
      "text/plain": [
       "dict_keys(['Fascinating', 'BadTalk', 'Beautiful', 'Informative', 'Funny'])"
      ]
     },
     "execution_count": 103,
     "metadata": {},
     "output_type": "execute_result"
    }
   ],
   "source": [
    "class_dict.keys()"
   ]
  },
  {
   "cell_type": "code",
   "execution_count": 104,
   "metadata": {
    "scrolled": true
   },
   "outputs": [
    {
     "data": {
      "text/plain": [
       "array([[ 51,  40,   7,  32,  31],\n",
       "       [  1,  16,   4,  13,   0],\n",
       "       [  2,  31,  17,   4,   8],\n",
       "       [ 23,  26,  10, 100,  20],\n",
       "       [  3,   5,   3,   0,  16]], dtype=int64)"
      ]
     },
     "execution_count": 104,
     "metadata": {},
     "output_type": "execute_result"
    }
   ],
   "source": [
    "# Confusion Matrix\n",
    "from sklearn.metrics import confusion_matrix\n",
    "confusion_matrix(y_test, nb_clf_gridcv.predict(X_test), labels = [1,2,3,4,5])"
   ]
  },
  {
   "cell_type": "markdown",
   "metadata": {},
   "source": [
    "We see much lower performance compared to Logistic Regression. But, interestingly, NB seems to predict BadTalk better. \n",
    "In order to improve the performance further, we will try to over-sample the dataset to get rid of class imbalance in our dataset. \n"
   ]
  },
  {
   "cell_type": "code",
   "execution_count": 105,
   "metadata": {},
   "outputs": [
    {
     "name": "stdout",
     "output_type": "stream",
     "text": [
      "              precision    recall  f1-score   support\n",
      "\n",
      "           1       0.64      0.32      0.42       161\n",
      "           2       0.14      0.47      0.21        34\n",
      "           3       0.41      0.27      0.33        62\n",
      "           4       0.67      0.56      0.61       179\n",
      "           5       0.21      0.59      0.31        27\n",
      "\n",
      "    accuracy                           0.43       463\n",
      "   macro avg       0.41      0.44      0.38       463\n",
      "weighted avg       0.56      0.43      0.46       463\n",
      "\n"
     ]
    }
   ],
   "source": [
    "from sklearn.metrics import classification_report\n",
    "print(classification_report(y_test, nb_clf_gridcv.predict(X_test)))"
   ]
  },
  {
   "cell_type": "code",
   "execution_count": 106,
   "metadata": {},
   "outputs": [
    {
     "data": {
      "text/plain": [
       "((1851, 6972), (1851,))"
      ]
     },
     "execution_count": 106,
     "metadata": {},
     "output_type": "execute_result"
    }
   ],
   "source": [
    "X_train.shape, y_train.shape"
   ]
  },
  {
   "cell_type": "code",
   "execution_count": 107,
   "metadata": {},
   "outputs": [],
   "source": [
    "from imblearn.over_sampling import SMOTE, ADASYN"
   ]
  },
  {
   "cell_type": "code",
   "execution_count": 108,
   "metadata": {},
   "outputs": [],
   "source": [
    "X_sm, y_sm = SMOTE('minority').fit_resample(X_train, y_train)\n",
    "# X_sm, y_sm = ADASYN('minority').fit_resample(X_train, y_train)"
   ]
  },
  {
   "cell_type": "code",
   "execution_count": 109,
   "metadata": {},
   "outputs": [
    {
     "name": "stdout",
     "output_type": "stream",
     "text": [
      "(2443, 6972) (2443,)\n"
     ]
    }
   ],
   "source": [
    "print (X_sm.shape, y_sm.shape)"
   ]
  },
  {
   "cell_type": "code",
   "execution_count": 110,
   "metadata": {},
   "outputs": [
    {
     "data": {
      "text/plain": [
       "GridSearchCV(cv=None, error_score=nan,\n",
       "             estimator=MultinomialNB(alpha=10000.0, class_prior=None,\n",
       "                                     fit_prior=True),\n",
       "             iid='deprecated', n_jobs=None,\n",
       "             param_grid={'alpha': array([1.00000000e-01, 3.59381366e-01, 1.29154967e+00, 4.64158883e+00,\n",
       "       1.66810054e+01, 5.99484250e+01, 2.15443469e+02, 7.74263683e+02,\n",
       "       2.78255940e+03, 1.00000000e+04])},\n",
       "             pre_dispatch='2*n_jobs', refit=True, return_train_score=False,\n",
       "             scoring=make_scorer(balanced_accuracy_score, adjusted=True),\n",
       "             verbose=0)"
      ]
     },
     "execution_count": 110,
     "metadata": {},
     "output_type": "execute_result"
    }
   ],
   "source": [
    "# Train NB with the new resampled class\n",
    "alpha_ls = np.logspace(-1, 4, num=10)\n",
    "param_grid = {'alpha':alpha_ls}\n",
    "nb_clf_sm = GridSearchCV(nb, param_grid, scoring = bal_acc_scorer)\n",
    "nb_clf_sm.fit(X_sm, y_sm)\n"
   ]
  },
  {
   "cell_type": "code",
   "execution_count": 111,
   "metadata": {},
   "outputs": [
    {
     "data": {
      "text/plain": [
       "1.291549665014884"
      ]
     },
     "execution_count": 111,
     "metadata": {},
     "output_type": "execute_result"
    }
   ],
   "source": [
    "# Find optimal alpha : it appears to be close to 1000 based on above plot\n",
    "optimal_alpha = nb_clf.best_params_['alpha']\n",
    "optimal_alpha"
   ]
  },
  {
   "cell_type": "code",
   "execution_count": 112,
   "metadata": {},
   "outputs": [],
   "source": [
    "# DEfine new best estimator\n",
    "nb_clf_sm_cvsearch = nb_clf_sm.best_estimator_"
   ]
  },
  {
   "cell_type": "code",
   "execution_count": 113,
   "metadata": {},
   "outputs": [
    {
     "name": "stdout",
     "output_type": "stream",
     "text": [
      "Balanced accuracy score (training)is  0.5342873643270338\n",
      "Balanced accuracy score (SMOTE train)is  0.5744089469301645\n",
      "Balanced accuracy score (test)is  0.43103577656086023\n"
     ]
    }
   ],
   "source": [
    "# Calculate accuracy score using balanced accuracy scores\n",
    "print ('Balanced accuracy score (training)is ', balanced_accuracy_score(nb_clf_sm_cvsearch.predict(X_train), y_train))\n",
    "print ('Balanced accuracy score (SMOTE train)is ', balanced_accuracy_score(nb_clf_sm_cvsearch.predict(X_sm), y_sm))\n",
    "print ('Balanced accuracy score (test)is ', balanced_accuracy_score(nb_clf_sm_cvsearch.predict(X_test), y_test))\n"
   ]
  },
  {
   "cell_type": "code",
   "execution_count": null,
   "metadata": {},
   "outputs": [],
   "source": []
  },
  {
   "cell_type": "raw",
   "metadata": {},
   "source": []
  },
  {
   "cell_type": "code",
   "execution_count": 137,
   "metadata": {},
   "outputs": [
    {
     "name": "stdout",
     "output_type": "stream",
     "text": [
      "Confusion matrix, without normalization\n",
      "[[ 51  40   7  32  31]\n",
      " [  1  16   4  13   0]\n",
      " [  2  31  17   4   8]\n",
      " [ 23  26  10 100  20]\n",
      " [  3   5   3   0  16]]\n",
      "Normalized confusion matrix\n",
      "[[0.31677019 0.2484472  0.04347826 0.19875776 0.19254658]\n",
      " [0.02941176 0.47058824 0.11764706 0.38235294 0.        ]\n",
      " [0.03225806 0.5        0.27419355 0.06451613 0.12903226]\n",
      " [0.12849162 0.1452514  0.05586592 0.55865922 0.11173184]\n",
      " [0.11111111 0.18518519 0.11111111 0.         0.59259259]]\n"
     ]
    },
    {
     "data": {
      "image/png": "[encoded data removed]",
      "text/plain": [
       "<Figure size 504x504 with 2 Axes>"
      ]
     },
     "metadata": {
      "needs_background": "light"
     },
     "output_type": "display_data"
    },
    {
     "data": {
      "image/png": "[encoded data removed]",
      "text/plain": [
       "<Figure size 504x504 with 2 Axes>"
      ]
     },
     "metadata": {
      "needs_background": "light"
     },
     "output_type": "display_data"
    }
   ],
   "source": [
    "# Plotting the confusion Matrix\n",
    "from sklearn.metrics import plot_confusion_matrix\n",
    "# Plot non-normalized confusion matrix\n",
    "titles_options = [(\"Confusion matrix, without normalization\", None),\n",
    "                  (\"Normalized confusion matrix\", 'true')]\n",
    "for title, normalize in titles_options:\n",
    "    disp = plot_confusion_matrix(nb_clf_gridcv, X_test, y_test,\n",
    "                                 display_labels=list(class_dict.keys()),\n",
    "                                 cmap=plt.cm.Blues,\n",
    "                                 normalize=normalize)\n",
    "    disp.ax_.set_title(title)\n",
    "    disp.figure_.set_size_inches((7,7))\n",
    "\n",
    "    print(title)\n",
    "    print(disp.confusion_matrix)\n",
    "\n",
    "plt.show()"
   ]
  },
  {
   "cell_type": "markdown",
   "metadata": {},
   "source": [
    "### 3. Random Forest Classification"
   ]
  },
  {
   "cell_type": "code",
   "execution_count": 115,
   "metadata": {},
   "outputs": [],
   "source": [
    "from sklearn.ensemble import RandomForestClassifier\n"
   ]
  },
  {
   "cell_type": "code",
   "execution_count": 116,
   "metadata": {},
   "outputs": [
    {
     "name": "stdout",
     "output_type": "stream",
     "text": [
      "Balanced accuracy score (training)is  0.988278324915585\n",
      "Balanced accuracy score (test)is  0.708144913976818\n"
     ]
    },
    {
     "name": "stderr",
     "output_type": "stream",
     "text": [
      "C:\\ProgramData\\Anaconda3\\lib\\site-packages\\sklearn\\metrics\\_classification.py:1859: UserWarning: y_pred contains classes not in y_true\n",
      "  warnings.warn('y_pred contains classes not in y_true')\n"
     ]
    }
   ],
   "source": [
    "clf_rf = RandomForestClassifier(n_estimators = 150, min_samples_split = 20)\n",
    "clf_rf.fit(X_train, y_train)\n",
    "y_pred = clf_rf.predict(X_test)\n",
    "\n",
    "print ('Balanced accuracy score (training)is ', balanced_accuracy_score(clf_rf.predict(X_train), y_train))\n",
    "print ('Balanced accuracy score (test)is ', balanced_accuracy_score(clf_rf.predict(X_test), y_test))\n"
   ]
  },
  {
   "cell_type": "markdown",
   "metadata": {},
   "source": [
    "We get an balanced accuracy score(test) of 0.73 when we train the model without sampling. Lets try with sampling"
   ]
  },
  {
   "cell_type": "code",
   "execution_count": 117,
   "metadata": {},
   "outputs": [
    {
     "name": "stdout",
     "output_type": "stream",
     "text": [
      "Balanced accuracy score (training)is  0.9855541868946694\n",
      "Balanced accuracy score (sampled)is  0.9855541868946694\n",
      "Balanced accuracy score (test)is  0.738003663003663\n"
     ]
    },
    {
     "name": "stderr",
     "output_type": "stream",
     "text": [
      "C:\\ProgramData\\Anaconda3\\lib\\site-packages\\sklearn\\metrics\\_classification.py:1859: UserWarning: y_pred contains classes not in y_true\n",
      "  warnings.warn('y_pred contains classes not in y_true')\n"
     ]
    }
   ],
   "source": [
    "clf_rf_sm = RandomForestClassifier(n_estimators = 150, min_samples_split = 20)\n",
    "clf_rf_sm.fit(X_sm, y_sm)\n",
    "y_pred = clf_rf_sm.predict(X_test)\n",
    "\n",
    "print ('Balanced accuracy score (training)is ', balanced_accuracy_score(clf_rf_sm.predict(X_train), y_train))\n",
    "print ('Balanced accuracy score (sampled)is ', balanced_accuracy_score(clf_rf_sm.predict(X_sm), y_sm))\n",
    "print ('Balanced accuracy score (test)is ', balanced_accuracy_score(clf_rf_sm.predict(X_test), y_test))\n"
   ]
  },
  {
   "cell_type": "markdown",
   "metadata": {},
   "source": [
    "Here sampling does not seem to impact the classifier perforamnace significantly. So, we will continue with training our model on sampled data"
   ]
  },
  {
   "cell_type": "code",
   "execution_count": 118,
   "metadata": {},
   "outputs": [
    {
     "data": {
      "text/plain": [
       "6972"
      ]
     },
     "execution_count": 118,
     "metadata": {},
     "output_type": "execute_result"
    }
   ],
   "source": [
    "clf_rf_sm.n_features_"
   ]
  },
  {
   "cell_type": "code",
   "execution_count": 119,
   "metadata": {},
   "outputs": [],
   "source": [
    "feature_imp = clf_rf_sm.feature_importances_"
   ]
  },
  {
   "cell_type": "code",
   "execution_count": 120,
   "metadata": {},
   "outputs": [
    {
     "data": {
      "text/plain": [
       "array([6949, 6956, 6922, ..., 1461,  610,    0], dtype=int64)"
      ]
     },
     "execution_count": 120,
     "metadata": {},
     "output_type": "execute_result"
    }
   ],
   "source": [
    "imp_feature_ix = np.argsort(feature_imp)[::-1] # in decreasing order\n",
    "imp_feature_ix"
   ]
  },
  {
   "cell_type": "code",
   "execution_count": 121,
   "metadata": {
    "scrolled": true
   },
   "outputs": [
    {
     "name": "stdout",
     "output_type": "stream",
     "text": [
      "Top Predictors are:\n",
      "feature \t | \t importance\n",
      "metadata_laughter\t | \t0.014822539297028122\n",
      "metadata_ratings_total\t | \t0.00915019266324882\n",
      "yeah\t | \t0.006518589328020453\n",
      "metadata_tag_technology\t | \t0.0065113601878016\n",
      "fun\t | \t0.005915263887696662\n",
      "love\t | \t0.005054796247055871\n",
      "percent\t | \t0.00500537386591622\n",
      "guy\t | \t0.004910282386878262\n",
      "technology\t | \t0.004571069245282155\n",
      "metadata_word_count\t | \t0.004155436936333285\n"
     ]
    }
   ],
   "source": [
    "print ('Top Predictors are:')\n",
    "print ('feature \\t | \\t importance')\n",
    "for ix in range(10):\n",
    "    print (feature_dict[imp_feature_ix[ix]] + '\\t | \\t'+str(feature_imp[imp_feature_ix[ix]]))\n",
    "    "
   ]
  },
  {
   "cell_type": "code",
   "execution_count": 122,
   "metadata": {},
   "outputs": [
    {
     "data": {
      "text/plain": [
       "{'bootstrap': True,\n",
       " 'ccp_alpha': 0.0,\n",
       " 'class_weight': None,\n",
       " 'criterion': 'gini',\n",
       " 'max_depth': None,\n",
       " 'max_features': 'auto',\n",
       " 'max_leaf_nodes': None,\n",
       " 'max_samples': None,\n",
       " 'min_impurity_decrease': 0.0,\n",
       " 'min_impurity_split': None,\n",
       " 'min_samples_leaf': 1,\n",
       " 'min_samples_split': 20,\n",
       " 'min_weight_fraction_leaf': 0.0,\n",
       " 'n_estimators': 150,\n",
       " 'n_jobs': None,\n",
       " 'oob_score': False,\n",
       " 'random_state': None,\n",
       " 'verbose': 0,\n",
       " 'warm_start': False}"
      ]
     },
     "execution_count": 122,
     "metadata": {},
     "output_type": "execute_result"
    }
   ],
   "source": [
    "### Hyperparameter Tuning\n",
    "clf_rf_sm.get_params()"
   ]
  },
  {
   "cell_type": "code",
   "execution_count": 123,
   "metadata": {},
   "outputs": [],
   "source": [
    "from sklearn.model_selection import RandomizedSearchCV# Number of trees in random forest\n",
    "# Number of tress to consider\n",
    "n_estimators = [int(x) for x in np.linspace(start = 100, stop = 1500, num = 10)]\n",
    "# Number of features to consider at every split\n",
    "max_features = ['log2', 'sqrt']\n",
    "# Maximum number of levels in tree\n",
    "max_depth = [int(x) for x in np.linspace(1, 500, num = 25)]\n",
    "max_depth.append(None)\n",
    "# Minimum number of samples required to split a node\n",
    "min_samples_split = [2, 5, 10]\n",
    "# Method of selecting samples for training each tree\n",
    "bootstrap = [True, False]# Create the random grid\n",
    "random_grid = {'n_estimators': n_estimators,\n",
    "               'max_features': max_features,\n",
    "               'max_depth': max_depth,\n",
    "               'min_samples_split': min_samples_split,\n",
    "               'bootstrap': bootstrap}\n"
   ]
  },
  {
   "cell_type": "code",
   "execution_count": 124,
   "metadata": {},
   "outputs": [
    {
     "name": "stdout",
     "output_type": "stream",
     "text": [
      "{'n_estimators': [100, 255, 411, 566, 722, 877, 1033, 1188, 1344, 1500], 'max_features': ['log2', 'sqrt'], 'max_depth': [1, 21, 42, 63, 84, 104, 125, 146, 167, 188, 208, 229, 250, 271, 292, 312, 333, 354, 375, 396, 416, 437, 458, 479, 500, None], 'min_samples_split': [2, 5, 10], 'bootstrap': [True, False]}\n"
     ]
    }
   ],
   "source": [
    "# pprint(random_grid)\n",
    "print (random_grid)"
   ]
  },
  {
   "cell_type": "code",
   "execution_count": 125,
   "metadata": {},
   "outputs": [],
   "source": [
    "rf_sm = RandomForestClassifier()\n",
    "# Random serach based on 3-fold cross validation\n",
    "rf_random = RandomizedSearchCV(estimator = rf_sm, param_distributions = random_grid, n_iter = 100, cv = 3, verbose=2, scoring = bal_acc_scorer, n_jobs = -1)"
   ]
  },
  {
   "cell_type": "code",
   "execution_count": 126,
   "metadata": {},
   "outputs": [
    {
     "name": "stdout",
     "output_type": "stream",
     "text": [
      "Fitting 3 folds for each of 100 candidates, totalling 300 fits\n"
     ]
    },
    {
     "name": "stderr",
     "output_type": "stream",
     "text": [
      "[Parallel(n_jobs=-1)]: Using backend LokyBackend with 8 concurrent workers.\n",
      "[Parallel(n_jobs=-1)]: Done  25 tasks      | elapsed:  2.6min\n",
      "[Parallel(n_jobs=-1)]: Done 146 tasks      | elapsed: 10.7min\n",
      "[Parallel(n_jobs=-1)]: Done 300 out of 300 | elapsed: 20.6min finished\n"
     ]
    },
    {
     "data": {
      "text/plain": [
       "RandomizedSearchCV(cv=3, error_score=nan,\n",
       "                   estimator=RandomForestClassifier(bootstrap=True,\n",
       "                                                    ccp_alpha=0.0,\n",
       "                                                    class_weight=None,\n",
       "                                                    criterion='gini',\n",
       "                                                    max_depth=None,\n",
       "                                                    max_features='auto',\n",
       "                                                    max_leaf_nodes=None,\n",
       "                                                    max_samples=None,\n",
       "                                                    min_impurity_decrease=0.0,\n",
       "                                                    min_impurity_split=None,\n",
       "                                                    min_samples_leaf=1,\n",
       "                                                    min_samples_split=2,\n",
       "                                                    min_weight_fraction_leaf=0.0,\n",
       "                                                    n_estimators=100,\n",
       "                                                    n_jobs...\n",
       "                                                      125, 146, 167, 188, 208,\n",
       "                                                      229, 250, 271, 292, 312,\n",
       "                                                      333, 354, 375, 396, 416,\n",
       "                                                      437, 458, 479, 500,\n",
       "                                                      None],\n",
       "                                        'max_features': ['log2', 'sqrt'],\n",
       "                                        'min_samples_split': [2, 5, 10],\n",
       "                                        'n_estimators': [100, 255, 411, 566,\n",
       "                                                         722, 877, 1033, 1188,\n",
       "                                                         1344, 1500]},\n",
       "                   pre_dispatch='2*n_jobs', random_state=None, refit=True,\n",
       "                   return_train_score=False,\n",
       "                   scoring=make_scorer(balanced_accuracy_score, adjusted=True),\n",
       "                   verbose=2)"
      ]
     },
     "execution_count": 126,
     "metadata": {},
     "output_type": "execute_result"
    }
   ],
   "source": [
    "# fit random serach model\n",
    "rf_random.fit(X_sm, y_sm)"
   ]
  },
  {
   "cell_type": "code",
   "execution_count": 127,
   "metadata": {},
   "outputs": [
    {
     "data": {
      "text/plain": [
       "{'n_estimators': 1033,\n",
       " 'min_samples_split': 5,\n",
       " 'max_features': 'sqrt',\n",
       " 'max_depth': 42,\n",
       " 'bootstrap': False}"
      ]
     },
     "execution_count": 127,
     "metadata": {},
     "output_type": "execute_result"
    }
   ],
   "source": [
    "# Best parameters\n",
    "rf_random.best_params_"
   ]
  },
  {
   "cell_type": "code",
   "execution_count": 128,
   "metadata": {},
   "outputs": [
    {
     "name": "stdout",
     "output_type": "stream",
     "text": [
      "Balanced accuracy score (test)is  0.7485258196966973\n"
     ]
    },
    {
     "name": "stderr",
     "output_type": "stream",
     "text": [
      "C:\\ProgramData\\Anaconda3\\lib\\site-packages\\sklearn\\metrics\\_classification.py:1859: UserWarning: y_pred contains classes not in y_true\n",
      "  warnings.warn('y_pred contains classes not in y_true')\n"
     ]
    }
   ],
   "source": [
    "# Get the performance of best estimator\n",
    "rf_randomcv_best = rf_random.best_estimator_\n",
    "y_pred_test = rf_randomcv_best.predict(X_test)\n",
    "print ('Balanced accuracy score (test)is ', balanced_accuracy_score(y_pred_test, y_test))\n"
   ]
  },
  {
   "cell_type": "code",
   "execution_count": 138,
   "metadata": {},
   "outputs": [
    {
     "name": "stdout",
     "output_type": "stream",
     "text": [
      "Confusion matrix, without normalization\n",
      "[[130   0   0  31   0]\n",
      " [ 12   0   0  22   0]\n",
      " [ 29   0   7  26   0]\n",
      " [ 58   0   1 120   0]\n",
      " [ 20   0   0   2   5]]\n",
      "Normalized confusion matrix\n",
      "[[0.80745342 0.         0.         0.19254658 0.        ]\n",
      " [0.35294118 0.         0.         0.64705882 0.        ]\n",
      " [0.46774194 0.         0.11290323 0.41935484 0.        ]\n",
      " [0.32402235 0.         0.00558659 0.67039106 0.        ]\n",
      " [0.74074074 0.         0.         0.07407407 0.18518519]]\n"
     ]
    },
    {
     "data": {
      "image/png": "[encoded data removed]",
      "text/plain": [
       "<Figure size 504x504 with 2 Axes>"
      ]
     },
     "metadata": {
      "needs_background": "light"
     },
     "output_type": "display_data"
    },
    {
     "data": {
      "image/png": "[encoded data removed]",
      "text/plain": [
       "<Figure size 504x504 with 2 Axes>"
      ]
     },
     "metadata": {
      "needs_background": "light"
     },
     "output_type": "display_data"
    }
   ],
   "source": [
    "# On this best estimator, confusion matrix is \n",
    "titles_options = [(\"Confusion matrix, without normalization\", None),\n",
    "                  (\"Normalized confusion matrix\", 'true')]\n",
    "for title, normalize in titles_options:\n",
    "    disp = plot_confusion_matrix(rf_randomcv_best, X_test, y_test,\n",
    "                                 display_labels=list(class_dict.keys()),\n",
    "                                 cmap=plt.cm.Blues,\n",
    "                                 normalize=normalize)\n",
    "    disp.ax_.set_title(title)\n",
    "    disp.figure_.set_size_inches((7,7))\n",
    "\n",
    "    print(title)\n",
    "    \n",
    "    print(disp.confusion_matrix)\n",
    "\n",
    "plt.show()"
   ]
  },
  {
   "cell_type": "code",
   "execution_count": 131,
   "metadata": {},
   "outputs": [
    {
     "name": "stdout",
     "output_type": "stream",
     "text": [
      "              precision    recall  f1-score   support\n",
      "\n",
      "           1       0.52      0.81      0.63       161\n",
      "           2       0.00      0.00      0.00        34\n",
      "           3       0.88      0.11      0.20        62\n",
      "           4       0.60      0.67      0.63       179\n",
      "           5       1.00      0.19      0.31        27\n",
      "\n",
      "    accuracy                           0.57       463\n",
      "   macro avg       0.60      0.36      0.36       463\n",
      "weighted avg       0.59      0.57      0.51       463\n",
      "\n"
     ]
    },
    {
     "name": "stderr",
     "output_type": "stream",
     "text": [
      "C:\\ProgramData\\Anaconda3\\lib\\site-packages\\sklearn\\metrics\\_classification.py:1272: UndefinedMetricWarning: Precision and F-score are ill-defined and being set to 0.0 in labels with no predicted samples. Use `zero_division` parameter to control this behavior.\n",
      "  _warn_prf(average, modifier, msg_start, len(result))\n"
     ]
    }
   ],
   "source": [
    "from sklearn.metrics import classification_report\n",
    "print(classification_report(y_test, rf_randomcv_best.predict(X_test)))"
   ]
  },
  {
   "cell_type": "markdown",
   "metadata": {},
   "source": [
    "## Conclusion"
   ]
  },
  {
   "cell_type": "markdown",
   "metadata": {},
   "source": [
    "We see the perforamnce of three different classifiers on predicting the rating of the TED talks. WE see Logistric regression to have the best performance, followed by random forests and Naive Bayes classifier "
   ]
  },
  {
   "cell_type": "code",
   "execution_count": null,
   "metadata": {},
   "outputs": [],
   "source": []
  },
  {
   "cell_type": "code",
   "execution_count": null,
   "metadata": {},
   "outputs": [],
   "source": []
  },
  {
   "cell_type": "code",
   "execution_count": null,
   "metadata": {},
   "outputs": [],
   "source": []
  },
  {
   "cell_type": "code",
   "execution_count": null,
   "metadata": {},
   "outputs": [],
   "source": []
  },
  {
   "cell_type": "code",
   "execution_count": null,
   "metadata": {},
   "outputs": [],
   "source": []
  },
  {
   "cell_type": "code",
   "execution_count": null,
   "metadata": {},
   "outputs": [],
   "source": []
  },
  {
   "cell_type": "code",
   "execution_count": null,
   "metadata": {},
   "outputs": [],
   "source": []
  },
  {
   "cell_type": "code",
   "execution_count": null,
   "metadata": {},
   "outputs": [],
   "source": []
  },
  {
   "cell_type": "code",
   "execution_count": null,
   "metadata": {},
   "outputs": [],
   "source": []
  },
  {
   "cell_type": "code",
   "execution_count": null,
   "metadata": {},
   "outputs": [],
   "source": []
  },
  {
   "cell_type": "code",
   "execution_count": null,
   "metadata": {},
   "outputs": [],
   "source": []
  },
  {
   "cell_type": "code",
   "execution_count": null,
   "metadata": {},
   "outputs": [],
   "source": []
  },
  {
   "cell_type": "code",
   "execution_count": null,
   "metadata": {},
   "outputs": [],
   "source": []
  }
 ],
 "metadata": {
  "kernelspec": {
   "display_name": "Python 3",
   "language": "python",
   "name": "python3"
  },
  "language_info": {
   "codemirror_mode": {
    "name": "ipython",
    "version": 3
   },
   "file_extension": ".py",
   "mimetype": "text/x-python",
   "name": "python",
   "nbconvert_exporter": "python",
   "pygments_lexer": "ipython3",
   "version": "3.7.4"
  }
 },
 "nbformat": 4,
 "nbformat_minor": 2
}
