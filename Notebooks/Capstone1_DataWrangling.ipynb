{
 "cells": [
  {
   "cell_type": "markdown",
   "metadata": {},
   "source": [
    "# Capstone Project on TED talk analysis : Data Wrangling"
   ]
  },
  {
   "cell_type": "markdown",
   "metadata": {},
   "source": [
    "Springboard Data Science Career Track ; \n",
    "Author : Pavan Poosarla, pavanpoosarla01@gmail.com"
   ]
  },
  {
   "cell_type": "markdown",
   "metadata": {},
   "source": [
    "Start Date : 9/ 10/ 2019\n",
    "Description :\n",
    "As a part of the first capstone project, I will be analysing TED talk transcripts and analyse the sentiment\n",
    "\n",
    "Date Source\n",
    "https://www.kaggle.com/rounakbanik/ted-talks/downloads/ted-talks.zip/3"
   ]
  },
  {
   "cell_type": "markdown",
   "metadata": {},
   "source": [
    "## Part 1 : Data Wrangling"
   ]
  },
  {
   "cell_type": "code",
   "execution_count": 1,
   "metadata": {},
   "outputs": [
    {
     "name": "stderr",
     "output_type": "stream",
     "text": [
      "[nltk_data] Downloading package punkt to C:\\Users\\Pavan\n",
      "[nltk_data]     Anirudh\\AppData\\Roaming\\nltk_data...\n",
      "[nltk_data]   Package punkt is already up-to-date!\n"
     ]
    }
   ],
   "source": [
    "# Import packages\n",
    "import matplotlib.pyplot as plt\n",
    "import numpy as np\n",
    "import pandas as pd\n",
    "import string\n",
    "import nltk\n",
    "import seaborn as sns\n",
    "from nltk.tokenize import word_tokenize\n",
    "from nltk.stem import PorterStemmer\n",
    "nltk.download('punkt')\n",
    "from tqdm import tqdm\n",
    "import json\n"
   ]
  },
  {
   "cell_type": "code",
   "execution_count": 2,
   "metadata": {},
   "outputs": [],
   "source": [
    "# Define function to check for missing values\n",
    "def CheckMissing_df(df):\n",
    "    '''Function to remove missing values from the dataframe. It does the following\n",
    "    Print the number of missing values in each columns\n",
    "    '''\n",
    "    missing_dict = {'ColName' : [], 'MissingNumber':[]}\n",
    "    df_cols = df.columns\n",
    "    for item in df_cols:\n",
    "        missing_dict['ColName'].append(item)\n",
    "        missing_dict['MissingNumber'].append(df[item].isna().sum())\n",
    "    missing_df = pd.DataFrame(missing_dict)\n",
    "    return missing_df"
   ]
  },
  {
   "cell_type": "code",
   "execution_count": 3,
   "metadata": {},
   "outputs": [],
   "source": [
    "# Define function to count the number of sentences in a text\n",
    "def CountSentence(text):\n",
    "    '''Fuction to count the number of sentences in a text in a dataframe'''\n",
    "    sen_list = text.split('.')\n",
    "    sen_list = [x for x in sen_list if x != '']\n",
    "    return len(sen_list)"
   ]
  },
  {
   "cell_type": "code",
   "execution_count": 4,
   "metadata": {},
   "outputs": [],
   "source": [
    "def AudReaction(text):\n",
    "    '''Function to extract all audience reactions provided within the transcripts as a list'''\n",
    "    openn = text.split('(')\n",
    "    aud_react_list = []\n",
    "    for txt in openn:\n",
    "        closee = txt.split(')')\n",
    "        if len(closee)==2:\n",
    "            aud_react_list.append(closee[0])\n",
    "    aud_react_count = len(aud_react_list)\n",
    "    aud_react_dict = dict((x,aud_react_list.count(x)) for x in set(aud_react_list))\n",
    "    return aud_react_dict   "
   ]
  },
  {
   "cell_type": "code",
   "execution_count": 5,
   "metadata": {},
   "outputs": [],
   "source": [
    "def WordCount (text):\n",
    "    '''Function to extract word count from a transcript after eliminating text in parenthesis'''\n",
    "    sen_list = text.split('.')\n",
    "    sen_list = [x for x in sen_list if x != '']\n",
    "    len(sen_list)\n",
    "    clean_sen = []\n",
    "    for sen in sen_list:\n",
    "        openn = sen.split('(')\n",
    "        if len(openn) == 1:\n",
    "            clean_sen.append(sen)\n",
    "        else:\n",
    "            for op in openn:\n",
    "                closee = op.split(')')\n",
    "                if len(closee) == 2:\n",
    "                    closee = closee[1]\n",
    "                elif len(closee) == 1:\n",
    "                    closee = closee[0]\n",
    "                else:\n",
    "                    # split_2way = op.split(')',2)  \n",
    "                    # closee = split_2way[1]\n",
    "                    closee = ')'.join(closee)\n",
    "                    # print ('error:', op)\n",
    "                    # print (closee)\n",
    "            clean_sen.append(closee)\n",
    "        # print (sen)\n",
    "        # print (close)\n",
    "    word_count = sum([len(x.split(' ')) for x in clean_sen])\n",
    "    return word_count"
   ]
  },
  {
   "cell_type": "code",
   "execution_count": 6,
   "metadata": {},
   "outputs": [],
   "source": [
    "def RatingsDict (text):\n",
    "    import json\n",
    "    str_list = text.strip('[]').split('},')\n",
    "    new_list = []\n",
    "    for X in str_list:\n",
    "        if X[-1] != '}':\n",
    "            new_list.append(X+'}')\n",
    "        else:\n",
    "            new_list.append(X)\n",
    "    # new_list = [(X+'}') for X in new_list if X[-1] != '}']\n",
    "    new_list = [X.replace('\\'', '\\\"') for X in new_list]\n",
    "    dict_list = [json.loads(X) for X in new_list]\n",
    "    # dict_list\n",
    "    \n",
    "    rating_dict = {}\n",
    "    for item in dict_list:\n",
    "        rating_dict[item['name']] =  item['count']\n",
    "    \n",
    "    return rating_dict"
   ]
  },
  {
   "cell_type": "code",
   "execution_count": 7,
   "metadata": {},
   "outputs": [],
   "source": [
    "# Functon for text normalization\n",
    "def text_normalize(text):\n",
    "    normalized_text = text\n",
    "    # Strip leading and lagging whitespace\n",
    "    normalized_text = normalized_text.strip()\n",
    "    # Convert all text to lower case\n",
    "    normalized_text.lower()\n",
    "    # Remove punctuation\n",
    "    normalized_text.translate( str.maketrans('','', string.punctuation))\n",
    "    # Word tokenization\n",
    "    stop_words = set(stopwords.words('english'))\n",
    "    tokens = word_tokenize(normalized_text)\n",
    "    result = [i for i in tokens if not i in stop_words]\n",
    "    stemmer = PorterStemmer()\n",
    "    stemmed_result = []\n",
    "    for word in result:\n",
    "        stemmed_result.append(stemmer.stem(word))\n",
    "    return stemmed_result"
   ]
  },
  {
   "cell_type": "code",
   "execution_count": 8,
   "metadata": {},
   "outputs": [],
   "source": [
    "# Function to reduce the number of unique entries in event\n",
    "def ted_eventtype(text):\n",
    "    if \"TED\" in text:\n",
    "        if \"TEDx\" in text:\n",
    "            return \"TEDx\"\n",
    "        if \"TEDMED\" in text:\n",
    "            return \"TEDMED\"\n",
    "        if \"TEDGlobal\" in text:\n",
    "            return \"TEDGlobal\"\n",
    "        if \"TEDWomen\" in text:\n",
    "            return \"TEDWomen\"\n",
    "        if \"TEDYouth\" in text:\n",
    "            return \"TEDYouth\"\n",
    "        if \"TEDSalon\" in text:\n",
    "            return \"TEDSalon\"\n",
    "        if \"TEDActive\" in text:\n",
    "            return \"TEDActive\"\n",
    "        return \"TED\"\n",
    "    else:\n",
    "        return \"Other\"\n",
    "    "
   ]
  },
  {
   "cell_type": "code",
   "execution_count": 9,
   "metadata": {},
   "outputs": [],
   "source": [
    "# Read data from the Kaggle TED talk database\n",
    "df_main = pd.read_csv(r'../data/raw/ted_main.csv', parse_dates = ['film_date', 'published_date'])\n",
    "df_transcripts = pd.read_csv(r'../data/raw/transcripts.csv')"
   ]
  },
  {
   "cell_type": "code",
   "execution_count": 10,
   "metadata": {
    "scrolled": true
   },
   "outputs": [
    {
     "data": {
      "text/html": [
       "<div>\n",
       "<style scoped>\n",
       "    .dataframe tbody tr th:only-of-type {\n",
       "        vertical-align: middle;\n",
       "    }\n",
       "\n",
       "    .dataframe tbody tr th {\n",
       "        vertical-align: top;\n",
       "    }\n",
       "\n",
       "    .dataframe thead th {\n",
       "        text-align: right;\n",
       "    }\n",
       "</style>\n",
       "<table border=\"1\" class=\"dataframe\">\n",
       "  <thead>\n",
       "    <tr style=\"text-align: right;\">\n",
       "      <th></th>\n",
       "      <th>comments</th>\n",
       "      <th>description</th>\n",
       "      <th>duration</th>\n",
       "      <th>event</th>\n",
       "      <th>film_date</th>\n",
       "      <th>languages</th>\n",
       "      <th>main_speaker</th>\n",
       "      <th>name</th>\n",
       "      <th>num_speaker</th>\n",
       "      <th>published_date</th>\n",
       "      <th>ratings</th>\n",
       "      <th>related_talks</th>\n",
       "      <th>speaker_occupation</th>\n",
       "      <th>tags</th>\n",
       "      <th>title</th>\n",
       "      <th>url</th>\n",
       "      <th>views</th>\n",
       "    </tr>\n",
       "  </thead>\n",
       "  <tbody>\n",
       "    <tr>\n",
       "      <td>0</td>\n",
       "      <td>4553</td>\n",
       "      <td>Sir Ken Robinson makes an entertaining and pro...</td>\n",
       "      <td>1164</td>\n",
       "      <td>TED2006</td>\n",
       "      <td>1140825600</td>\n",
       "      <td>60</td>\n",
       "      <td>Ken Robinson</td>\n",
       "      <td>Ken Robinson: Do schools kill creativity?</td>\n",
       "      <td>1</td>\n",
       "      <td>1151367060</td>\n",
       "      <td>[{'id': 7, 'name': 'Funny', 'count': 19645}, {...</td>\n",
       "      <td>[{'id': 865, 'hero': 'https://pe.tedcdn.com/im...</td>\n",
       "      <td>Author/educator</td>\n",
       "      <td>['children', 'creativity', 'culture', 'dance',...</td>\n",
       "      <td>Do schools kill creativity?</td>\n",
       "      <td>https://www.ted.com/talks/ken_robinson_says_sc...</td>\n",
       "      <td>47227110</td>\n",
       "    </tr>\n",
       "    <tr>\n",
       "      <td>1</td>\n",
       "      <td>265</td>\n",
       "      <td>With the same humor and humanity he exuded in ...</td>\n",
       "      <td>977</td>\n",
       "      <td>TED2006</td>\n",
       "      <td>1140825600</td>\n",
       "      <td>43</td>\n",
       "      <td>Al Gore</td>\n",
       "      <td>Al Gore: Averting the climate crisis</td>\n",
       "      <td>1</td>\n",
       "      <td>1151367060</td>\n",
       "      <td>[{'id': 7, 'name': 'Funny', 'count': 544}, {'i...</td>\n",
       "      <td>[{'id': 243, 'hero': 'https://pe.tedcdn.com/im...</td>\n",
       "      <td>Climate advocate</td>\n",
       "      <td>['alternative energy', 'cars', 'climate change...</td>\n",
       "      <td>Averting the climate crisis</td>\n",
       "      <td>https://www.ted.com/talks/al_gore_on_averting_...</td>\n",
       "      <td>3200520</td>\n",
       "    </tr>\n",
       "  </tbody>\n",
       "</table>\n",
       "</div>"
      ],
      "text/plain": [
       "   comments                                        description  duration  \\\n",
       "0      4553  Sir Ken Robinson makes an entertaining and pro...      1164   \n",
       "1       265  With the same humor and humanity he exuded in ...       977   \n",
       "\n",
       "     event   film_date  languages  main_speaker  \\\n",
       "0  TED2006  1140825600         60  Ken Robinson   \n",
       "1  TED2006  1140825600         43       Al Gore   \n",
       "\n",
       "                                        name  num_speaker published_date  \\\n",
       "0  Ken Robinson: Do schools kill creativity?            1     1151367060   \n",
       "1       Al Gore: Averting the climate crisis            1     1151367060   \n",
       "\n",
       "                                             ratings  \\\n",
       "0  [{'id': 7, 'name': 'Funny', 'count': 19645}, {...   \n",
       "1  [{'id': 7, 'name': 'Funny', 'count': 544}, {'i...   \n",
       "\n",
       "                                       related_talks speaker_occupation  \\\n",
       "0  [{'id': 865, 'hero': 'https://pe.tedcdn.com/im...    Author/educator   \n",
       "1  [{'id': 243, 'hero': 'https://pe.tedcdn.com/im...   Climate advocate   \n",
       "\n",
       "                                                tags  \\\n",
       "0  ['children', 'creativity', 'culture', 'dance',...   \n",
       "1  ['alternative energy', 'cars', 'climate change...   \n",
       "\n",
       "                         title  \\\n",
       "0  Do schools kill creativity?   \n",
       "1  Averting the climate crisis   \n",
       "\n",
       "                                                 url     views  \n",
       "0  https://www.ted.com/talks/ken_robinson_says_sc...  47227110  \n",
       "1  https://www.ted.com/talks/al_gore_on_averting_...   3200520  "
      ]
     },
     "execution_count": 10,
     "metadata": {},
     "output_type": "execute_result"
    }
   ],
   "source": [
    "df_main.head(2)"
   ]
  },
  {
   "cell_type": "code",
   "execution_count": 11,
   "metadata": {},
   "outputs": [
    {
     "data": {
      "text/plain": [
       "(2550, 17)"
      ]
     },
     "execution_count": 11,
     "metadata": {},
     "output_type": "execute_result"
    }
   ],
   "source": [
    "df_main.shape"
   ]
  },
  {
   "cell_type": "code",
   "execution_count": 12,
   "metadata": {},
   "outputs": [
    {
     "data": {
      "text/plain": [
       "(2467, 2)"
      ]
     },
     "execution_count": 12,
     "metadata": {},
     "output_type": "execute_result"
    }
   ],
   "source": [
    "df_transcripts.shape"
   ]
  },
  {
   "cell_type": "code",
   "execution_count": 13,
   "metadata": {},
   "outputs": [
    {
     "data": {
      "text/html": [
       "<div>\n",
       "<style scoped>\n",
       "    .dataframe tbody tr th:only-of-type {\n",
       "        vertical-align: middle;\n",
       "    }\n",
       "\n",
       "    .dataframe tbody tr th {\n",
       "        vertical-align: top;\n",
       "    }\n",
       "\n",
       "    .dataframe thead th {\n",
       "        text-align: right;\n",
       "    }\n",
       "</style>\n",
       "<table border=\"1\" class=\"dataframe\">\n",
       "  <thead>\n",
       "    <tr style=\"text-align: right;\">\n",
       "      <th></th>\n",
       "      <th>transcript</th>\n",
       "      <th>url</th>\n",
       "    </tr>\n",
       "  </thead>\n",
       "  <tbody>\n",
       "    <tr>\n",
       "      <td>0</td>\n",
       "      <td>Good morning. How are you?(Laughter)It's been ...</td>\n",
       "      <td>https://www.ted.com/talks/ken_robinson_says_sc...</td>\n",
       "    </tr>\n",
       "    <tr>\n",
       "      <td>1</td>\n",
       "      <td>Thank you so much, Chris. And it's truly a gre...</td>\n",
       "      <td>https://www.ted.com/talks/al_gore_on_averting_...</td>\n",
       "    </tr>\n",
       "  </tbody>\n",
       "</table>\n",
       "</div>"
      ],
      "text/plain": [
       "                                          transcript  \\\n",
       "0  Good morning. How are you?(Laughter)It's been ...   \n",
       "1  Thank you so much, Chris. And it's truly a gre...   \n",
       "\n",
       "                                                 url  \n",
       "0  https://www.ted.com/talks/ken_robinson_says_sc...  \n",
       "1  https://www.ted.com/talks/al_gore_on_averting_...  "
      ]
     },
     "execution_count": 13,
     "metadata": {},
     "output_type": "execute_result"
    }
   ],
   "source": [
    "df_transcripts.head(2)"
   ]
  },
  {
   "cell_type": "code",
   "execution_count": 14,
   "metadata": {},
   "outputs": [
    {
     "name": "stdout",
     "output_type": "stream",
     "text": [
      "Combined Dataframe is read\n",
      "Raw dataset has 18 columns and 2467 talks\n"
     ]
    }
   ],
   "source": [
    "# Join both databases\n",
    "# lets work with those combined dataframe from both files\n",
    "df_joined = pd.merge (df_main, df_transcripts, how = 'inner', on = 'url')\n",
    "print ('Combined Dataframe is read')\n",
    "print ('Raw dataset has %d columns and %d talks'%(df_joined.shape[1], df_joined.shape[0]))"
   ]
  },
  {
   "cell_type": "code",
   "execution_count": 15,
   "metadata": {},
   "outputs": [
    {
     "name": "stdout",
     "output_type": "stream",
     "text": [
      "Columns with missing values are \n",
      "                ColName  MissingNumber\n",
      "12  speaker_occupation              6\n"
     ]
    }
   ],
   "source": [
    "# Look for any missing data\n",
    "missing_df = CheckMissing_df(df_joined)\n",
    "print ('Columns with missing values are \\n', missing_df[missing_df.MissingNumber != 0])"
   ]
  },
  {
   "cell_type": "code",
   "execution_count": 16,
   "metadata": {},
   "outputs": [
    {
     "name": "stdout",
     "output_type": "stream",
     "text": [
      "After filling, # missing in speaker occupation is 0\n"
     ]
    }
   ],
   "source": [
    "# Looks like speaker occupation is not available for 6 talks\n",
    "# Fill Missing values\n",
    "df_joined['speaker_occupation'].fillna('Unknown', inplace = True)\n",
    "print ('After filling, # missing in speaker occupation is', df_joined['speaker_occupation'].isna().sum())"
   ]
  },
  {
   "cell_type": "markdown",
   "metadata": {},
   "source": [
    "## Building a clean dataset"
   ]
  },
  {
   "cell_type": "code",
   "execution_count": 17,
   "metadata": {},
   "outputs": [],
   "source": [
    "df_clean = df_joined"
   ]
  },
  {
   "cell_type": "code",
   "execution_count": 18,
   "metadata": {},
   "outputs": [],
   "source": [
    "# Drop talks with more than 1 speaker\n",
    "df_clean = df_joined[df_joined.num_speaker == 1] # To avoid convoluting the analysis"
   ]
  },
  {
   "cell_type": "code",
   "execution_count": 19,
   "metadata": {},
   "outputs": [
    {
     "name": "stdout",
     "output_type": "stream",
     "text": [
      "After dropping extra columns, dataset has Index(['comments', 'description', 'duration', 'event', 'film_date',\n",
      "       'main_speaker', 'published_date', 'ratings', 'speaker_occupation',\n",
      "       'tags', 'title', 'transcript'],\n",
      "      dtype='object')\n"
     ]
    }
   ],
   "source": [
    "# Drop the columns that are not meaningful to the analysis\n",
    "df_clean = df_clean.drop(columns = ['related_talks', 'languages', 'url','name','views', 'num_speaker'])\n",
    "print ('After dropping extra columns, dataset has', df_clean.columns)"
   ]
  },
  {
   "cell_type": "code",
   "execution_count": 20,
   "metadata": {},
   "outputs": [
    {
     "data": {
      "text/plain": [
       "comments               int64\n",
       "description           object\n",
       "duration               int64\n",
       "event                 object\n",
       "film_date             object\n",
       "main_speaker          object\n",
       "published_date        object\n",
       "ratings               object\n",
       "speaker_occupation    object\n",
       "tags                  object\n",
       "title                 object\n",
       "transcript            object\n",
       "dtype: object"
      ]
     },
     "execution_count": 20,
     "metadata": {},
     "output_type": "execute_result"
    }
   ],
   "source": [
    "df_clean.dtypes"
   ]
  },
  {
   "cell_type": "code",
   "execution_count": null,
   "metadata": {},
   "outputs": [],
   "source": []
  },
  {
   "cell_type": "code",
   "execution_count": 21,
   "metadata": {},
   "outputs": [
    {
     "data": {
      "text/plain": [
       "0   2006-02-25\n",
       "1   2006-02-25\n",
       "2   2006-02-24\n",
       "Name: film_datestamp, dtype: datetime64[ns]"
      ]
     },
     "execution_count": 21,
     "metadata": {},
     "output_type": "execute_result"
    }
   ],
   "source": [
    "# Convert film_date into human readable format\n",
    "df_clean['film_datestamp'] = pd.to_datetime(df_clean['film_date'],unit='s')\n",
    "df_clean.film_datestamp.head(3)"
   ]
  },
  {
   "cell_type": "code",
   "execution_count": 22,
   "metadata": {},
   "outputs": [
    {
     "data": {
      "text/plain": [
       "0   2006-06-27 00:11:00\n",
       "1   2006-06-27 00:11:00\n",
       "2   2006-06-27 00:11:00\n",
       "Name: pub_datestamp, dtype: datetime64[ns]"
      ]
     },
     "execution_count": 22,
     "metadata": {},
     "output_type": "execute_result"
    }
   ],
   "source": [
    "# Do the same date conversaion with published datetime\n",
    "df_clean['pub_datestamp'] = pd.to_datetime(df_clean['published_date'], unit = 's')\n",
    "df_clean.pub_datestamp.head(3)"
   ]
  },
  {
   "cell_type": "markdown",
   "metadata": {},
   "source": [
    "# Text Analysis\n",
    "\n",
    "1. Sentence Counter\n",
    "Defining the number of sentence talks in spoken english needs some thought. Turns out, we do not speak in perfecty grammmatical sentences. So, we basically look at number of pauses in the talk to get an estimation of number of sentences. While this choice may be deatable from a purely grammatical standpoint, it lets us know where the speaker paused. As that may make the speech understandable, we will just count in thus way. \n"
   ]
  },
  {
   "cell_type": "code",
   "execution_count": 23,
   "metadata": {},
   "outputs": [],
   "source": [
    "# Build a sentence counter\n",
    "df_clean['sentence_count'] = df_clean['transcript'].apply(CountSentence)"
   ]
  },
  {
   "cell_type": "code",
   "execution_count": 24,
   "metadata": {},
   "outputs": [],
   "source": [
    "# Build a dictionary of audience reaction throughout the talk\n",
    "df_clean['aud_reaction_dict'] = df_clean['transcript'].apply(AudReaction)\n"
   ]
  },
  {
   "cell_type": "code",
   "execution_count": 25,
   "metadata": {
    "scrolled": true
   },
   "outputs": [],
   "source": [
    "# Lets build a word counter\n",
    "df_clean['word_count'] = df_clean['transcript'].apply(WordCount)\n",
    "# df_clean"
   ]
  },
  {
   "cell_type": "code",
   "execution_count": 26,
   "metadata": {},
   "outputs": [
    {
     "data": {
      "text/html": [
       "<div>\n",
       "<style scoped>\n",
       "    .dataframe tbody tr th:only-of-type {\n",
       "        vertical-align: middle;\n",
       "    }\n",
       "\n",
       "    .dataframe tbody tr th {\n",
       "        vertical-align: top;\n",
       "    }\n",
       "\n",
       "    .dataframe thead th {\n",
       "        text-align: right;\n",
       "    }\n",
       "</style>\n",
       "<table border=\"1\" class=\"dataframe\">\n",
       "  <thead>\n",
       "    <tr style=\"text-align: right;\">\n",
       "      <th></th>\n",
       "      <th>comments</th>\n",
       "      <th>description</th>\n",
       "      <th>duration</th>\n",
       "      <th>event</th>\n",
       "      <th>film_date</th>\n",
       "      <th>main_speaker</th>\n",
       "      <th>published_date</th>\n",
       "      <th>ratings</th>\n",
       "      <th>speaker_occupation</th>\n",
       "      <th>tags</th>\n",
       "      <th>title</th>\n",
       "      <th>transcript</th>\n",
       "      <th>film_datestamp</th>\n",
       "      <th>pub_datestamp</th>\n",
       "      <th>sentence_count</th>\n",
       "      <th>aud_reaction_dict</th>\n",
       "      <th>word_count</th>\n",
       "    </tr>\n",
       "  </thead>\n",
       "  <tbody>\n",
       "    <tr>\n",
       "      <td>0</td>\n",
       "      <td>4553</td>\n",
       "      <td>Sir Ken Robinson makes an entertaining and pro...</td>\n",
       "      <td>1164</td>\n",
       "      <td>TED2006</td>\n",
       "      <td>1140825600</td>\n",
       "      <td>Ken Robinson</td>\n",
       "      <td>1151367060</td>\n",
       "      <td>[{'id': 7, 'name': 'Funny', 'count': 19645}, {...</td>\n",
       "      <td>Author/educator</td>\n",
       "      <td>['children', 'creativity', 'culture', 'dance',...</td>\n",
       "      <td>Do schools kill creativity?</td>\n",
       "      <td>Good morning. How are you?(Laughter)It's been ...</td>\n",
       "      <td>2006-02-25</td>\n",
       "      <td>2006-06-27 00:11:00</td>\n",
       "      <td>223</td>\n",
       "      <td>{'Laughter': 39, 'Applause': 4}</td>\n",
       "      <td>3172</td>\n",
       "    </tr>\n",
       "    <tr>\n",
       "      <td>1</td>\n",
       "      <td>265</td>\n",
       "      <td>With the same humor and humanity he exuded in ...</td>\n",
       "      <td>977</td>\n",
       "      <td>TED2006</td>\n",
       "      <td>1140825600</td>\n",
       "      <td>Al Gore</td>\n",
       "      <td>1151367060</td>\n",
       "      <td>[{'id': 7, 'name': 'Funny', 'count': 544}, {'i...</td>\n",
       "      <td>Climate advocate</td>\n",
       "      <td>['alternative energy', 'cars', 'climate change...</td>\n",
       "      <td>Averting the climate crisis</td>\n",
       "      <td>Thank you so much, Chris. And it's truly a gre...</td>\n",
       "      <td>2006-02-25</td>\n",
       "      <td>2006-06-27 00:11:00</td>\n",
       "      <td>141</td>\n",
       "      <td>{'Mock sob': 2, 'Laughter': 22, 'Applause': 6}</td>\n",
       "      <td>2081</td>\n",
       "    </tr>\n",
       "    <tr>\n",
       "      <td>2</td>\n",
       "      <td>124</td>\n",
       "      <td>New York Times columnist David Pogue takes aim...</td>\n",
       "      <td>1286</td>\n",
       "      <td>TED2006</td>\n",
       "      <td>1140739200</td>\n",
       "      <td>David Pogue</td>\n",
       "      <td>1151367060</td>\n",
       "      <td>[{'id': 7, 'name': 'Funny', 'count': 964}, {'i...</td>\n",
       "      <td>Technology columnist</td>\n",
       "      <td>['computers', 'entertainment', 'interface desi...</td>\n",
       "      <td>Simplicity sells</td>\n",
       "      <td>(Music: \"The Sound of Silence,\" Simon &amp; Garfun...</td>\n",
       "      <td>2006-02-24</td>\n",
       "      <td>2006-06-27 00:11:00</td>\n",
       "      <td>250</td>\n",
       "      <td>{'Music: \"The Sound of Silence,\" Simon &amp; Garfu...</td>\n",
       "      <td>3375</td>\n",
       "    </tr>\n",
       "  </tbody>\n",
       "</table>\n",
       "</div>"
      ],
      "text/plain": [
       "   comments                                        description  duration  \\\n",
       "0      4553  Sir Ken Robinson makes an entertaining and pro...      1164   \n",
       "1       265  With the same humor and humanity he exuded in ...       977   \n",
       "2       124  New York Times columnist David Pogue takes aim...      1286   \n",
       "\n",
       "     event   film_date  main_speaker published_date  \\\n",
       "0  TED2006  1140825600  Ken Robinson     1151367060   \n",
       "1  TED2006  1140825600       Al Gore     1151367060   \n",
       "2  TED2006  1140739200   David Pogue     1151367060   \n",
       "\n",
       "                                             ratings    speaker_occupation  \\\n",
       "0  [{'id': 7, 'name': 'Funny', 'count': 19645}, {...       Author/educator   \n",
       "1  [{'id': 7, 'name': 'Funny', 'count': 544}, {'i...      Climate advocate   \n",
       "2  [{'id': 7, 'name': 'Funny', 'count': 964}, {'i...  Technology columnist   \n",
       "\n",
       "                                                tags  \\\n",
       "0  ['children', 'creativity', 'culture', 'dance',...   \n",
       "1  ['alternative energy', 'cars', 'climate change...   \n",
       "2  ['computers', 'entertainment', 'interface desi...   \n",
       "\n",
       "                         title  \\\n",
       "0  Do schools kill creativity?   \n",
       "1  Averting the climate crisis   \n",
       "2             Simplicity sells   \n",
       "\n",
       "                                          transcript film_datestamp  \\\n",
       "0  Good morning. How are you?(Laughter)It's been ...     2006-02-25   \n",
       "1  Thank you so much, Chris. And it's truly a gre...     2006-02-25   \n",
       "2  (Music: \"The Sound of Silence,\" Simon & Garfun...     2006-02-24   \n",
       "\n",
       "        pub_datestamp  sentence_count  \\\n",
       "0 2006-06-27 00:11:00             223   \n",
       "1 2006-06-27 00:11:00             141   \n",
       "2 2006-06-27 00:11:00             250   \n",
       "\n",
       "                                   aud_reaction_dict  word_count  \n",
       "0                    {'Laughter': 39, 'Applause': 4}        3172  \n",
       "1     {'Mock sob': 2, 'Laughter': 22, 'Applause': 6}        2081  \n",
       "2  {'Music: \"The Sound of Silence,\" Simon & Garfu...        3375  "
      ]
     },
     "execution_count": 26,
     "metadata": {},
     "output_type": "execute_result"
    }
   ],
   "source": [
    "df_clean.head(3)"
   ]
  },
  {
   "cell_type": "code",
   "execution_count": 27,
   "metadata": {},
   "outputs": [
    {
     "data": {
      "text/plain": [
       "comments                       int64\n",
       "description                   object\n",
       "duration                       int64\n",
       "event                         object\n",
       "film_date                     object\n",
       "main_speaker                  object\n",
       "published_date                object\n",
       "ratings                       object\n",
       "speaker_occupation            object\n",
       "tags                          object\n",
       "title                         object\n",
       "transcript                    object\n",
       "film_datestamp        datetime64[ns]\n",
       "pub_datestamp         datetime64[ns]\n",
       "sentence_count                 int64\n",
       "aud_reaction_dict             object\n",
       "word_count                     int64\n",
       "dtype: object"
      ]
     },
     "execution_count": 27,
     "metadata": {},
     "output_type": "execute_result"
    }
   ],
   "source": [
    "df_clean.dtypes"
   ]
  },
  {
   "cell_type": "markdown",
   "metadata": {},
   "source": [
    "## Creating a Audience reaction Columns\n",
    "To create audience reaction columns, we do the following\n",
    "1. Extract audience reactions from transcript and have them as a dictionary\n",
    "2. Convert the dictionary to a dataframe, resulting in a sparsely populated df with several columns\n",
    "3. Consolidate this df by merging sparse columns and filling in misisng values\n",
    "4. Reduce number of columns in this way and append to clean dataframe"
   ]
  },
  {
   "cell_type": "code",
   "execution_count": 28,
   "metadata": {},
   "outputs": [
    {
     "data": {
      "text/plain": [
       "{'Music: \"The Sound of Silence,\" Simon & Garfunkel': 1,\n",
       " 'Laughter': 38,\n",
       " 'Piano music': 1,\n",
       " 'Applause': 12,\n",
       " 'Music': 2}"
      ]
     },
     "execution_count": 28,
     "metadata": {},
     "output_type": "execute_result"
    }
   ],
   "source": [
    "# Example of dict element in audience reaction column\n",
    "df_clean.loc[2,'aud_reaction_dict']"
   ]
  },
  {
   "cell_type": "code",
   "execution_count": 29,
   "metadata": {
    "scrolled": false
   },
   "outputs": [
    {
     "data": {
      "text/html": [
       "<div>\n",
       "<style scoped>\n",
       "    .dataframe tbody tr th:only-of-type {\n",
       "        vertical-align: middle;\n",
       "    }\n",
       "\n",
       "    .dataframe tbody tr th {\n",
       "        vertical-align: top;\n",
       "    }\n",
       "\n",
       "    .dataframe thead th {\n",
       "        text-align: right;\n",
       "    }\n",
       "</style>\n",
       "<table border=\"1\" class=\"dataframe\">\n",
       "  <thead>\n",
       "    <tr style=\"text-align: right;\">\n",
       "      <th></th>\n",
       "      <th>Laughter</th>\n",
       "      <th>Applause</th>\n",
       "      <th>Mock sob</th>\n",
       "      <th>Music: \"The Sound of Silence,\" Simon &amp; Garfunkel</th>\n",
       "      <th>Piano music</th>\n",
       "      <th>Music</th>\n",
       "      <th>Audience whistles</th>\n",
       "      <th>Applause ends</th>\n",
       "      <th>Laughter and applause</th>\n",
       "      <th>Applause continues</th>\n",
       "      <th>...</th>\n",
       "      <th>Distorted voice</th>\n",
       "      <th>Speaks more loudly</th>\n",
       "      <th>Khmer</th>\n",
       "      <th>Singing in Arabic</th>\n",
       "      <th>Cracking sound</th>\n",
       "      <th>Audience guesses</th>\n",
       "      <th>Audience murmurs</th>\n",
       "      <th>Audience responds</th>\n",
       "      <th>A capella singing</th>\n",
       "      <th>offscreen</th>\n",
       "    </tr>\n",
       "  </thead>\n",
       "  <tbody>\n",
       "    <tr>\n",
       "      <td>0</td>\n",
       "      <td>39.0</td>\n",
       "      <td>4.0</td>\n",
       "      <td>NaN</td>\n",
       "      <td>NaN</td>\n",
       "      <td>NaN</td>\n",
       "      <td>NaN</td>\n",
       "      <td>NaN</td>\n",
       "      <td>NaN</td>\n",
       "      <td>NaN</td>\n",
       "      <td>NaN</td>\n",
       "      <td>...</td>\n",
       "      <td>NaN</td>\n",
       "      <td>NaN</td>\n",
       "      <td>NaN</td>\n",
       "      <td>NaN</td>\n",
       "      <td>NaN</td>\n",
       "      <td>NaN</td>\n",
       "      <td>NaN</td>\n",
       "      <td>NaN</td>\n",
       "      <td>NaN</td>\n",
       "      <td>NaN</td>\n",
       "    </tr>\n",
       "    <tr>\n",
       "      <td>1</td>\n",
       "      <td>22.0</td>\n",
       "      <td>6.0</td>\n",
       "      <td>2.0</td>\n",
       "      <td>NaN</td>\n",
       "      <td>NaN</td>\n",
       "      <td>NaN</td>\n",
       "      <td>NaN</td>\n",
       "      <td>NaN</td>\n",
       "      <td>NaN</td>\n",
       "      <td>NaN</td>\n",
       "      <td>...</td>\n",
       "      <td>NaN</td>\n",
       "      <td>NaN</td>\n",
       "      <td>NaN</td>\n",
       "      <td>NaN</td>\n",
       "      <td>NaN</td>\n",
       "      <td>NaN</td>\n",
       "      <td>NaN</td>\n",
       "      <td>NaN</td>\n",
       "      <td>NaN</td>\n",
       "      <td>NaN</td>\n",
       "    </tr>\n",
       "    <tr>\n",
       "      <td>2</td>\n",
       "      <td>38.0</td>\n",
       "      <td>12.0</td>\n",
       "      <td>NaN</td>\n",
       "      <td>1.0</td>\n",
       "      <td>1.0</td>\n",
       "      <td>2.0</td>\n",
       "      <td>NaN</td>\n",
       "      <td>NaN</td>\n",
       "      <td>NaN</td>\n",
       "      <td>NaN</td>\n",
       "      <td>...</td>\n",
       "      <td>NaN</td>\n",
       "      <td>NaN</td>\n",
       "      <td>NaN</td>\n",
       "      <td>NaN</td>\n",
       "      <td>NaN</td>\n",
       "      <td>NaN</td>\n",
       "      <td>NaN</td>\n",
       "      <td>NaN</td>\n",
       "      <td>NaN</td>\n",
       "      <td>NaN</td>\n",
       "    </tr>\n",
       "  </tbody>\n",
       "</table>\n",
       "<p>3 rows × 791 columns</p>\n",
       "</div>"
      ],
      "text/plain": [
       "   Laughter  Applause  Mock sob  \\\n",
       "0      39.0       4.0       NaN   \n",
       "1      22.0       6.0       2.0   \n",
       "2      38.0      12.0       NaN   \n",
       "\n",
       "   Music: \"The Sound of Silence,\" Simon & Garfunkel  Piano music  Music  \\\n",
       "0                                               NaN          NaN    NaN   \n",
       "1                                               NaN          NaN    NaN   \n",
       "2                                               1.0          1.0    2.0   \n",
       "\n",
       "   Audience whistles  Applause ends  Laughter and applause  \\\n",
       "0                NaN            NaN                    NaN   \n",
       "1                NaN            NaN                    NaN   \n",
       "2                NaN            NaN                    NaN   \n",
       "\n",
       "   Applause continues  ...  Distorted voice  Speaks more loudly  Khmer  \\\n",
       "0                 NaN  ...              NaN                 NaN    NaN   \n",
       "1                 NaN  ...              NaN                 NaN    NaN   \n",
       "2                 NaN  ...              NaN                 NaN    NaN   \n",
       "\n",
       "   Singing in Arabic  Cracking sound  Audience guesses  Audience murmurs  \\\n",
       "0                NaN             NaN               NaN               NaN   \n",
       "1                NaN             NaN               NaN               NaN   \n",
       "2                NaN             NaN               NaN               NaN   \n",
       "\n",
       "   Audience responds  A capella singing  offscreen  \n",
       "0                NaN                NaN        NaN  \n",
       "1                NaN                NaN        NaN  \n",
       "2                NaN                NaN        NaN  \n",
       "\n",
       "[3 rows x 791 columns]"
      ]
     },
     "execution_count": 29,
     "metadata": {},
     "output_type": "execute_result"
    }
   ],
   "source": [
    "# Convert the dictionary of audience reactions into separate columns for aud reactions\n",
    "df_aud_react = df_clean['aud_reaction_dict'].apply(pd.Series)\n",
    "df_aud_react.head(3)"
   ]
  },
  {
   "cell_type": "markdown",
   "metadata": {},
   "source": [
    "As can be seen, there are 791 unique audience reactions, which need to be brought down"
   ]
  },
  {
   "cell_type": "code",
   "execution_count": 30,
   "metadata": {},
   "outputs": [],
   "source": [
    "df_aud_clean = df_aud_react"
   ]
  },
  {
   "cell_type": "code",
   "execution_count": 31,
   "metadata": {},
   "outputs": [
    {
     "data": {
      "text/plain": [
       "Index(['Laughter', 'Applause', 'Mock sob',\n",
       "       'Music: \"The Sound of Silence,\" Simon & Garfunkel', 'Piano music',\n",
       "       'Music', 'Audience whistles', 'Applause ends', 'Laughter and applause',\n",
       "       'Applause continues',\n",
       "       ...\n",
       "       'Distorted voice', 'Speaks more loudly', 'Khmer', 'Singing in Arabic',\n",
       "       'Cracking sound', 'Audience guesses', 'Audience murmurs',\n",
       "       'Audience responds', 'A capella singing', 'offscreen'],\n",
       "      dtype='object', length=791)"
      ]
     },
     "execution_count": 31,
     "metadata": {},
     "output_type": "execute_result"
    }
   ],
   "source": [
    "# Change all column names to lower case\n",
    "col_names = df_aud_clean.columns\n",
    "col_names"
   ]
  },
  {
   "cell_type": "code",
   "execution_count": 34,
   "metadata": {},
   "outputs": [],
   "source": [
    "new_col_names = [X.lower() for X in col_names]\n",
    "# new_col_names"
   ]
  },
  {
   "cell_type": "code",
   "execution_count": 35,
   "metadata": {},
   "outputs": [],
   "source": [
    "df_aud_clean.columns = new_col_names"
   ]
  },
  {
   "cell_type": "code",
   "execution_count": 36,
   "metadata": {
    "scrolled": true
   },
   "outputs": [
    {
     "data": {
      "text/plain": [
       "Index(['applause', 'laughter', 'mock sob', 'music',\n",
       "       'music: \"the sound of silence,\" simon & garfunkel', 'piano music',\n",
       "       'audience whistles', 'applause ends', 'laughter and applause',\n",
       "       'applause continues',\n",
       "       ...\n",
       "       'distorted voice', 'speaks more loudly', 'khmer', 'singing in arabic',\n",
       "       'audience guesses', 'cracking sound', 'audience murmurs',\n",
       "       'audience responds', 'offscreen', 'a capella singing'],\n",
       "      dtype='object', length=791)"
      ]
     },
     "execution_count": 36,
     "metadata": {},
     "output_type": "execute_result"
    }
   ],
   "source": [
    "df_aud_clean.columns"
   ]
  },
  {
   "cell_type": "code",
   "execution_count": 37,
   "metadata": {
    "scrolled": true
   },
   "outputs": [],
   "source": [
    "# df_aud_clean.describe()"
   ]
  },
  {
   "cell_type": "code",
   "execution_count": 38,
   "metadata": {},
   "outputs": [
    {
     "data": {
      "text/plain": [
       "(2412, 791)"
      ]
     },
     "execution_count": 38,
     "metadata": {},
     "output_type": "execute_result"
    }
   ],
   "source": [
    "df_aud_clean.shape"
   ]
  },
  {
   "cell_type": "code",
   "execution_count": 39,
   "metadata": {},
   "outputs": [
    {
     "data": {
      "text/plain": [
       "(2412, 12)"
      ]
     },
     "execution_count": 39,
     "metadata": {},
     "output_type": "execute_result"
    }
   ],
   "source": [
    "df_aud_clean = df_aud_clean.dropna(axis = 1, thresh = 10)\n",
    "df_aud_clean.shape"
   ]
  },
  {
   "cell_type": "code",
   "execution_count": 40,
   "metadata": {},
   "outputs": [
    {
     "data": {
      "text/plain": [
       "Index(['applause', 'laughter', 'music', 'applause ends', 'cheering', 'sighs',\n",
       "       'singing', 'video', 'music ends', 'laughs', 'audio', 'cheers'],\n",
       "      dtype='object')"
      ]
     },
     "execution_count": 40,
     "metadata": {},
     "output_type": "execute_result"
    }
   ],
   "source": [
    "df_aud_clean.columns"
   ]
  },
  {
   "cell_type": "markdown",
   "metadata": {},
   "source": [
    "By dropping all columns which have less than 15 values, we drop the column count from 791 to 10. Lets look at the columns"
   ]
  },
  {
   "cell_type": "code",
   "execution_count": 41,
   "metadata": {
    "scrolled": true
   },
   "outputs": [
    {
     "data": {
      "text/html": [
       "<div>\n",
       "<style scoped>\n",
       "    .dataframe tbody tr th:only-of-type {\n",
       "        vertical-align: middle;\n",
       "    }\n",
       "\n",
       "    .dataframe tbody tr th {\n",
       "        vertical-align: top;\n",
       "    }\n",
       "\n",
       "    .dataframe thead th {\n",
       "        text-align: right;\n",
       "    }\n",
       "</style>\n",
       "<table border=\"1\" class=\"dataframe\">\n",
       "  <thead>\n",
       "    <tr style=\"text-align: right;\">\n",
       "      <th></th>\n",
       "      <th>applause</th>\n",
       "      <th>laughter</th>\n",
       "      <th>music</th>\n",
       "      <th>applause ends</th>\n",
       "      <th>cheering</th>\n",
       "      <th>sighs</th>\n",
       "      <th>singing</th>\n",
       "      <th>video</th>\n",
       "      <th>music ends</th>\n",
       "      <th>laughs</th>\n",
       "      <th>audio</th>\n",
       "      <th>cheers</th>\n",
       "    </tr>\n",
       "  </thead>\n",
       "  <tbody>\n",
       "    <tr>\n",
       "      <td>count</td>\n",
       "      <td>2288.000000</td>\n",
       "      <td>1767.000000</td>\n",
       "      <td>205.000000</td>\n",
       "      <td>27.000000</td>\n",
       "      <td>15.000000</td>\n",
       "      <td>10.000000</td>\n",
       "      <td>16.000000</td>\n",
       "      <td>167.000000</td>\n",
       "      <td>16.000000</td>\n",
       "      <td>39.000000</td>\n",
       "      <td>11.000000</td>\n",
       "      <td>28.000000</td>\n",
       "    </tr>\n",
       "    <tr>\n",
       "      <td>mean</td>\n",
       "      <td>2.291958</td>\n",
       "      <td>5.615733</td>\n",
       "      <td>2.780488</td>\n",
       "      <td>1.481481</td>\n",
       "      <td>1.133333</td>\n",
       "      <td>1.600000</td>\n",
       "      <td>2.500000</td>\n",
       "      <td>2.083832</td>\n",
       "      <td>2.562500</td>\n",
       "      <td>1.179487</td>\n",
       "      <td>5.090909</td>\n",
       "      <td>1.357143</td>\n",
       "    </tr>\n",
       "    <tr>\n",
       "      <td>std</td>\n",
       "      <td>1.987826</td>\n",
       "      <td>6.567969</td>\n",
       "      <td>2.951505</td>\n",
       "      <td>1.014145</td>\n",
       "      <td>0.351866</td>\n",
       "      <td>1.577621</td>\n",
       "      <td>2.804758</td>\n",
       "      <td>1.961722</td>\n",
       "      <td>1.672075</td>\n",
       "      <td>0.506370</td>\n",
       "      <td>5.769827</td>\n",
       "      <td>0.621485</td>\n",
       "    </tr>\n",
       "    <tr>\n",
       "      <td>min</td>\n",
       "      <td>1.000000</td>\n",
       "      <td>1.000000</td>\n",
       "      <td>1.000000</td>\n",
       "      <td>1.000000</td>\n",
       "      <td>1.000000</td>\n",
       "      <td>1.000000</td>\n",
       "      <td>1.000000</td>\n",
       "      <td>1.000000</td>\n",
       "      <td>1.000000</td>\n",
       "      <td>1.000000</td>\n",
       "      <td>1.000000</td>\n",
       "      <td>1.000000</td>\n",
       "    </tr>\n",
       "    <tr>\n",
       "      <td>25%</td>\n",
       "      <td>1.000000</td>\n",
       "      <td>2.000000</td>\n",
       "      <td>1.000000</td>\n",
       "      <td>1.000000</td>\n",
       "      <td>1.000000</td>\n",
       "      <td>1.000000</td>\n",
       "      <td>1.000000</td>\n",
       "      <td>1.000000</td>\n",
       "      <td>1.000000</td>\n",
       "      <td>1.000000</td>\n",
       "      <td>2.000000</td>\n",
       "      <td>1.000000</td>\n",
       "    </tr>\n",
       "    <tr>\n",
       "      <td>50%</td>\n",
       "      <td>1.000000</td>\n",
       "      <td>4.000000</td>\n",
       "      <td>2.000000</td>\n",
       "      <td>1.000000</td>\n",
       "      <td>1.000000</td>\n",
       "      <td>1.000000</td>\n",
       "      <td>1.000000</td>\n",
       "      <td>1.000000</td>\n",
       "      <td>2.500000</td>\n",
       "      <td>1.000000</td>\n",
       "      <td>3.000000</td>\n",
       "      <td>1.000000</td>\n",
       "    </tr>\n",
       "    <tr>\n",
       "      <td>75%</td>\n",
       "      <td>3.000000</td>\n",
       "      <td>7.000000</td>\n",
       "      <td>3.000000</td>\n",
       "      <td>1.500000</td>\n",
       "      <td>1.000000</td>\n",
       "      <td>1.000000</td>\n",
       "      <td>2.250000</td>\n",
       "      <td>3.000000</td>\n",
       "      <td>3.250000</td>\n",
       "      <td>1.000000</td>\n",
       "      <td>4.500000</td>\n",
       "      <td>2.000000</td>\n",
       "    </tr>\n",
       "    <tr>\n",
       "      <td>max</td>\n",
       "      <td>18.000000</td>\n",
       "      <td>74.000000</td>\n",
       "      <td>20.000000</td>\n",
       "      <td>5.000000</td>\n",
       "      <td>2.000000</td>\n",
       "      <td>6.000000</td>\n",
       "      <td>9.000000</td>\n",
       "      <td>14.000000</td>\n",
       "      <td>7.000000</td>\n",
       "      <td>3.000000</td>\n",
       "      <td>17.000000</td>\n",
       "      <td>3.000000</td>\n",
       "    </tr>\n",
       "  </tbody>\n",
       "</table>\n",
       "</div>"
      ],
      "text/plain": [
       "          applause     laughter       music  applause ends   cheering  \\\n",
       "count  2288.000000  1767.000000  205.000000      27.000000  15.000000   \n",
       "mean      2.291958     5.615733    2.780488       1.481481   1.133333   \n",
       "std       1.987826     6.567969    2.951505       1.014145   0.351866   \n",
       "min       1.000000     1.000000    1.000000       1.000000   1.000000   \n",
       "25%       1.000000     2.000000    1.000000       1.000000   1.000000   \n",
       "50%       1.000000     4.000000    2.000000       1.000000   1.000000   \n",
       "75%       3.000000     7.000000    3.000000       1.500000   1.000000   \n",
       "max      18.000000    74.000000   20.000000       5.000000   2.000000   \n",
       "\n",
       "           sighs    singing       video  music ends     laughs      audio  \\\n",
       "count  10.000000  16.000000  167.000000   16.000000  39.000000  11.000000   \n",
       "mean    1.600000   2.500000    2.083832    2.562500   1.179487   5.090909   \n",
       "std     1.577621   2.804758    1.961722    1.672075   0.506370   5.769827   \n",
       "min     1.000000   1.000000    1.000000    1.000000   1.000000   1.000000   \n",
       "25%     1.000000   1.000000    1.000000    1.000000   1.000000   2.000000   \n",
       "50%     1.000000   1.000000    1.000000    2.500000   1.000000   3.000000   \n",
       "75%     1.000000   2.250000    3.000000    3.250000   1.000000   4.500000   \n",
       "max     6.000000   9.000000   14.000000    7.000000   3.000000  17.000000   \n",
       "\n",
       "          cheers  \n",
       "count  28.000000  \n",
       "mean    1.357143  \n",
       "std     0.621485  \n",
       "min     1.000000  \n",
       "25%     1.000000  \n",
       "50%     1.000000  \n",
       "75%     2.000000  \n",
       "max     3.000000  "
      ]
     },
     "execution_count": 41,
     "metadata": {},
     "output_type": "execute_result"
    }
   ],
   "source": [
    "df_aud_clean.describe()"
   ]
  },
  {
   "cell_type": "markdown",
   "metadata": {},
   "source": [
    "Further consolidating the columns\n"
   ]
  },
  {
   "cell_type": "code",
   "execution_count": 42,
   "metadata": {
    "scrolled": false
   },
   "outputs": [
    {
     "data": {
      "text/html": [
       "<div>\n",
       "<style scoped>\n",
       "    .dataframe tbody tr th:only-of-type {\n",
       "        vertical-align: middle;\n",
       "    }\n",
       "\n",
       "    .dataframe tbody tr th {\n",
       "        vertical-align: top;\n",
       "    }\n",
       "\n",
       "    .dataframe thead th {\n",
       "        text-align: right;\n",
       "    }\n",
       "</style>\n",
       "<table border=\"1\" class=\"dataframe\">\n",
       "  <thead>\n",
       "    <tr style=\"text-align: right;\">\n",
       "      <th></th>\n",
       "      <th>applause</th>\n",
       "      <th>laughter</th>\n",
       "      <th>music</th>\n",
       "      <th>applause ends</th>\n",
       "      <th>cheering</th>\n",
       "      <th>sighs</th>\n",
       "      <th>singing</th>\n",
       "      <th>video</th>\n",
       "      <th>music ends</th>\n",
       "      <th>laughs</th>\n",
       "      <th>audio</th>\n",
       "      <th>cheers</th>\n",
       "    </tr>\n",
       "  </thead>\n",
       "  <tbody>\n",
       "    <tr>\n",
       "      <td>0</td>\n",
       "      <td>4.0</td>\n",
       "      <td>39.0</td>\n",
       "      <td>0.0</td>\n",
       "      <td>0.0</td>\n",
       "      <td>0.0</td>\n",
       "      <td>0.0</td>\n",
       "      <td>0.0</td>\n",
       "      <td>0.0</td>\n",
       "      <td>0.0</td>\n",
       "      <td>0.0</td>\n",
       "      <td>0.0</td>\n",
       "      <td>0.0</td>\n",
       "    </tr>\n",
       "    <tr>\n",
       "      <td>1</td>\n",
       "      <td>6.0</td>\n",
       "      <td>22.0</td>\n",
       "      <td>0.0</td>\n",
       "      <td>0.0</td>\n",
       "      <td>0.0</td>\n",
       "      <td>0.0</td>\n",
       "      <td>0.0</td>\n",
       "      <td>0.0</td>\n",
       "      <td>0.0</td>\n",
       "      <td>0.0</td>\n",
       "      <td>0.0</td>\n",
       "      <td>0.0</td>\n",
       "    </tr>\n",
       "    <tr>\n",
       "      <td>2</td>\n",
       "      <td>12.0</td>\n",
       "      <td>38.0</td>\n",
       "      <td>2.0</td>\n",
       "      <td>0.0</td>\n",
       "      <td>0.0</td>\n",
       "      <td>0.0</td>\n",
       "      <td>0.0</td>\n",
       "      <td>0.0</td>\n",
       "      <td>0.0</td>\n",
       "      <td>0.0</td>\n",
       "      <td>0.0</td>\n",
       "      <td>0.0</td>\n",
       "    </tr>\n",
       "    <tr>\n",
       "      <td>3</td>\n",
       "      <td>7.0</td>\n",
       "      <td>10.0</td>\n",
       "      <td>0.0</td>\n",
       "      <td>0.0</td>\n",
       "      <td>0.0</td>\n",
       "      <td>0.0</td>\n",
       "      <td>0.0</td>\n",
       "      <td>0.0</td>\n",
       "      <td>0.0</td>\n",
       "      <td>0.0</td>\n",
       "      <td>0.0</td>\n",
       "      <td>0.0</td>\n",
       "    </tr>\n",
       "    <tr>\n",
       "      <td>4</td>\n",
       "      <td>3.0</td>\n",
       "      <td>10.0</td>\n",
       "      <td>0.0</td>\n",
       "      <td>1.0</td>\n",
       "      <td>0.0</td>\n",
       "      <td>0.0</td>\n",
       "      <td>0.0</td>\n",
       "      <td>0.0</td>\n",
       "      <td>0.0</td>\n",
       "      <td>0.0</td>\n",
       "      <td>0.0</td>\n",
       "      <td>0.0</td>\n",
       "    </tr>\n",
       "  </tbody>\n",
       "</table>\n",
       "</div>"
      ],
      "text/plain": [
       "   applause  laughter  music  applause ends  cheering  sighs  singing  video  \\\n",
       "0       4.0      39.0    0.0            0.0       0.0    0.0      0.0    0.0   \n",
       "1       6.0      22.0    0.0            0.0       0.0    0.0      0.0    0.0   \n",
       "2      12.0      38.0    2.0            0.0       0.0    0.0      0.0    0.0   \n",
       "3       7.0      10.0    0.0            0.0       0.0    0.0      0.0    0.0   \n",
       "4       3.0      10.0    0.0            1.0       0.0    0.0      0.0    0.0   \n",
       "\n",
       "   music ends  laughs  audio  cheers  \n",
       "0         0.0     0.0    0.0     0.0  \n",
       "1         0.0     0.0    0.0     0.0  \n",
       "2         0.0     0.0    0.0     0.0  \n",
       "3         0.0     0.0    0.0     0.0  \n",
       "4         0.0     0.0    0.0     0.0  "
      ]
     },
     "execution_count": 42,
     "metadata": {},
     "output_type": "execute_result"
    }
   ],
   "source": [
    "df_aud_clean = df_aud_clean.fillna(0)\n",
    "df_aud_clean.head()\n"
   ]
  },
  {
   "cell_type": "code",
   "execution_count": 43,
   "metadata": {},
   "outputs": [
    {
     "data": {
      "text/plain": [
       "(2412, 12)"
      ]
     },
     "execution_count": 43,
     "metadata": {},
     "output_type": "execute_result"
    }
   ],
   "source": [
    "df_aud_clean.shape"
   ]
  },
  {
   "cell_type": "code",
   "execution_count": 44,
   "metadata": {
    "scrolled": true
   },
   "outputs": [
    {
     "data": {
      "text/html": [
       "<div>\n",
       "<style scoped>\n",
       "    .dataframe tbody tr th:only-of-type {\n",
       "        vertical-align: middle;\n",
       "    }\n",
       "\n",
       "    .dataframe tbody tr th {\n",
       "        vertical-align: top;\n",
       "    }\n",
       "\n",
       "    .dataframe thead th {\n",
       "        text-align: right;\n",
       "    }\n",
       "</style>\n",
       "<table border=\"1\" class=\"dataframe\">\n",
       "  <thead>\n",
       "    <tr style=\"text-align: right;\">\n",
       "      <th></th>\n",
       "      <th>applause</th>\n",
       "      <th>laughter</th>\n",
       "      <th>music</th>\n",
       "      <th>applause ends</th>\n",
       "      <th>cheering</th>\n",
       "      <th>sighs</th>\n",
       "      <th>singing</th>\n",
       "      <th>video</th>\n",
       "      <th>music ends</th>\n",
       "      <th>laughs</th>\n",
       "      <th>audio</th>\n",
       "      <th>cheers</th>\n",
       "    </tr>\n",
       "  </thead>\n",
       "  <tbody>\n",
       "    <tr>\n",
       "      <td>count</td>\n",
       "      <td>2412.000000</td>\n",
       "      <td>2412.000000</td>\n",
       "      <td>2412.000000</td>\n",
       "      <td>2412.000000</td>\n",
       "      <td>2412.000000</td>\n",
       "      <td>2412.000000</td>\n",
       "      <td>2412.000000</td>\n",
       "      <td>2412.000000</td>\n",
       "      <td>2412.000000</td>\n",
       "      <td>2412.000000</td>\n",
       "      <td>2412.000000</td>\n",
       "      <td>2412.000000</td>\n",
       "    </tr>\n",
       "    <tr>\n",
       "      <td>mean</td>\n",
       "      <td>2.190713</td>\n",
       "      <td>4.133085</td>\n",
       "      <td>0.253317</td>\n",
       "      <td>0.016584</td>\n",
       "      <td>0.022803</td>\n",
       "      <td>0.006633</td>\n",
       "      <td>0.016584</td>\n",
       "      <td>0.144279</td>\n",
       "      <td>0.016998</td>\n",
       "      <td>0.019071</td>\n",
       "      <td>0.023217</td>\n",
       "      <td>0.015755</td>\n",
       "    </tr>\n",
       "    <tr>\n",
       "      <td>std</td>\n",
       "      <td>2.049802</td>\n",
       "      <td>6.154457</td>\n",
       "      <td>1.267634</td>\n",
       "      <td>0.188135</td>\n",
       "      <td>0.186373</td>\n",
       "      <td>0.140942</td>\n",
       "      <td>0.300240</td>\n",
       "      <td>0.738184</td>\n",
       "      <td>0.246336</td>\n",
       "      <td>0.161806</td>\n",
       "      <td>0.505753</td>\n",
       "      <td>0.159584</td>\n",
       "    </tr>\n",
       "    <tr>\n",
       "      <td>min</td>\n",
       "      <td>0.000000</td>\n",
       "      <td>0.000000</td>\n",
       "      <td>0.000000</td>\n",
       "      <td>0.000000</td>\n",
       "      <td>0.000000</td>\n",
       "      <td>0.000000</td>\n",
       "      <td>0.000000</td>\n",
       "      <td>0.000000</td>\n",
       "      <td>0.000000</td>\n",
       "      <td>0.000000</td>\n",
       "      <td>0.000000</td>\n",
       "      <td>0.000000</td>\n",
       "    </tr>\n",
       "    <tr>\n",
       "      <td>25%</td>\n",
       "      <td>1.000000</td>\n",
       "      <td>0.000000</td>\n",
       "      <td>0.000000</td>\n",
       "      <td>0.000000</td>\n",
       "      <td>0.000000</td>\n",
       "      <td>0.000000</td>\n",
       "      <td>0.000000</td>\n",
       "      <td>0.000000</td>\n",
       "      <td>0.000000</td>\n",
       "      <td>0.000000</td>\n",
       "      <td>0.000000</td>\n",
       "      <td>0.000000</td>\n",
       "    </tr>\n",
       "    <tr>\n",
       "      <td>50%</td>\n",
       "      <td>1.000000</td>\n",
       "      <td>2.000000</td>\n",
       "      <td>0.000000</td>\n",
       "      <td>0.000000</td>\n",
       "      <td>0.000000</td>\n",
       "      <td>0.000000</td>\n",
       "      <td>0.000000</td>\n",
       "      <td>0.000000</td>\n",
       "      <td>0.000000</td>\n",
       "      <td>0.000000</td>\n",
       "      <td>0.000000</td>\n",
       "      <td>0.000000</td>\n",
       "    </tr>\n",
       "    <tr>\n",
       "      <td>75%</td>\n",
       "      <td>3.000000</td>\n",
       "      <td>5.000000</td>\n",
       "      <td>0.000000</td>\n",
       "      <td>0.000000</td>\n",
       "      <td>0.000000</td>\n",
       "      <td>0.000000</td>\n",
       "      <td>0.000000</td>\n",
       "      <td>0.000000</td>\n",
       "      <td>0.000000</td>\n",
       "      <td>0.000000</td>\n",
       "      <td>0.000000</td>\n",
       "      <td>0.000000</td>\n",
       "    </tr>\n",
       "    <tr>\n",
       "      <td>max</td>\n",
       "      <td>18.000000</td>\n",
       "      <td>74.000000</td>\n",
       "      <td>27.000000</td>\n",
       "      <td>5.000000</td>\n",
       "      <td>3.000000</td>\n",
       "      <td>6.000000</td>\n",
       "      <td>9.000000</td>\n",
       "      <td>14.000000</td>\n",
       "      <td>7.000000</td>\n",
       "      <td>3.000000</td>\n",
       "      <td>17.000000</td>\n",
       "      <td>3.000000</td>\n",
       "    </tr>\n",
       "  </tbody>\n",
       "</table>\n",
       "</div>"
      ],
      "text/plain": [
       "          applause     laughter        music  applause ends     cheering  \\\n",
       "count  2412.000000  2412.000000  2412.000000    2412.000000  2412.000000   \n",
       "mean      2.190713     4.133085     0.253317       0.016584     0.022803   \n",
       "std       2.049802     6.154457     1.267634       0.188135     0.186373   \n",
       "min       0.000000     0.000000     0.000000       0.000000     0.000000   \n",
       "25%       1.000000     0.000000     0.000000       0.000000     0.000000   \n",
       "50%       1.000000     2.000000     0.000000       0.000000     0.000000   \n",
       "75%       3.000000     5.000000     0.000000       0.000000     0.000000   \n",
       "max      18.000000    74.000000    27.000000       5.000000     3.000000   \n",
       "\n",
       "             sighs      singing        video   music ends       laughs  \\\n",
       "count  2412.000000  2412.000000  2412.000000  2412.000000  2412.000000   \n",
       "mean      0.006633     0.016584     0.144279     0.016998     0.019071   \n",
       "std       0.140942     0.300240     0.738184     0.246336     0.161806   \n",
       "min       0.000000     0.000000     0.000000     0.000000     0.000000   \n",
       "25%       0.000000     0.000000     0.000000     0.000000     0.000000   \n",
       "50%       0.000000     0.000000     0.000000     0.000000     0.000000   \n",
       "75%       0.000000     0.000000     0.000000     0.000000     0.000000   \n",
       "max       6.000000     9.000000    14.000000     7.000000     3.000000   \n",
       "\n",
       "             audio       cheers  \n",
       "count  2412.000000  2412.000000  \n",
       "mean      0.023217     0.015755  \n",
       "std       0.505753     0.159584  \n",
       "min       0.000000     0.000000  \n",
       "25%       0.000000     0.000000  \n",
       "50%       0.000000     0.000000  \n",
       "75%       0.000000     0.000000  \n",
       "max      17.000000     3.000000  "
      ]
     },
     "execution_count": 44,
     "metadata": {},
     "output_type": "execute_result"
    }
   ],
   "source": [
    "df_aud_clean['laughter'] = df_aud_clean['laughter'].add(df_aud_clean['laughs'])\n",
    "df_aud_clean['applause'] = df_aud_clean['applause'].add(df_aud_clean['applause ends'])\n",
    "df_aud_clean['music'] = df_aud_clean['music'].add(df_aud_clean['music ends'])\n",
    "df_aud_clean['cheering'] = df_aud_clean['cheering'].add(df_aud_clean['cheers'])\n",
    "df_aud_clean.describe()"
   ]
  },
  {
   "cell_type": "code",
   "execution_count": 45,
   "metadata": {},
   "outputs": [],
   "source": [
    "df_aud_clean.drop(columns = ['laughs', 'applause ends', 'music ends','cheers'], inplace = True)\n"
   ]
  },
  {
   "cell_type": "code",
   "execution_count": 46,
   "metadata": {},
   "outputs": [
    {
     "data": {
      "text/plain": [
       "(2412, 8)"
      ]
     },
     "execution_count": 46,
     "metadata": {},
     "output_type": "execute_result"
    }
   ],
   "source": [
    "df_aud_clean.shape"
   ]
  },
  {
   "cell_type": "code",
   "execution_count": 47,
   "metadata": {},
   "outputs": [
    {
     "data": {
      "text/plain": [
       "(2412, 17)"
      ]
     },
     "execution_count": 47,
     "metadata": {},
     "output_type": "execute_result"
    }
   ],
   "source": [
    "df_clean.shape"
   ]
  },
  {
   "cell_type": "code",
   "execution_count": 48,
   "metadata": {},
   "outputs": [
    {
     "data": {
      "text/plain": [
       "Index(['applause', 'laughter', 'music', 'cheering', 'sighs', 'singing',\n",
       "       'video', 'audio'],\n",
       "      dtype='object')"
      ]
     },
     "execution_count": 48,
     "metadata": {},
     "output_type": "execute_result"
    }
   ],
   "source": [
    "df_aud_clean.columns"
   ]
  },
  {
   "cell_type": "code",
   "execution_count": 49,
   "metadata": {},
   "outputs": [
    {
     "data": {
      "text/plain": [
       "(2412, 25)"
      ]
     },
     "execution_count": 49,
     "metadata": {},
     "output_type": "execute_result"
    }
   ],
   "source": [
    "df_clean = pd.merge (df_clean, df_aud_clean, how = 'inner', left_index = True, right_index = True)\n",
    "df_clean.shape"
   ]
  },
  {
   "cell_type": "markdown",
   "metadata": {},
   "source": [
    "## Extract Ratings as columns in df"
   ]
  },
  {
   "cell_type": "code",
   "execution_count": 50,
   "metadata": {
    "scrolled": true
   },
   "outputs": [
    {
     "data": {
      "text/plain": [
       "\"[{'id': 7, 'name': 'Funny', 'count': 964}, {'id': 3, 'name': 'Courageous', 'count': 45}, {'id': 9, 'name': 'Ingenious', 'count': 183}, {'id': 1, 'name': 'Beautiful', 'count': 60}, {'id': 21, 'name': 'Unconvincing', 'count': 104}, {'id': 11, 'name': 'Longwinded', 'count': 78}, {'id': 8, 'name': 'Informative', 'count': 395}, {'id': 10, 'name': 'Inspiring', 'count': 230}, {'id': 22, 'name': 'Fascinating', 'count': 166}, {'id': 2, 'name': 'Confusing', 'count': 27}, {'id': 25, 'name': 'OK', 'count': 146}, {'id': 24, 'name': 'Persuasive', 'count': 230}, {'id': 23, 'name': 'Jaw-dropping', 'count': 54}, {'id': 26, 'name': 'Obnoxious', 'count': 142}]\""
      ]
     },
     "execution_count": 50,
     "metadata": {},
     "output_type": "execute_result"
    }
   ],
   "source": [
    "# See an example element in ratings column\n",
    "ratings_example = df_clean.loc[2,'ratings']\n",
    "ratings_example"
   ]
  },
  {
   "cell_type": "code",
   "execution_count": 51,
   "metadata": {},
   "outputs": [
    {
     "data": {
      "text/plain": [
       "str"
      ]
     },
     "execution_count": 51,
     "metadata": {},
     "output_type": "execute_result"
    }
   ],
   "source": [
    "type(ratings_example)"
   ]
  },
  {
   "cell_type": "code",
   "execution_count": 52,
   "metadata": {
    "scrolled": false
   },
   "outputs": [
    {
     "data": {
      "text/plain": [
       "{'Funny': 964,\n",
       " 'Courageous': 45,\n",
       " 'Ingenious': 183,\n",
       " 'Beautiful': 60,\n",
       " 'Unconvincing': 104,\n",
       " 'Longwinded': 78,\n",
       " 'Informative': 395,\n",
       " 'Inspiring': 230,\n",
       " 'Fascinating': 166,\n",
       " 'Confusing': 27,\n",
       " 'OK': 146,\n",
       " 'Persuasive': 230,\n",
       " 'Jaw-dropping': 54,\n",
       " 'Obnoxious': 142}"
      ]
     },
     "execution_count": 52,
     "metadata": {},
     "output_type": "execute_result"
    }
   ],
   "source": [
    "RatingsDict(ratings_example)"
   ]
  },
  {
   "cell_type": "code",
   "execution_count": 53,
   "metadata": {},
   "outputs": [],
   "source": [
    "df_clean['ratings_dict'] = df_clean['ratings'].apply(RatingsDict)"
   ]
  },
  {
   "cell_type": "code",
   "execution_count": 54,
   "metadata": {},
   "outputs": [
    {
     "data": {
      "text/html": [
       "<div>\n",
       "<style scoped>\n",
       "    .dataframe tbody tr th:only-of-type {\n",
       "        vertical-align: middle;\n",
       "    }\n",
       "\n",
       "    .dataframe tbody tr th {\n",
       "        vertical-align: top;\n",
       "    }\n",
       "\n",
       "    .dataframe thead th {\n",
       "        text-align: right;\n",
       "    }\n",
       "</style>\n",
       "<table border=\"1\" class=\"dataframe\">\n",
       "  <thead>\n",
       "    <tr style=\"text-align: right;\">\n",
       "      <th></th>\n",
       "      <th>comments</th>\n",
       "      <th>description</th>\n",
       "      <th>duration</th>\n",
       "      <th>event</th>\n",
       "      <th>film_date</th>\n",
       "      <th>main_speaker</th>\n",
       "      <th>published_date</th>\n",
       "      <th>ratings</th>\n",
       "      <th>speaker_occupation</th>\n",
       "      <th>tags</th>\n",
       "      <th>...</th>\n",
       "      <th>word_count</th>\n",
       "      <th>applause</th>\n",
       "      <th>laughter</th>\n",
       "      <th>music</th>\n",
       "      <th>cheering</th>\n",
       "      <th>sighs</th>\n",
       "      <th>singing</th>\n",
       "      <th>video</th>\n",
       "      <th>audio</th>\n",
       "      <th>ratings_dict</th>\n",
       "    </tr>\n",
       "  </thead>\n",
       "  <tbody>\n",
       "    <tr>\n",
       "      <td>0</td>\n",
       "      <td>4553</td>\n",
       "      <td>Sir Ken Robinson makes an entertaining and pro...</td>\n",
       "      <td>1164</td>\n",
       "      <td>TED2006</td>\n",
       "      <td>1140825600</td>\n",
       "      <td>Ken Robinson</td>\n",
       "      <td>1151367060</td>\n",
       "      <td>[{'id': 7, 'name': 'Funny', 'count': 19645}, {...</td>\n",
       "      <td>Author/educator</td>\n",
       "      <td>['children', 'creativity', 'culture', 'dance',...</td>\n",
       "      <td>...</td>\n",
       "      <td>3172</td>\n",
       "      <td>4.0</td>\n",
       "      <td>39.0</td>\n",
       "      <td>0.0</td>\n",
       "      <td>0.0</td>\n",
       "      <td>0.0</td>\n",
       "      <td>0.0</td>\n",
       "      <td>0.0</td>\n",
       "      <td>0.0</td>\n",
       "      <td>{'Funny': 19645, 'Beautiful': 4573, 'Ingenious...</td>\n",
       "    </tr>\n",
       "    <tr>\n",
       "      <td>1</td>\n",
       "      <td>265</td>\n",
       "      <td>With the same humor and humanity he exuded in ...</td>\n",
       "      <td>977</td>\n",
       "      <td>TED2006</td>\n",
       "      <td>1140825600</td>\n",
       "      <td>Al Gore</td>\n",
       "      <td>1151367060</td>\n",
       "      <td>[{'id': 7, 'name': 'Funny', 'count': 544}, {'i...</td>\n",
       "      <td>Climate advocate</td>\n",
       "      <td>['alternative energy', 'cars', 'climate change...</td>\n",
       "      <td>...</td>\n",
       "      <td>2081</td>\n",
       "      <td>6.0</td>\n",
       "      <td>22.0</td>\n",
       "      <td>0.0</td>\n",
       "      <td>0.0</td>\n",
       "      <td>0.0</td>\n",
       "      <td>0.0</td>\n",
       "      <td>0.0</td>\n",
       "      <td>0.0</td>\n",
       "      <td>{'Funny': 544, 'Courageous': 139, 'Confusing':...</td>\n",
       "    </tr>\n",
       "    <tr>\n",
       "      <td>2</td>\n",
       "      <td>124</td>\n",
       "      <td>New York Times columnist David Pogue takes aim...</td>\n",
       "      <td>1286</td>\n",
       "      <td>TED2006</td>\n",
       "      <td>1140739200</td>\n",
       "      <td>David Pogue</td>\n",
       "      <td>1151367060</td>\n",
       "      <td>[{'id': 7, 'name': 'Funny', 'count': 964}, {'i...</td>\n",
       "      <td>Technology columnist</td>\n",
       "      <td>['computers', 'entertainment', 'interface desi...</td>\n",
       "      <td>...</td>\n",
       "      <td>3375</td>\n",
       "      <td>12.0</td>\n",
       "      <td>38.0</td>\n",
       "      <td>2.0</td>\n",
       "      <td>0.0</td>\n",
       "      <td>0.0</td>\n",
       "      <td>0.0</td>\n",
       "      <td>0.0</td>\n",
       "      <td>0.0</td>\n",
       "      <td>{'Funny': 964, 'Courageous': 45, 'Ingenious': ...</td>\n",
       "    </tr>\n",
       "    <tr>\n",
       "      <td>3</td>\n",
       "      <td>200</td>\n",
       "      <td>In an emotionally charged talk, MacArthur-winn...</td>\n",
       "      <td>1116</td>\n",
       "      <td>TED2006</td>\n",
       "      <td>1140912000</td>\n",
       "      <td>Majora Carter</td>\n",
       "      <td>1151367060</td>\n",
       "      <td>[{'id': 3, 'name': 'Courageous', 'count': 760}...</td>\n",
       "      <td>Activist for environmental justice</td>\n",
       "      <td>['MacArthur grant', 'activism', 'business', 'c...</td>\n",
       "      <td>...</td>\n",
       "      <td>3174</td>\n",
       "      <td>7.0</td>\n",
       "      <td>10.0</td>\n",
       "      <td>0.0</td>\n",
       "      <td>0.0</td>\n",
       "      <td>0.0</td>\n",
       "      <td>0.0</td>\n",
       "      <td>0.0</td>\n",
       "      <td>0.0</td>\n",
       "      <td>{'Courageous': 760, 'Beautiful': 291, 'Confusi...</td>\n",
       "    </tr>\n",
       "    <tr>\n",
       "      <td>4</td>\n",
       "      <td>593</td>\n",
       "      <td>You've never seen data presented like this. Wi...</td>\n",
       "      <td>1190</td>\n",
       "      <td>TED2006</td>\n",
       "      <td>1140566400</td>\n",
       "      <td>Hans Rosling</td>\n",
       "      <td>1151440680</td>\n",
       "      <td>[{'id': 9, 'name': 'Ingenious', 'count': 3202}...</td>\n",
       "      <td>Global health expert; data visionary</td>\n",
       "      <td>['Africa', 'Asia', 'Google', 'demo', 'economic...</td>\n",
       "      <td>...</td>\n",
       "      <td>3343</td>\n",
       "      <td>4.0</td>\n",
       "      <td>10.0</td>\n",
       "      <td>0.0</td>\n",
       "      <td>0.0</td>\n",
       "      <td>0.0</td>\n",
       "      <td>0.0</td>\n",
       "      <td>0.0</td>\n",
       "      <td>0.0</td>\n",
       "      <td>{'Ingenious': 3202, 'Funny': 1390, 'Beautiful'...</td>\n",
       "    </tr>\n",
       "  </tbody>\n",
       "</table>\n",
       "<p>5 rows × 26 columns</p>\n",
       "</div>"
      ],
      "text/plain": [
       "   comments                                        description  duration  \\\n",
       "0      4553  Sir Ken Robinson makes an entertaining and pro...      1164   \n",
       "1       265  With the same humor and humanity he exuded in ...       977   \n",
       "2       124  New York Times columnist David Pogue takes aim...      1286   \n",
       "3       200  In an emotionally charged talk, MacArthur-winn...      1116   \n",
       "4       593  You've never seen data presented like this. Wi...      1190   \n",
       "\n",
       "     event   film_date   main_speaker published_date  \\\n",
       "0  TED2006  1140825600   Ken Robinson     1151367060   \n",
       "1  TED2006  1140825600        Al Gore     1151367060   \n",
       "2  TED2006  1140739200    David Pogue     1151367060   \n",
       "3  TED2006  1140912000  Majora Carter     1151367060   \n",
       "4  TED2006  1140566400   Hans Rosling     1151440680   \n",
       "\n",
       "                                             ratings  \\\n",
       "0  [{'id': 7, 'name': 'Funny', 'count': 19645}, {...   \n",
       "1  [{'id': 7, 'name': 'Funny', 'count': 544}, {'i...   \n",
       "2  [{'id': 7, 'name': 'Funny', 'count': 964}, {'i...   \n",
       "3  [{'id': 3, 'name': 'Courageous', 'count': 760}...   \n",
       "4  [{'id': 9, 'name': 'Ingenious', 'count': 3202}...   \n",
       "\n",
       "                     speaker_occupation  \\\n",
       "0                       Author/educator   \n",
       "1                      Climate advocate   \n",
       "2                  Technology columnist   \n",
       "3    Activist for environmental justice   \n",
       "4  Global health expert; data visionary   \n",
       "\n",
       "                                                tags  ... word_count applause  \\\n",
       "0  ['children', 'creativity', 'culture', 'dance',...  ...       3172      4.0   \n",
       "1  ['alternative energy', 'cars', 'climate change...  ...       2081      6.0   \n",
       "2  ['computers', 'entertainment', 'interface desi...  ...       3375     12.0   \n",
       "3  ['MacArthur grant', 'activism', 'business', 'c...  ...       3174      7.0   \n",
       "4  ['Africa', 'Asia', 'Google', 'demo', 'economic...  ...       3343      4.0   \n",
       "\n",
       "  laughter music  cheering sighs  singing  video  audio  \\\n",
       "0     39.0   0.0       0.0   0.0      0.0    0.0    0.0   \n",
       "1     22.0   0.0       0.0   0.0      0.0    0.0    0.0   \n",
       "2     38.0   2.0       0.0   0.0      0.0    0.0    0.0   \n",
       "3     10.0   0.0       0.0   0.0      0.0    0.0    0.0   \n",
       "4     10.0   0.0       0.0   0.0      0.0    0.0    0.0   \n",
       "\n",
       "                                        ratings_dict  \n",
       "0  {'Funny': 19645, 'Beautiful': 4573, 'Ingenious...  \n",
       "1  {'Funny': 544, 'Courageous': 139, 'Confusing':...  \n",
       "2  {'Funny': 964, 'Courageous': 45, 'Ingenious': ...  \n",
       "3  {'Courageous': 760, 'Beautiful': 291, 'Confusi...  \n",
       "4  {'Ingenious': 3202, 'Funny': 1390, 'Beautiful'...  \n",
       "\n",
       "[5 rows x 26 columns]"
      ]
     },
     "execution_count": 54,
     "metadata": {},
     "output_type": "execute_result"
    }
   ],
   "source": [
    "df_clean.head()"
   ]
  },
  {
   "cell_type": "code",
   "execution_count": 55,
   "metadata": {},
   "outputs": [
    {
     "data": {
      "text/html": [
       "<div>\n",
       "<style scoped>\n",
       "    .dataframe tbody tr th:only-of-type {\n",
       "        vertical-align: middle;\n",
       "    }\n",
       "\n",
       "    .dataframe tbody tr th {\n",
       "        vertical-align: top;\n",
       "    }\n",
       "\n",
       "    .dataframe thead th {\n",
       "        text-align: right;\n",
       "    }\n",
       "</style>\n",
       "<table border=\"1\" class=\"dataframe\">\n",
       "  <thead>\n",
       "    <tr style=\"text-align: right;\">\n",
       "      <th></th>\n",
       "      <th>Funny</th>\n",
       "      <th>Beautiful</th>\n",
       "      <th>Ingenious</th>\n",
       "      <th>Courageous</th>\n",
       "      <th>Longwinded</th>\n",
       "      <th>Confusing</th>\n",
       "      <th>Informative</th>\n",
       "      <th>Fascinating</th>\n",
       "      <th>Unconvincing</th>\n",
       "      <th>Persuasive</th>\n",
       "      <th>Jaw-dropping</th>\n",
       "      <th>OK</th>\n",
       "      <th>Obnoxious</th>\n",
       "      <th>Inspiring</th>\n",
       "    </tr>\n",
       "  </thead>\n",
       "  <tbody>\n",
       "    <tr>\n",
       "      <td>0</td>\n",
       "      <td>19645</td>\n",
       "      <td>4573</td>\n",
       "      <td>6073</td>\n",
       "      <td>3253</td>\n",
       "      <td>387</td>\n",
       "      <td>242</td>\n",
       "      <td>7346</td>\n",
       "      <td>10581</td>\n",
       "      <td>300</td>\n",
       "      <td>10704</td>\n",
       "      <td>4439</td>\n",
       "      <td>1174</td>\n",
       "      <td>209</td>\n",
       "      <td>24924</td>\n",
       "    </tr>\n",
       "    <tr>\n",
       "      <td>1</td>\n",
       "      <td>544</td>\n",
       "      <td>58</td>\n",
       "      <td>56</td>\n",
       "      <td>139</td>\n",
       "      <td>113</td>\n",
       "      <td>62</td>\n",
       "      <td>443</td>\n",
       "      <td>132</td>\n",
       "      <td>258</td>\n",
       "      <td>268</td>\n",
       "      <td>116</td>\n",
       "      <td>203</td>\n",
       "      <td>131</td>\n",
       "      <td>413</td>\n",
       "    </tr>\n",
       "    <tr>\n",
       "      <td>2</td>\n",
       "      <td>964</td>\n",
       "      <td>60</td>\n",
       "      <td>183</td>\n",
       "      <td>45</td>\n",
       "      <td>78</td>\n",
       "      <td>27</td>\n",
       "      <td>395</td>\n",
       "      <td>166</td>\n",
       "      <td>104</td>\n",
       "      <td>230</td>\n",
       "      <td>54</td>\n",
       "      <td>146</td>\n",
       "      <td>142</td>\n",
       "      <td>230</td>\n",
       "    </tr>\n",
       "    <tr>\n",
       "      <td>3</td>\n",
       "      <td>59</td>\n",
       "      <td>291</td>\n",
       "      <td>105</td>\n",
       "      <td>760</td>\n",
       "      <td>53</td>\n",
       "      <td>32</td>\n",
       "      <td>380</td>\n",
       "      <td>132</td>\n",
       "      <td>36</td>\n",
       "      <td>460</td>\n",
       "      <td>230</td>\n",
       "      <td>85</td>\n",
       "      <td>35</td>\n",
       "      <td>1070</td>\n",
       "    </tr>\n",
       "    <tr>\n",
       "      <td>4</td>\n",
       "      <td>1390</td>\n",
       "      <td>942</td>\n",
       "      <td>3202</td>\n",
       "      <td>318</td>\n",
       "      <td>110</td>\n",
       "      <td>72</td>\n",
       "      <td>5433</td>\n",
       "      <td>4606</td>\n",
       "      <td>67</td>\n",
       "      <td>2542</td>\n",
       "      <td>3736</td>\n",
       "      <td>248</td>\n",
       "      <td>61</td>\n",
       "      <td>2893</td>\n",
       "    </tr>\n",
       "  </tbody>\n",
       "</table>\n",
       "</div>"
      ],
      "text/plain": [
       "   Funny  Beautiful  Ingenious  Courageous  Longwinded  Confusing  \\\n",
       "0  19645       4573       6073        3253         387        242   \n",
       "1    544         58         56         139         113         62   \n",
       "2    964         60        183          45          78         27   \n",
       "3     59        291        105         760          53         32   \n",
       "4   1390        942       3202         318         110         72   \n",
       "\n",
       "   Informative  Fascinating  Unconvincing  Persuasive  Jaw-dropping    OK  \\\n",
       "0         7346        10581           300       10704          4439  1174   \n",
       "1          443          132           258         268           116   203   \n",
       "2          395          166           104         230            54   146   \n",
       "3          380          132            36         460           230    85   \n",
       "4         5433         4606            67        2542          3736   248   \n",
       "\n",
       "   Obnoxious  Inspiring  \n",
       "0        209      24924  \n",
       "1        131        413  \n",
       "2        142        230  \n",
       "3         35       1070  \n",
       "4         61       2893  "
      ]
     },
     "execution_count": 55,
     "metadata": {},
     "output_type": "execute_result"
    }
   ],
   "source": [
    "df_ratings = df_clean['ratings_dict'].apply(pd.Series)\n",
    "df_ratings.head()"
   ]
  },
  {
   "cell_type": "code",
   "execution_count": 56,
   "metadata": {},
   "outputs": [
    {
     "data": {
      "text/plain": [
       "(2412, 14)"
      ]
     },
     "execution_count": 56,
     "metadata": {},
     "output_type": "execute_result"
    }
   ],
   "source": [
    "df_ratings.shape"
   ]
  },
  {
   "cell_type": "code",
   "execution_count": 57,
   "metadata": {},
   "outputs": [
    {
     "data": {
      "text/html": [
       "<div>\n",
       "<style scoped>\n",
       "    .dataframe tbody tr th:only-of-type {\n",
       "        vertical-align: middle;\n",
       "    }\n",
       "\n",
       "    .dataframe tbody tr th {\n",
       "        vertical-align: top;\n",
       "    }\n",
       "\n",
       "    .dataframe thead th {\n",
       "        text-align: right;\n",
       "    }\n",
       "</style>\n",
       "<table border=\"1\" class=\"dataframe\">\n",
       "  <thead>\n",
       "    <tr style=\"text-align: right;\">\n",
       "      <th></th>\n",
       "      <th>Funny</th>\n",
       "      <th>Beautiful</th>\n",
       "      <th>Ingenious</th>\n",
       "      <th>Courageous</th>\n",
       "      <th>Longwinded</th>\n",
       "      <th>Confusing</th>\n",
       "      <th>Informative</th>\n",
       "      <th>Fascinating</th>\n",
       "      <th>Unconvincing</th>\n",
       "      <th>Persuasive</th>\n",
       "      <th>Jaw-dropping</th>\n",
       "      <th>OK</th>\n",
       "      <th>Obnoxious</th>\n",
       "      <th>Inspiring</th>\n",
       "    </tr>\n",
       "  </thead>\n",
       "  <tbody>\n",
       "    <tr>\n",
       "      <td>count</td>\n",
       "      <td>2412.000000</td>\n",
       "      <td>2412.000000</td>\n",
       "      <td>2412.000000</td>\n",
       "      <td>2412.000000</td>\n",
       "      <td>2412.000000</td>\n",
       "      <td>2412.000000</td>\n",
       "      <td>2412.000000</td>\n",
       "      <td>2412.000000</td>\n",
       "      <td>2412.000000</td>\n",
       "      <td>2412.000000</td>\n",
       "      <td>2412.000000</td>\n",
       "      <td>2412.000000</td>\n",
       "      <td>2412.000000</td>\n",
       "      <td>2412.000000</td>\n",
       "    </tr>\n",
       "    <tr>\n",
       "      <td>mean</td>\n",
       "      <td>156.647181</td>\n",
       "      <td>191.935323</td>\n",
       "      <td>152.349917</td>\n",
       "      <td>168.856136</td>\n",
       "      <td>33.152985</td>\n",
       "      <td>21.152570</td>\n",
       "      <td>358.137231</td>\n",
       "      <td>319.441542</td>\n",
       "      <td>53.824212</td>\n",
       "      <td>226.013682</td>\n",
       "      <td>148.414179</td>\n",
       "      <td>82.154229</td>\n",
       "      <td>25.851575</td>\n",
       "      <td>537.966003</td>\n",
       "    </tr>\n",
       "    <tr>\n",
       "      <td>std</td>\n",
       "      <td>603.386141</td>\n",
       "      <td>482.028172</td>\n",
       "      <td>285.298216</td>\n",
       "      <td>440.837916</td>\n",
       "      <td>42.178191</td>\n",
       "      <td>32.083401</td>\n",
       "      <td>550.546472</td>\n",
       "      <td>634.477075</td>\n",
       "      <td>93.649344</td>\n",
       "      <td>475.045306</td>\n",
       "      <td>562.084608</td>\n",
       "      <td>90.329758</td>\n",
       "      <td>53.764271</td>\n",
       "      <td>1305.633290</td>\n",
       "    </tr>\n",
       "    <tr>\n",
       "      <td>min</td>\n",
       "      <td>0.000000</td>\n",
       "      <td>0.000000</td>\n",
       "      <td>0.000000</td>\n",
       "      <td>0.000000</td>\n",
       "      <td>0.000000</td>\n",
       "      <td>0.000000</td>\n",
       "      <td>0.000000</td>\n",
       "      <td>5.000000</td>\n",
       "      <td>0.000000</td>\n",
       "      <td>0.000000</td>\n",
       "      <td>0.000000</td>\n",
       "      <td>0.000000</td>\n",
       "      <td>0.000000</td>\n",
       "      <td>5.000000</td>\n",
       "    </tr>\n",
       "    <tr>\n",
       "      <td>25%</td>\n",
       "      <td>8.000000</td>\n",
       "      <td>26.000000</td>\n",
       "      <td>27.000000</td>\n",
       "      <td>20.000000</td>\n",
       "      <td>9.000000</td>\n",
       "      <td>5.000000</td>\n",
       "      <td>106.000000</td>\n",
       "      <td>81.000000</td>\n",
       "      <td>12.000000</td>\n",
       "      <td>39.000000</td>\n",
       "      <td>18.000000</td>\n",
       "      <td>32.000000</td>\n",
       "      <td>6.000000</td>\n",
       "      <td>115.000000</td>\n",
       "    </tr>\n",
       "    <tr>\n",
       "      <td>50%</td>\n",
       "      <td>21.000000</td>\n",
       "      <td>67.000000</td>\n",
       "      <td>70.000000</td>\n",
       "      <td>53.000000</td>\n",
       "      <td>19.000000</td>\n",
       "      <td>12.000000</td>\n",
       "      <td>220.000000</td>\n",
       "      <td>164.000000</td>\n",
       "      <td>27.000000</td>\n",
       "      <td>100.000000</td>\n",
       "      <td>42.000000</td>\n",
       "      <td>57.000000</td>\n",
       "      <td>13.000000</td>\n",
       "      <td>238.000000</td>\n",
       "    </tr>\n",
       "    <tr>\n",
       "      <td>75%</td>\n",
       "      <td>91.000000</td>\n",
       "      <td>184.000000</td>\n",
       "      <td>172.000000</td>\n",
       "      <td>156.000000</td>\n",
       "      <td>41.000000</td>\n",
       "      <td>24.000000</td>\n",
       "      <td>411.000000</td>\n",
       "      <td>351.250000</td>\n",
       "      <td>60.250000</td>\n",
       "      <td>233.250000</td>\n",
       "      <td>110.000000</td>\n",
       "      <td>101.000000</td>\n",
       "      <td>27.000000</td>\n",
       "      <td>505.250000</td>\n",
       "    </tr>\n",
       "    <tr>\n",
       "      <td>max</td>\n",
       "      <td>19645.000000</td>\n",
       "      <td>9437.000000</td>\n",
       "      <td>6073.000000</td>\n",
       "      <td>8668.000000</td>\n",
       "      <td>447.000000</td>\n",
       "      <td>531.000000</td>\n",
       "      <td>9787.000000</td>\n",
       "      <td>14447.000000</td>\n",
       "      <td>2194.000000</td>\n",
       "      <td>10704.000000</td>\n",
       "      <td>14728.000000</td>\n",
       "      <td>1341.000000</td>\n",
       "      <td>1361.000000</td>\n",
       "      <td>24924.000000</td>\n",
       "    </tr>\n",
       "  </tbody>\n",
       "</table>\n",
       "</div>"
      ],
      "text/plain": [
       "              Funny    Beautiful    Ingenious   Courageous   Longwinded  \\\n",
       "count   2412.000000  2412.000000  2412.000000  2412.000000  2412.000000   \n",
       "mean     156.647181   191.935323   152.349917   168.856136    33.152985   \n",
       "std      603.386141   482.028172   285.298216   440.837916    42.178191   \n",
       "min        0.000000     0.000000     0.000000     0.000000     0.000000   \n",
       "25%        8.000000    26.000000    27.000000    20.000000     9.000000   \n",
       "50%       21.000000    67.000000    70.000000    53.000000    19.000000   \n",
       "75%       91.000000   184.000000   172.000000   156.000000    41.000000   \n",
       "max    19645.000000  9437.000000  6073.000000  8668.000000   447.000000   \n",
       "\n",
       "         Confusing  Informative   Fascinating  Unconvincing    Persuasive  \\\n",
       "count  2412.000000  2412.000000   2412.000000   2412.000000   2412.000000   \n",
       "mean     21.152570   358.137231    319.441542     53.824212    226.013682   \n",
       "std      32.083401   550.546472    634.477075     93.649344    475.045306   \n",
       "min       0.000000     0.000000      5.000000      0.000000      0.000000   \n",
       "25%       5.000000   106.000000     81.000000     12.000000     39.000000   \n",
       "50%      12.000000   220.000000    164.000000     27.000000    100.000000   \n",
       "75%      24.000000   411.000000    351.250000     60.250000    233.250000   \n",
       "max     531.000000  9787.000000  14447.000000   2194.000000  10704.000000   \n",
       "\n",
       "       Jaw-dropping           OK    Obnoxious     Inspiring  \n",
       "count   2412.000000  2412.000000  2412.000000   2412.000000  \n",
       "mean     148.414179    82.154229    25.851575    537.966003  \n",
       "std      562.084608    90.329758    53.764271   1305.633290  \n",
       "min        0.000000     0.000000     0.000000      5.000000  \n",
       "25%       18.000000    32.000000     6.000000    115.000000  \n",
       "50%       42.000000    57.000000    13.000000    238.000000  \n",
       "75%      110.000000   101.000000    27.000000    505.250000  \n",
       "max    14728.000000  1341.000000  1361.000000  24924.000000  "
      ]
     },
     "execution_count": 57,
     "metadata": {},
     "output_type": "execute_result"
    }
   ],
   "source": [
    "df_ratings.describe()"
   ]
  },
  {
   "cell_type": "code",
   "execution_count": 58,
   "metadata": {},
   "outputs": [
    {
     "data": {
      "text/plain": [
       "Index(['Funny', 'Beautiful', 'Ingenious', 'Courageous', 'Longwinded',\n",
       "       'Confusing', 'Informative', 'Fascinating', 'Unconvincing', 'Persuasive',\n",
       "       'Jaw-dropping', 'OK', 'Obnoxious', 'Inspiring'],\n",
       "      dtype='object')"
      ]
     },
     "execution_count": 58,
     "metadata": {},
     "output_type": "execute_result"
    }
   ],
   "source": [
    "df_ratings.columns"
   ]
  },
  {
   "cell_type": "code",
   "execution_count": 59,
   "metadata": {
    "scrolled": true
   },
   "outputs": [
    {
     "data": {
      "text/html": [
       "<div>\n",
       "<style scoped>\n",
       "    .dataframe tbody tr th:only-of-type {\n",
       "        vertical-align: middle;\n",
       "    }\n",
       "\n",
       "    .dataframe tbody tr th {\n",
       "        vertical-align: top;\n",
       "    }\n",
       "\n",
       "    .dataframe thead th {\n",
       "        text-align: right;\n",
       "    }\n",
       "</style>\n",
       "<table border=\"1\" class=\"dataframe\">\n",
       "  <thead>\n",
       "    <tr style=\"text-align: right;\">\n",
       "      <th></th>\n",
       "      <th>comments</th>\n",
       "      <th>description</th>\n",
       "      <th>duration</th>\n",
       "      <th>event</th>\n",
       "      <th>film_date</th>\n",
       "      <th>main_speaker</th>\n",
       "      <th>published_date</th>\n",
       "      <th>ratings</th>\n",
       "      <th>speaker_occupation</th>\n",
       "      <th>tags</th>\n",
       "      <th>...</th>\n",
       "      <th>Longwinded</th>\n",
       "      <th>Confusing</th>\n",
       "      <th>Informative</th>\n",
       "      <th>Fascinating</th>\n",
       "      <th>Unconvincing</th>\n",
       "      <th>Persuasive</th>\n",
       "      <th>Jaw-dropping</th>\n",
       "      <th>OK</th>\n",
       "      <th>Obnoxious</th>\n",
       "      <th>Inspiring</th>\n",
       "    </tr>\n",
       "  </thead>\n",
       "  <tbody>\n",
       "    <tr>\n",
       "      <td>0</td>\n",
       "      <td>4553</td>\n",
       "      <td>Sir Ken Robinson makes an entertaining and pro...</td>\n",
       "      <td>1164</td>\n",
       "      <td>TED2006</td>\n",
       "      <td>1140825600</td>\n",
       "      <td>Ken Robinson</td>\n",
       "      <td>1151367060</td>\n",
       "      <td>[{'id': 7, 'name': 'Funny', 'count': 19645}, {...</td>\n",
       "      <td>Author/educator</td>\n",
       "      <td>['children', 'creativity', 'culture', 'dance',...</td>\n",
       "      <td>...</td>\n",
       "      <td>387</td>\n",
       "      <td>242</td>\n",
       "      <td>7346</td>\n",
       "      <td>10581</td>\n",
       "      <td>300</td>\n",
       "      <td>10704</td>\n",
       "      <td>4439</td>\n",
       "      <td>1174</td>\n",
       "      <td>209</td>\n",
       "      <td>24924</td>\n",
       "    </tr>\n",
       "    <tr>\n",
       "      <td>1</td>\n",
       "      <td>265</td>\n",
       "      <td>With the same humor and humanity he exuded in ...</td>\n",
       "      <td>977</td>\n",
       "      <td>TED2006</td>\n",
       "      <td>1140825600</td>\n",
       "      <td>Al Gore</td>\n",
       "      <td>1151367060</td>\n",
       "      <td>[{'id': 7, 'name': 'Funny', 'count': 544}, {'i...</td>\n",
       "      <td>Climate advocate</td>\n",
       "      <td>['alternative energy', 'cars', 'climate change...</td>\n",
       "      <td>...</td>\n",
       "      <td>113</td>\n",
       "      <td>62</td>\n",
       "      <td>443</td>\n",
       "      <td>132</td>\n",
       "      <td>258</td>\n",
       "      <td>268</td>\n",
       "      <td>116</td>\n",
       "      <td>203</td>\n",
       "      <td>131</td>\n",
       "      <td>413</td>\n",
       "    </tr>\n",
       "    <tr>\n",
       "      <td>2</td>\n",
       "      <td>124</td>\n",
       "      <td>New York Times columnist David Pogue takes aim...</td>\n",
       "      <td>1286</td>\n",
       "      <td>TED2006</td>\n",
       "      <td>1140739200</td>\n",
       "      <td>David Pogue</td>\n",
       "      <td>1151367060</td>\n",
       "      <td>[{'id': 7, 'name': 'Funny', 'count': 964}, {'i...</td>\n",
       "      <td>Technology columnist</td>\n",
       "      <td>['computers', 'entertainment', 'interface desi...</td>\n",
       "      <td>...</td>\n",
       "      <td>78</td>\n",
       "      <td>27</td>\n",
       "      <td>395</td>\n",
       "      <td>166</td>\n",
       "      <td>104</td>\n",
       "      <td>230</td>\n",
       "      <td>54</td>\n",
       "      <td>146</td>\n",
       "      <td>142</td>\n",
       "      <td>230</td>\n",
       "    </tr>\n",
       "    <tr>\n",
       "      <td>3</td>\n",
       "      <td>200</td>\n",
       "      <td>In an emotionally charged talk, MacArthur-winn...</td>\n",
       "      <td>1116</td>\n",
       "      <td>TED2006</td>\n",
       "      <td>1140912000</td>\n",
       "      <td>Majora Carter</td>\n",
       "      <td>1151367060</td>\n",
       "      <td>[{'id': 3, 'name': 'Courageous', 'count': 760}...</td>\n",
       "      <td>Activist for environmental justice</td>\n",
       "      <td>['MacArthur grant', 'activism', 'business', 'c...</td>\n",
       "      <td>...</td>\n",
       "      <td>53</td>\n",
       "      <td>32</td>\n",
       "      <td>380</td>\n",
       "      <td>132</td>\n",
       "      <td>36</td>\n",
       "      <td>460</td>\n",
       "      <td>230</td>\n",
       "      <td>85</td>\n",
       "      <td>35</td>\n",
       "      <td>1070</td>\n",
       "    </tr>\n",
       "    <tr>\n",
       "      <td>4</td>\n",
       "      <td>593</td>\n",
       "      <td>You've never seen data presented like this. Wi...</td>\n",
       "      <td>1190</td>\n",
       "      <td>TED2006</td>\n",
       "      <td>1140566400</td>\n",
       "      <td>Hans Rosling</td>\n",
       "      <td>1151440680</td>\n",
       "      <td>[{'id': 9, 'name': 'Ingenious', 'count': 3202}...</td>\n",
       "      <td>Global health expert; data visionary</td>\n",
       "      <td>['Africa', 'Asia', 'Google', 'demo', 'economic...</td>\n",
       "      <td>...</td>\n",
       "      <td>110</td>\n",
       "      <td>72</td>\n",
       "      <td>5433</td>\n",
       "      <td>4606</td>\n",
       "      <td>67</td>\n",
       "      <td>2542</td>\n",
       "      <td>3736</td>\n",
       "      <td>248</td>\n",
       "      <td>61</td>\n",
       "      <td>2893</td>\n",
       "    </tr>\n",
       "  </tbody>\n",
       "</table>\n",
       "<p>5 rows × 40 columns</p>\n",
       "</div>"
      ],
      "text/plain": [
       "   comments                                        description  duration  \\\n",
       "0      4553  Sir Ken Robinson makes an entertaining and pro...      1164   \n",
       "1       265  With the same humor and humanity he exuded in ...       977   \n",
       "2       124  New York Times columnist David Pogue takes aim...      1286   \n",
       "3       200  In an emotionally charged talk, MacArthur-winn...      1116   \n",
       "4       593  You've never seen data presented like this. Wi...      1190   \n",
       "\n",
       "     event   film_date   main_speaker published_date  \\\n",
       "0  TED2006  1140825600   Ken Robinson     1151367060   \n",
       "1  TED2006  1140825600        Al Gore     1151367060   \n",
       "2  TED2006  1140739200    David Pogue     1151367060   \n",
       "3  TED2006  1140912000  Majora Carter     1151367060   \n",
       "4  TED2006  1140566400   Hans Rosling     1151440680   \n",
       "\n",
       "                                             ratings  \\\n",
       "0  [{'id': 7, 'name': 'Funny', 'count': 19645}, {...   \n",
       "1  [{'id': 7, 'name': 'Funny', 'count': 544}, {'i...   \n",
       "2  [{'id': 7, 'name': 'Funny', 'count': 964}, {'i...   \n",
       "3  [{'id': 3, 'name': 'Courageous', 'count': 760}...   \n",
       "4  [{'id': 9, 'name': 'Ingenious', 'count': 3202}...   \n",
       "\n",
       "                     speaker_occupation  \\\n",
       "0                       Author/educator   \n",
       "1                      Climate advocate   \n",
       "2                  Technology columnist   \n",
       "3    Activist for environmental justice   \n",
       "4  Global health expert; data visionary   \n",
       "\n",
       "                                                tags  ... Longwinded  \\\n",
       "0  ['children', 'creativity', 'culture', 'dance',...  ...        387   \n",
       "1  ['alternative energy', 'cars', 'climate change...  ...        113   \n",
       "2  ['computers', 'entertainment', 'interface desi...  ...         78   \n",
       "3  ['MacArthur grant', 'activism', 'business', 'c...  ...         53   \n",
       "4  ['Africa', 'Asia', 'Google', 'demo', 'economic...  ...        110   \n",
       "\n",
       "  Confusing Informative Fascinating  Unconvincing Persuasive  Jaw-dropping  \\\n",
       "0       242        7346       10581           300      10704          4439   \n",
       "1        62         443         132           258        268           116   \n",
       "2        27         395         166           104        230            54   \n",
       "3        32         380         132            36        460           230   \n",
       "4        72        5433        4606            67       2542          3736   \n",
       "\n",
       "     OK  Obnoxious  Inspiring  \n",
       "0  1174        209      24924  \n",
       "1   203        131        413  \n",
       "2   146        142        230  \n",
       "3    85         35       1070  \n",
       "4   248         61       2893  \n",
       "\n",
       "[5 rows x 40 columns]"
      ]
     },
     "execution_count": 59,
     "metadata": {},
     "output_type": "execute_result"
    }
   ],
   "source": [
    "# Add ratings to the df_clean\n",
    "df_clean = pd.merge (df_clean, df_ratings, how = 'inner', left_index = True, right_index = True)\n",
    "df_clean.head()"
   ]
  },
  {
   "cell_type": "code",
   "execution_count": 60,
   "metadata": {},
   "outputs": [
    {
     "data": {
      "text/plain": [
       "(2412, 40)"
      ]
     },
     "execution_count": 60,
     "metadata": {},
     "output_type": "execute_result"
    }
   ],
   "source": [
    "df_clean.shape"
   ]
  },
  {
   "cell_type": "markdown",
   "metadata": {},
   "source": [
    "# Write Cleaned Dataset to File"
   ]
  },
  {
   "cell_type": "code",
   "execution_count": 61,
   "metadata": {},
   "outputs": [],
   "source": [
    "# Add column for event type based on event\n",
    "df_clean['event_type'] = df_clean['event'].apply(ted_eventtype)"
   ]
  },
  {
   "cell_type": "code",
   "execution_count": 63,
   "metadata": {},
   "outputs": [],
   "source": [
    "# df_clean.head()"
   ]
  },
  {
   "cell_type": "code",
   "execution_count": 62,
   "metadata": {},
   "outputs": [],
   "source": [
    "df_clean.to_csv('../data/interim/After_DataWrang_Out.csv')"
   ]
  },
  {
   "cell_type": "code",
   "execution_count": null,
   "metadata": {},
   "outputs": [],
   "source": []
  },
  {
   "cell_type": "code",
   "execution_count": null,
   "metadata": {},
   "outputs": [],
   "source": []
  },
  {
   "cell_type": "code",
   "execution_count": null,
   "metadata": {},
   "outputs": [],
   "source": []
  },
  {
   "cell_type": "code",
   "execution_count": null,
   "metadata": {},
   "outputs": [],
   "source": []
  }
 ],
 "metadata": {
  "kernelspec": {
   "display_name": "Python 3",
   "language": "python",
   "name": "python3"
  },
  "language_info": {
   "codemirror_mode": {
    "name": "ipython",
    "version": 3
   },
   "file_extension": ".py",
   "mimetype": "text/x-python",
   "name": "python",
   "nbconvert_exporter": "python",
   "pygments_lexer": "ipython3",
   "version": "3.7.4"
  }
 },
 "nbformat": 4,
 "nbformat_minor": 2
}
