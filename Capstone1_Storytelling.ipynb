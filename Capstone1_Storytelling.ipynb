{
 "cells": [
  {
   "cell_type": "markdown",
   "metadata": {},
   "source": [
    "# Capstone Project on TED talk analysis : Data Storytelling"
   ]
  },
  {
   "cell_type": "markdown",
   "metadata": {},
   "source": [
    "Springboard Data Science Career Track ; \n",
    "Author : Pavan Poosarla, pavanpoosarla01@gmail.com"
   ]
  },
  {
   "cell_type": "markdown",
   "metadata": {},
   "source": [
    "Start Date : 2/ 05/ 2019\n",
    "Description :\n",
    "This is second section of the capstone project on data storytelling. For the first part on Data Wrangling, see \"Capstone1_DataWrangling.ipynb\".\n",
    "In this section, we will look at the dataset and extract useful insights about the data. \n",
    "\n",
    "Original Date Source\n",
    "https://www.kaggle.com/rounakbanik/ted-talks/downloads/ted-talks.zip/3"
   ]
  },
  {
   "cell_type": "code",
   "execution_count": 70,
   "metadata": {},
   "outputs": [],
   "source": [
    "import pandas as pd\n",
    "import seaborn as sns\n",
    "import matplotlib.pyplot as plt\n",
    "import numpy as np"
   ]
  },
  {
   "cell_type": "code",
   "execution_count": 71,
   "metadata": {},
   "outputs": [],
   "source": [
    "# Read the output of Data Storytelling\n",
    "df_clean = pd.read_csv(r'After_DataWrang_Out.csv', index_col = 0)"
   ]
  },
  {
   "cell_type": "code",
   "execution_count": 72,
   "metadata": {},
   "outputs": [
    {
     "name": "stdout",
     "output_type": "stream",
     "text": [
      "Shape is (2412, 41)\n"
     ]
    },
    {
     "data": {
      "text/html": [
       "<div>\n",
       "<style scoped>\n",
       "    .dataframe tbody tr th:only-of-type {\n",
       "        vertical-align: middle;\n",
       "    }\n",
       "\n",
       "    .dataframe tbody tr th {\n",
       "        vertical-align: top;\n",
       "    }\n",
       "\n",
       "    .dataframe thead th {\n",
       "        text-align: right;\n",
       "    }\n",
       "</style>\n",
       "<table border=\"1\" class=\"dataframe\">\n",
       "  <thead>\n",
       "    <tr style=\"text-align: right;\">\n",
       "      <th></th>\n",
       "      <th>comments</th>\n",
       "      <th>description</th>\n",
       "      <th>duration</th>\n",
       "      <th>event</th>\n",
       "      <th>film_date</th>\n",
       "      <th>main_speaker</th>\n",
       "      <th>published_date</th>\n",
       "      <th>ratings</th>\n",
       "      <th>speaker_occupation</th>\n",
       "      <th>tags</th>\n",
       "      <th>...</th>\n",
       "      <th>Confusing</th>\n",
       "      <th>Informative</th>\n",
       "      <th>Fascinating</th>\n",
       "      <th>Unconvincing</th>\n",
       "      <th>Persuasive</th>\n",
       "      <th>Jaw-dropping</th>\n",
       "      <th>OK</th>\n",
       "      <th>Obnoxious</th>\n",
       "      <th>Inspiring</th>\n",
       "      <th>event_type</th>\n",
       "    </tr>\n",
       "  </thead>\n",
       "  <tbody>\n",
       "    <tr>\n",
       "      <td>0</td>\n",
       "      <td>4553</td>\n",
       "      <td>Sir Ken Robinson makes an entertaining and pro...</td>\n",
       "      <td>1164</td>\n",
       "      <td>TED2006</td>\n",
       "      <td>1140825600</td>\n",
       "      <td>Ken Robinson</td>\n",
       "      <td>1151367060</td>\n",
       "      <td>[{'id': 7, 'name': 'Funny', 'count': 19645}, {...</td>\n",
       "      <td>Author/educator</td>\n",
       "      <td>['children', 'creativity', 'culture', 'dance',...</td>\n",
       "      <td>...</td>\n",
       "      <td>242</td>\n",
       "      <td>7346</td>\n",
       "      <td>10581</td>\n",
       "      <td>300</td>\n",
       "      <td>10704</td>\n",
       "      <td>4439</td>\n",
       "      <td>1174</td>\n",
       "      <td>209</td>\n",
       "      <td>24924</td>\n",
       "      <td>TED</td>\n",
       "    </tr>\n",
       "    <tr>\n",
       "      <td>1</td>\n",
       "      <td>265</td>\n",
       "      <td>With the same humor and humanity he exuded in ...</td>\n",
       "      <td>977</td>\n",
       "      <td>TED2006</td>\n",
       "      <td>1140825600</td>\n",
       "      <td>Al Gore</td>\n",
       "      <td>1151367060</td>\n",
       "      <td>[{'id': 7, 'name': 'Funny', 'count': 544}, {'i...</td>\n",
       "      <td>Climate advocate</td>\n",
       "      <td>['alternative energy', 'cars', 'climate change...</td>\n",
       "      <td>...</td>\n",
       "      <td>62</td>\n",
       "      <td>443</td>\n",
       "      <td>132</td>\n",
       "      <td>258</td>\n",
       "      <td>268</td>\n",
       "      <td>116</td>\n",
       "      <td>203</td>\n",
       "      <td>131</td>\n",
       "      <td>413</td>\n",
       "      <td>TED</td>\n",
       "    </tr>\n",
       "    <tr>\n",
       "      <td>2</td>\n",
       "      <td>124</td>\n",
       "      <td>New York Times columnist David Pogue takes aim...</td>\n",
       "      <td>1286</td>\n",
       "      <td>TED2006</td>\n",
       "      <td>1140739200</td>\n",
       "      <td>David Pogue</td>\n",
       "      <td>1151367060</td>\n",
       "      <td>[{'id': 7, 'name': 'Funny', 'count': 964}, {'i...</td>\n",
       "      <td>Technology columnist</td>\n",
       "      <td>['computers', 'entertainment', 'interface desi...</td>\n",
       "      <td>...</td>\n",
       "      <td>27</td>\n",
       "      <td>395</td>\n",
       "      <td>166</td>\n",
       "      <td>104</td>\n",
       "      <td>230</td>\n",
       "      <td>54</td>\n",
       "      <td>146</td>\n",
       "      <td>142</td>\n",
       "      <td>230</td>\n",
       "      <td>TED</td>\n",
       "    </tr>\n",
       "  </tbody>\n",
       "</table>\n",
       "<p>3 rows × 41 columns</p>\n",
       "</div>"
      ],
      "text/plain": [
       "   comments                                        description  duration  \\\n",
       "0      4553  Sir Ken Robinson makes an entertaining and pro...      1164   \n",
       "1       265  With the same humor and humanity he exuded in ...       977   \n",
       "2       124  New York Times columnist David Pogue takes aim...      1286   \n",
       "\n",
       "     event   film_date  main_speaker  published_date  \\\n",
       "0  TED2006  1140825600  Ken Robinson      1151367060   \n",
       "1  TED2006  1140825600       Al Gore      1151367060   \n",
       "2  TED2006  1140739200   David Pogue      1151367060   \n",
       "\n",
       "                                             ratings    speaker_occupation  \\\n",
       "0  [{'id': 7, 'name': 'Funny', 'count': 19645}, {...       Author/educator   \n",
       "1  [{'id': 7, 'name': 'Funny', 'count': 544}, {'i...      Climate advocate   \n",
       "2  [{'id': 7, 'name': 'Funny', 'count': 964}, {'i...  Technology columnist   \n",
       "\n",
       "                                                tags  ... Confusing  \\\n",
       "0  ['children', 'creativity', 'culture', 'dance',...  ...       242   \n",
       "1  ['alternative energy', 'cars', 'climate change...  ...        62   \n",
       "2  ['computers', 'entertainment', 'interface desi...  ...        27   \n",
       "\n",
       "  Informative Fascinating Unconvincing  Persuasive Jaw-dropping    OK  \\\n",
       "0        7346       10581          300       10704         4439  1174   \n",
       "1         443         132          258         268          116   203   \n",
       "2         395         166          104         230           54   146   \n",
       "\n",
       "   Obnoxious  Inspiring  event_type  \n",
       "0        209      24924         TED  \n",
       "1        131        413         TED  \n",
       "2        142        230         TED  \n",
       "\n",
       "[3 rows x 41 columns]"
      ]
     },
     "execution_count": 72,
     "metadata": {},
     "output_type": "execute_result"
    }
   ],
   "source": [
    "print ('Shape is', df_clean.shape)\n",
    "df_clean.head(3)"
   ]
  },
  {
   "cell_type": "markdown",
   "metadata": {},
   "source": [
    "The dataset consists a total of 2412 talks."
   ]
  },
  {
   "cell_type": "code",
   "execution_count": 73,
   "metadata": {},
   "outputs": [
    {
     "name": "stdout",
     "output_type": "stream",
     "text": [
      "The talks are from a total of 318 events\n"
     ]
    }
   ],
   "source": [
    "print ('The talks are from a total of %d events'%len(set(list(df_clean['event']))))"
   ]
  },
  {
   "cell_type": "code",
   "execution_count": 87,
   "metadata": {},
   "outputs": [
    {
     "name": "stdout",
     "output_type": "stream",
     "text": [
      "Individual TED events are classified into following categories:  {'TEDGlobal', 'TEDSalon', 'Other', 'TEDWomen', 'TEDMED', 'TEDx', 'TEDActive', 'TEDYouth', 'TED'}\n"
     ]
    }
   ],
   "source": [
    "# The 318 individual events are classified braodly into fewer categories\n",
    "df_clean[\"event_type\"] = df_clean[\"event_type\"].astype('category')\n",
    "print ('Individual TED events are classified into following categories: ', set(list(df_clean['event_type'])))"
   ]
  },
  {
   "cell_type": "code",
   "execution_count": 88,
   "metadata": {},
   "outputs": [
    {
     "data": {
      "text/plain": [
       "count     2412\n",
       "unique       9\n",
       "top        TED\n",
       "freq      1186\n",
       "Name: event_type, dtype: object"
      ]
     },
     "execution_count": 88,
     "metadata": {},
     "output_type": "execute_result"
    }
   ],
   "source": [
    "df_clean['event_type'].describe()"
   ]
  },
  {
   "cell_type": "code",
   "execution_count": 105,
   "metadata": {
    "scrolled": true
   },
   "outputs": [
    {
     "data": {
      "text/plain": [
       "[Text(0, 0, 'TED'),\n",
       " Text(0, 0, 'TEDx'),\n",
       " Text(0, 0, 'TEDGlobal'),\n",
       " Text(0, 0, 'TEDWomen'),\n",
       " Text(0, 0, 'TEDSalon'),\n",
       " Text(0, 0, 'TEDMED'),\n",
       " Text(0, 0, 'TEDYouth'),\n",
       " Text(0, 0, 'TEDActive'),\n",
       " Text(0, 0, 'Other')]"
      ]
     },
     "execution_count": 105,
     "metadata": {},
     "output_type": "execute_result"
    },
    {
     "data": {
      "image/png": "[encoded data removed]",
      "text/plain": [
       "<Figure size 432x288 with 1 Axes>"
      ]
     },
     "metadata": {
      "needs_background": "light"
     },
     "output_type": "display_data"
    }
   ],
   "source": [
    "label_order = ['TED', 'TEDx', 'TEDGlobal', 'TEDWomen', 'TEDSalon', 'TEDMED', 'TEDYouth', 'TEDActive', 'Other']\n",
    "chart = sns.countplot(data = df_clean, x ='event_type', order = label_order, orient = 'h')\n",
    "chart.set_xticklabels(labels = label_order,  rotation=45)"
   ]
  },
  {
   "cell_type": "code",
   "execution_count": 124,
   "metadata": {},
   "outputs": [
    {
     "data": {
      "text/plain": [
       "[Text(0, 0, 'TED'),\n",
       " Text(0, 0, 'TEDx'),\n",
       " Text(0, 0, 'TEDGlobal'),\n",
       " Text(0, 0, 'TEDWomen'),\n",
       " Text(0, 0, 'TEDSalon'),\n",
       " Text(0, 0, 'TEDMED'),\n",
       " Text(0, 0, 'TEDYouth'),\n",
       " Text(0, 0, 'TEDActive'),\n",
       " Text(0, 0, 'Other')]"
      ]
     },
     "execution_count": 124,
     "metadata": {},
     "output_type": "execute_result"
    },
    {
     "data": {
      "image/png": "[encoded data removed]",
      "text/plain": [
       "<Figure size 432x288 with 1 Axes>"
      ]
     },
     "metadata": {
      "needs_background": "light"
     },
     "output_type": "display_data"
    }
   ],
   "source": [
    "chart = sns.boxplot(data = df_clean, x ='event_type', y = 'comments',order = label_order)\n",
    "chart.set_xticklabels(labels = label_order,  rotation=45)\n",
    "#plt.ylim(0, 6000)"
   ]
  },
  {
   "cell_type": "markdown",
   "metadata": {},
   "source": [
    "As can be seen, majority of talks are in regular TED events, followed by TED GLobal and TEDx events. Other versions of TED, including Women, MED , Salon, etc. do not have as many talks"
   ]
  },
  {
   "cell_type": "code",
   "execution_count": 69,
   "metadata": {},
   "outputs": [
    {
     "data": {
      "text/plain": [
       "{'Arbejdsglaede Live',\n",
       " 'Business Innovation Factory',\n",
       " 'Chautauqua Institution',\n",
       " 'DLD 2007',\n",
       " 'EG 2007',\n",
       " 'EG 2008',\n",
       " 'Elizabeth G. Anderson School',\n",
       " 'Full Spectrum Auditions',\n",
       " 'Global Witness HQ',\n",
       " 'INK Conference',\n",
       " 'LIFT 2007',\n",
       " 'Mission Blue II',\n",
       " 'Mission Blue Voyage',\n",
       " 'Serious Play 2008',\n",
       " 'Skoll World Forum 2007',\n",
       " 'TED Fellows 2015',\n",
       " 'TED Fellows Retreat 2013',\n",
       " 'TED Fellows Retreat 2015',\n",
       " 'TED Prize Wish',\n",
       " 'TED Residency',\n",
       " 'TED Senior Fellows at TEDGlobal 2010',\n",
       " 'TED Studio',\n",
       " 'TED Talks Education',\n",
       " 'TED Talks Live',\n",
       " 'TED in the Field',\n",
       " 'TED-Ed Weekend',\n",
       " 'TED1984',\n",
       " 'TED1990',\n",
       " 'TED1994',\n",
       " 'TED1998',\n",
       " 'TED2001',\n",
       " 'TED2002',\n",
       " 'TED2003',\n",
       " 'TED2004',\n",
       " 'TED2005',\n",
       " 'TED2006',\n",
       " 'TED2007',\n",
       " 'TED2008',\n",
       " 'TED2009',\n",
       " 'TED2010',\n",
       " 'TED2011',\n",
       " 'TED2012',\n",
       " 'TED2013',\n",
       " 'TED2014',\n",
       " 'TED2015',\n",
       " 'TED2016',\n",
       " 'TED2017',\n",
       " 'TED@BCG Berlin',\n",
       " 'TED@BCG London',\n",
       " 'TED@BCG Paris',\n",
       " 'TED@BCG San Francisco',\n",
       " 'TED@BCG Singapore',\n",
       " 'TED@Bangalore',\n",
       " 'TED@Cannes',\n",
       " 'TED@IBM',\n",
       " 'TED@Intel',\n",
       " 'TED@Johannesburg',\n",
       " 'TED@London',\n",
       " 'TED@MotorCity',\n",
       " 'TED@NYC',\n",
       " 'TED@Nairobi',\n",
       " 'TED@New York',\n",
       " 'TED@SXSWi',\n",
       " 'TED@State',\n",
       " 'TED@State Street Boston',\n",
       " 'TED@State Street London',\n",
       " 'TED@StateStreet Boston',\n",
       " 'TED@UPS',\n",
       " 'TED@Unilever',\n",
       " 'TEDActive 2011',\n",
       " 'TEDActive 2014',\n",
       " 'TEDActive 2015',\n",
       " 'TEDCity2.0',\n",
       " 'TEDGlobal 2005',\n",
       " 'TEDGlobal 2007',\n",
       " 'TEDGlobal 2009',\n",
       " 'TEDGlobal 2010',\n",
       " 'TEDGlobal 2011',\n",
       " 'TEDGlobal 2012',\n",
       " 'TEDGlobal 2013',\n",
       " 'TEDGlobal 2014',\n",
       " 'TEDGlobal 2017',\n",
       " 'TEDGlobal>Geneva',\n",
       " 'TEDGlobal>London',\n",
       " 'TEDGlobalLondon',\n",
       " 'TEDIndia 2009',\n",
       " 'TEDLagos Ideas Search',\n",
       " 'TEDMED 2009',\n",
       " 'TEDMED 2010',\n",
       " 'TEDMED 2011',\n",
       " 'TEDMED 2012',\n",
       " 'TEDMED 2013',\n",
       " 'TEDMED 2014',\n",
       " 'TEDMED 2015',\n",
       " 'TEDMED 2016',\n",
       " 'TEDNYC',\n",
       " 'TEDNairobi Ideas Search',\n",
       " 'TEDPrize@UN',\n",
       " 'TEDSalon 2006',\n",
       " 'TEDSalon 2007 Hot Science',\n",
       " 'TEDSalon 2009 Compassion',\n",
       " 'TEDSalon Berlin 2014',\n",
       " 'TEDSalon London 2009',\n",
       " 'TEDSalon London 2010',\n",
       " 'TEDSalon London Fall 2011',\n",
       " 'TEDSalon London Fall 2012',\n",
       " 'TEDSalon London Spring 2011',\n",
       " 'TEDSalon London Spring 2012',\n",
       " 'TEDSalon NY2011',\n",
       " 'TEDSalon NY2012',\n",
       " 'TEDSalon NY2013',\n",
       " 'TEDSalon NY2014',\n",
       " 'TEDSalon NY2015',\n",
       " 'TEDSummit',\n",
       " 'TEDWomen 2010',\n",
       " 'TEDWomen 2013',\n",
       " 'TEDWomen 2015',\n",
       " 'TEDWomen 2016',\n",
       " 'TEDYouth 2011',\n",
       " 'TEDYouth 2013',\n",
       " 'TEDYouth 2014',\n",
       " 'TEDYouth 2015',\n",
       " 'TEDxABQ',\n",
       " 'TEDxAmazonia',\n",
       " 'TEDxAmericanRiviera',\n",
       " 'TEDxAmoskeagMillyard',\n",
       " 'TEDxAmsterdam',\n",
       " 'TEDxArendal',\n",
       " 'TEDxAthens',\n",
       " 'TEDxAtlanta',\n",
       " 'TEDxAustin',\n",
       " 'TEDxBG',\n",
       " 'TEDxBeaconStreet',\n",
       " 'TEDxBeirut',\n",
       " 'TEDxBend',\n",
       " 'TEDxBerkeley',\n",
       " 'TEDxBerlin',\n",
       " 'TEDxBinghamtonUniversity',\n",
       " 'TEDxBloomington',\n",
       " 'TEDxBoston',\n",
       " 'TEDxBoston 2009',\n",
       " 'TEDxBoston 2010',\n",
       " 'TEDxBoston 2011',\n",
       " 'TEDxBoston 2012',\n",
       " 'TEDxBoulder',\n",
       " 'TEDxBoulder 2011',\n",
       " 'TEDxBratislava',\n",
       " 'TEDxBrighton',\n",
       " 'TEDxBrussels',\n",
       " 'TEDxCERN',\n",
       " 'TEDxCHUV',\n",
       " 'TEDxCMU',\n",
       " 'TEDxCaFoscariU',\n",
       " 'TEDxCaltech',\n",
       " 'TEDxCambridge',\n",
       " 'TEDxCanberra',\n",
       " 'TEDxCannes',\n",
       " 'TEDxChange',\n",
       " 'TEDxChapmanU',\n",
       " 'TEDxClaremontColleges',\n",
       " 'TEDxColbyCollege',\n",
       " 'TEDxColoradoSprings',\n",
       " 'TEDxColumbus',\n",
       " 'TEDxColumbusWomen',\n",
       " 'TEDxConcorde',\n",
       " 'TEDxConcordiaUPortland',\n",
       " 'TEDxCreativeCoast',\n",
       " 'TEDxCrenshaw',\n",
       " 'TEDxDU 2010',\n",
       " 'TEDxDU 2011',\n",
       " 'TEDxDanubia',\n",
       " 'TEDxDeExtinction',\n",
       " 'TEDxDelft',\n",
       " 'TEDxDesMoines',\n",
       " 'TEDxDirigo',\n",
       " 'TEDxDubai',\n",
       " 'TEDxDublin',\n",
       " 'TEDxEQChCh',\n",
       " 'TEDxEast',\n",
       " 'TEDxEastEnd',\n",
       " 'TEDxEdmonton',\n",
       " 'TEDxEuston',\n",
       " 'TEDxExeter',\n",
       " 'TEDxFiDiWomen',\n",
       " 'TEDxFrankfurt',\n",
       " 'TEDxFulbrightDublin',\n",
       " 'TEDxGatewayWomen',\n",
       " 'TEDxGeorgetown',\n",
       " 'TEDxGhent',\n",
       " 'TEDxGlasgow',\n",
       " 'TEDxGoldenGatePark 2012',\n",
       " 'TEDxGoodenoughCollege',\n",
       " 'TEDxGrandRapids',\n",
       " 'TEDxGreatPacificGarbagePatch',\n",
       " 'TEDxGroningen',\n",
       " 'TEDxGöteborg 2010',\n",
       " 'TEDxHamburg',\n",
       " 'TEDxHampshireCollege',\n",
       " 'TEDxHelvetia',\n",
       " 'TEDxHogeschoolUtrecht',\n",
       " 'TEDxHousesOfParliament',\n",
       " 'TEDxHouston',\n",
       " 'TEDxImperialCollege',\n",
       " 'TEDxIndianaUniversity',\n",
       " 'TEDxIndianapolis',\n",
       " 'TEDxJaffa 2012',\n",
       " 'TEDxJaffa 2013',\n",
       " 'TEDxKC',\n",
       " 'TEDxKids@Ambleside',\n",
       " 'TEDxKrakow',\n",
       " 'TEDxKyoto',\n",
       " 'TEDxLeuvenSalon',\n",
       " 'TEDxLinnaeusUniversity',\n",
       " 'TEDxLondonBusinessSchool',\n",
       " 'TEDxMaastricht',\n",
       " 'TEDxManchester',\n",
       " 'TEDxManhattan',\n",
       " 'TEDxManhattanBeach',\n",
       " 'TEDxMarin',\n",
       " 'TEDxMaui',\n",
       " 'TEDxMet',\n",
       " 'TEDxMiamiUniversity',\n",
       " 'TEDxMidAtlantic',\n",
       " 'TEDxMidAtlantic 2013',\n",
       " 'TEDxMidwest',\n",
       " 'TEDxMileHigh',\n",
       " 'TEDxMonroeCorrectionalComplex',\n",
       " 'TEDxMtHood',\n",
       " 'TEDxMuncyStatePrison',\n",
       " 'TEDxNASA',\n",
       " 'TEDxNASA@SiliconValley',\n",
       " 'TEDxNYED',\n",
       " 'TEDxNatick',\n",
       " 'TEDxNewYork',\n",
       " 'TEDxNewy',\n",
       " 'TEDxNextGenerationAsheville',\n",
       " 'TEDxNijmegen',\n",
       " 'TEDxNorrkoping',\n",
       " 'TEDxNorthwesternU',\n",
       " \"TEDxO'Porto\",\n",
       " 'TEDxObserver',\n",
       " 'TEDxOilSpill',\n",
       " 'TEDxOmaha',\n",
       " 'TEDxOrangeCoast',\n",
       " 'TEDxOrcasIsland',\n",
       " 'TEDxOslo',\n",
       " 'TEDxPSU',\n",
       " 'TEDxParis 2010',\n",
       " 'TEDxParis 2012',\n",
       " 'TEDxPeachtree',\n",
       " 'TEDxPenn',\n",
       " 'TEDxPennQuarter',\n",
       " 'TEDxPennsylvaniaAvenue',\n",
       " 'TEDxPerth',\n",
       " 'TEDxPhoenix',\n",
       " 'TEDxPlaceDesNations',\n",
       " 'TEDxPortland',\n",
       " 'TEDxPortofSpain',\n",
       " 'TEDxProvidence',\n",
       " 'TEDxPuget Sound ',\n",
       " 'TEDxRC2',\n",
       " 'TEDxRainier',\n",
       " 'TEDxRiodelaPlata',\n",
       " 'TEDxRotterdam 2010',\n",
       " 'TEDxSBU',\n",
       " 'TEDxSF',\n",
       " 'TEDxSFU',\n",
       " 'TEDxSMU',\n",
       " 'TEDxSaltLakeCity',\n",
       " 'TEDxSanDiego',\n",
       " 'TEDxSanJoseCA',\n",
       " 'TEDxSanMigueldeAllende',\n",
       " 'TEDxSanQuentin',\n",
       " 'TEDxSeattleU',\n",
       " 'TEDxSeoul',\n",
       " 'TEDxSiliconValley',\n",
       " 'TEDxSkoll',\n",
       " 'TEDxSonomaCounty',\n",
       " 'TEDxSouthBank',\n",
       " 'TEDxStanford',\n",
       " 'TEDxSummit',\n",
       " 'TEDxSussexUniversity',\n",
       " 'TEDxSydney',\n",
       " 'TEDxTC',\n",
       " 'TEDxTeen',\n",
       " 'TEDxTelAviv 2010',\n",
       " 'TEDxThessaloniki',\n",
       " 'TEDxTokyo',\n",
       " 'TEDxToronto',\n",
       " 'TEDxToronto 2010',\n",
       " 'TEDxToronto 2011',\n",
       " 'TEDxToulouse',\n",
       " 'TEDxUF',\n",
       " 'TEDxUIUC',\n",
       " 'TEDxUM',\n",
       " 'TEDxUMKC',\n",
       " 'TEDxUSC',\n",
       " 'TEDxUW',\n",
       " 'TEDxUdeM',\n",
       " 'TEDxUniversityofNevada',\n",
       " 'TEDxUofM',\n",
       " 'TEDxVancouver',\n",
       " 'TEDxVictoria',\n",
       " 'TEDxVienna',\n",
       " 'TEDxVirginiaTech',\n",
       " 'TEDxWarwick',\n",
       " 'TEDxWinnipeg',\n",
       " 'TEDxWitsUniversity',\n",
       " 'TEDxWomen 2011',\n",
       " 'TEDxWomen 2012',\n",
       " 'TEDxYYC',\n",
       " 'TEDxYouth@Manchester',\n",
       " 'TEDxYouth@Sydney',\n",
       " 'TEDxZurich',\n",
       " 'TEDxZurich 2011',\n",
       " 'TEDxZurich 2012',\n",
       " 'TEDxZurich 2013',\n",
       " 'Taste3 2008'}"
      ]
     },
     "execution_count": 69,
     "metadata": {},
     "output_type": "execute_result"
    }
   ],
   "source": [
    "(set(list(df_clean['event'])))"
   ]
  },
  {
   "cell_type": "markdown",
   "metadata": {},
   "source": [
    "### Lets look at the talks themselves"
   ]
  },
  {
   "cell_type": "code",
   "execution_count": 56,
   "metadata": {},
   "outputs": [
    {
     "data": {
      "text/plain": [
       "<matplotlib.lines.Line2D at 0x1fe26789e48>"
      ]
     },
     "execution_count": 56,
     "metadata": {},
     "output_type": "execute_result"
    },
    {
     "data": {
      "image/png": "[encoded data removed]",
      "text/plain": [
       "<Figure size 432x288 with 1 Axes>"
      ]
     },
     "metadata": {
      "needs_background": "light"
     },
     "output_type": "display_data"
    }
   ],
   "source": [
    "# Duration of the talks\n",
    "sns.distplot(df_clean['duration'], bins=20, kde=False, rug=True, axlabel = 'Duration (s)')\n",
    "mean_time = np.mean(df_clean['duration'])\n",
    "# mean_time\n",
    "plt.axvline(mean_time, 0,1, c = 'r', linewidth = 3)\n",
    "# plt.axvline([500, 1500], 0,1, c = 'b', linewidth = 1)"
   ]
  },
  {
   "cell_type": "code",
   "execution_count": 63,
   "metadata": {},
   "outputs": [
    {
     "name": "stdout",
     "output_type": "stream",
     "text": [
      "The mean length of the talks is about 13 minutes (820 seconds to be exact)\n"
     ]
    }
   ],
   "source": [
    "print('The mean length of the talks is about %d minutes (%d seconds to be exact)'%((mean_time/60), mean_time))"
   ]
  },
  {
   "cell_type": "code",
   "execution_count": 54,
   "metadata": {},
   "outputs": [],
   "source": [
    "#print('The mean length of the talks is %d minutes'%(mean_time/60))"
   ]
  },
  {
   "cell_type": "code",
   "execution_count": null,
   "metadata": {},
   "outputs": [],
   "source": []
  }
 ],
 "metadata": {
  "kernelspec": {
   "display_name": "Python 3",
   "language": "python",
   "name": "python3"
  },
  "language_info": {
   "codemirror_mode": {
    "name": "ipython",
    "version": 3
   },
   "file_extension": ".py",
   "mimetype": "text/x-python",
   "name": "python",
   "nbconvert_exporter": "python",
   "pygments_lexer": "ipython3",
   "version": "3.7.4"
  }
 },
 "nbformat": 4,
 "nbformat_minor": 2
}
