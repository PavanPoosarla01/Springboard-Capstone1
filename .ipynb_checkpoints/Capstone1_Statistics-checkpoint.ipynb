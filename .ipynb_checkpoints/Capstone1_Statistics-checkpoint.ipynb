{
 "cells": [
  {
   "cell_type": "markdown",
   "metadata": {},
   "source": [
    "# Statistical Data Analysis"
   ]
  },
  {
   "cell_type": "markdown",
   "metadata": {},
   "source": [
    "In this section, we look at the correlations looked at in the previous sectiona nd try to test their statistical significance. We will also capture new correlations"
   ]
  },
  {
   "cell_type": "code",
   "execution_count": 79,
   "metadata": {},
   "outputs": [],
   "source": [
    "import pandas as pd\n",
    "import seaborn as sns\n",
    "import matplotlib.pyplot as plt\n",
    "import numpy as np\n",
    "import scipy as sp\n"
   ]
  },
  {
   "cell_type": "code",
   "execution_count": 80,
   "metadata": {},
   "outputs": [],
   "source": [
    "import ast\n",
    "def str2list(text):\n",
    "    # print(text)\n",
    "    init_ls = text.strip('[]').split(',')\n",
    "    #print (init_ls[1])\n",
    "    final_ls = [X.strip(' ').strip('\\'') for X in init_ls]\n",
    "    # print(final_ls[1])\n",
    "    tag_ls = ['tag_'+X for X in final_ls]\n",
    "    return tag_ls\n",
    "        "
   ]
  },
  {
   "cell_type": "code",
   "execution_count": 81,
   "metadata": {},
   "outputs": [],
   "source": [
    "# Read the output of Data Storytelling\n",
    "df_clean = pd.read_csv(r'After_Storytelling.csv', index_col = 0)\n",
    "df_clean.index.name = \"index\""
   ]
  },
  {
   "cell_type": "code",
   "execution_count": 82,
   "metadata": {
    "scrolled": false
   },
   "outputs": [
    {
     "name": "stdout",
     "output_type": "stream",
     "text": [
      "Shape is (2314, 34)\n"
     ]
    },
    {
     "data": {
      "text/html": [
       "<div>\n",
       "<style scoped>\n",
       "    .dataframe tbody tr th:only-of-type {\n",
       "        vertical-align: middle;\n",
       "    }\n",
       "\n",
       "    .dataframe tbody tr th {\n",
       "        vertical-align: top;\n",
       "    }\n",
       "\n",
       "    .dataframe thead th {\n",
       "        text-align: right;\n",
       "    }\n",
       "</style>\n",
       "<table border=\"1\" class=\"dataframe\">\n",
       "  <thead>\n",
       "    <tr style=\"text-align: right;\">\n",
       "      <th></th>\n",
       "      <th>description</th>\n",
       "      <th>duration</th>\n",
       "      <th>event</th>\n",
       "      <th>main_speaker</th>\n",
       "      <th>speaker_occupation</th>\n",
       "      <th>tags</th>\n",
       "      <th>title</th>\n",
       "      <th>transcript</th>\n",
       "      <th>film_datestamp</th>\n",
       "      <th>pub_datestamp</th>\n",
       "      <th>...</th>\n",
       "      <th>Confusing</th>\n",
       "      <th>Informative</th>\n",
       "      <th>Fascinating</th>\n",
       "      <th>Unconvincing</th>\n",
       "      <th>OK</th>\n",
       "      <th>Inspiring</th>\n",
       "      <th>event_type</th>\n",
       "      <th>Max_rating</th>\n",
       "      <th>ratings_total</th>\n",
       "      <th>word_per_min</th>\n",
       "    </tr>\n",
       "    <tr>\n",
       "      <th>index</th>\n",
       "      <th></th>\n",
       "      <th></th>\n",
       "      <th></th>\n",
       "      <th></th>\n",
       "      <th></th>\n",
       "      <th></th>\n",
       "      <th></th>\n",
       "      <th></th>\n",
       "      <th></th>\n",
       "      <th></th>\n",
       "      <th></th>\n",
       "      <th></th>\n",
       "      <th></th>\n",
       "      <th></th>\n",
       "      <th></th>\n",
       "      <th></th>\n",
       "      <th></th>\n",
       "      <th></th>\n",
       "      <th></th>\n",
       "      <th></th>\n",
       "      <th></th>\n",
       "    </tr>\n",
       "  </thead>\n",
       "  <tbody>\n",
       "    <tr>\n",
       "      <td>0</td>\n",
       "      <td>Sir Ken Robinson makes an entertaining and pro...</td>\n",
       "      <td>1164</td>\n",
       "      <td>TED2006</td>\n",
       "      <td>Ken Robinson</td>\n",
       "      <td>Author/educator</td>\n",
       "      <td>['children', 'creativity', 'culture', 'dance',...</td>\n",
       "      <td>Do schools kill creativity?</td>\n",
       "      <td>Good morning. How are you?(Laughter)It's been ...</td>\n",
       "      <td>2006-02-25 00:00:00</td>\n",
       "      <td>2006-06-27 00:11:00</td>\n",
       "      <td>...</td>\n",
       "      <td>0.007035</td>\n",
       "      <td>0.082160</td>\n",
       "      <td>0.118341</td>\n",
       "      <td>0.005693</td>\n",
       "      <td>0.013130</td>\n",
       "      <td>0.398474</td>\n",
       "      <td>TED</td>\n",
       "      <td>Inspiring</td>\n",
       "      <td>89411</td>\n",
       "      <td>163</td>\n",
       "    </tr>\n",
       "    <tr>\n",
       "      <td>1</td>\n",
       "      <td>With the same humor and humanity he exuded in ...</td>\n",
       "      <td>977</td>\n",
       "      <td>TED2006</td>\n",
       "      <td>Al Gore</td>\n",
       "      <td>Climate advocate</td>\n",
       "      <td>['alternative energy', 'cars', 'climate change...</td>\n",
       "      <td>Averting the climate crisis</td>\n",
       "      <td>Thank you so much, Chris. And it's truly a gre...</td>\n",
       "      <td>2006-02-25 00:00:00</td>\n",
       "      <td>2006-06-27 00:11:00</td>\n",
       "      <td>...</td>\n",
       "      <td>0.062057</td>\n",
       "      <td>0.157092</td>\n",
       "      <td>0.046809</td>\n",
       "      <td>0.137943</td>\n",
       "      <td>0.071986</td>\n",
       "      <td>0.241489</td>\n",
       "      <td>TED</td>\n",
       "      <td>Inspiring</td>\n",
       "      <td>2820</td>\n",
       "      <td>127</td>\n",
       "    </tr>\n",
       "    <tr>\n",
       "      <td>2</td>\n",
       "      <td>New York Times columnist David Pogue takes aim...</td>\n",
       "      <td>1286</td>\n",
       "      <td>TED2006</td>\n",
       "      <td>David Pogue</td>\n",
       "      <td>Technology columnist</td>\n",
       "      <td>['computers', 'entertainment', 'interface desi...</td>\n",
       "      <td>Simplicity sells</td>\n",
       "      <td>(Music: \"The Sound of Silence,\" Simon &amp; Garfun...</td>\n",
       "      <td>2006-02-24 00:00:00</td>\n",
       "      <td>2006-06-27 00:11:00</td>\n",
       "      <td>...</td>\n",
       "      <td>0.037906</td>\n",
       "      <td>0.142599</td>\n",
       "      <td>0.059928</td>\n",
       "      <td>0.088809</td>\n",
       "      <td>0.052708</td>\n",
       "      <td>0.166065</td>\n",
       "      <td>TED</td>\n",
       "      <td>Funny</td>\n",
       "      <td>2770</td>\n",
       "      <td>157</td>\n",
       "    </tr>\n",
       "  </tbody>\n",
       "</table>\n",
       "<p>3 rows × 34 columns</p>\n",
       "</div>"
      ],
      "text/plain": [
       "                                             description  duration    event  \\\n",
       "index                                                                         \n",
       "0      Sir Ken Robinson makes an entertaining and pro...      1164  TED2006   \n",
       "1      With the same humor and humanity he exuded in ...       977  TED2006   \n",
       "2      New York Times columnist David Pogue takes aim...      1286  TED2006   \n",
       "\n",
       "       main_speaker    speaker_occupation  \\\n",
       "index                                       \n",
       "0      Ken Robinson       Author/educator   \n",
       "1           Al Gore      Climate advocate   \n",
       "2       David Pogue  Technology columnist   \n",
       "\n",
       "                                                    tags  \\\n",
       "index                                                      \n",
       "0      ['children', 'creativity', 'culture', 'dance',...   \n",
       "1      ['alternative energy', 'cars', 'climate change...   \n",
       "2      ['computers', 'entertainment', 'interface desi...   \n",
       "\n",
       "                             title  \\\n",
       "index                                \n",
       "0      Do schools kill creativity?   \n",
       "1      Averting the climate crisis   \n",
       "2                 Simplicity sells   \n",
       "\n",
       "                                              transcript       film_datestamp  \\\n",
       "index                                                                           \n",
       "0      Good morning. How are you?(Laughter)It's been ...  2006-02-25 00:00:00   \n",
       "1      Thank you so much, Chris. And it's truly a gre...  2006-02-25 00:00:00   \n",
       "2      (Music: \"The Sound of Silence,\" Simon & Garfun...  2006-02-24 00:00:00   \n",
       "\n",
       "             pub_datestamp  ...  Confusing  Informative  Fascinating  \\\n",
       "index                       ...                                        \n",
       "0      2006-06-27 00:11:00  ...   0.007035     0.082160     0.118341   \n",
       "1      2006-06-27 00:11:00  ...   0.062057     0.157092     0.046809   \n",
       "2      2006-06-27 00:11:00  ...   0.037906     0.142599     0.059928   \n",
       "\n",
       "       Unconvincing        OK  Inspiring  event_type  Max_rating  \\\n",
       "index                                                              \n",
       "0          0.005693  0.013130   0.398474         TED   Inspiring   \n",
       "1          0.137943  0.071986   0.241489         TED   Inspiring   \n",
       "2          0.088809  0.052708   0.166065         TED       Funny   \n",
       "\n",
       "       ratings_total  word_per_min  \n",
       "index                               \n",
       "0              89411           163  \n",
       "1               2820           127  \n",
       "2               2770           157  \n",
       "\n",
       "[3 rows x 34 columns]"
      ]
     },
     "execution_count": 82,
     "metadata": {},
     "output_type": "execute_result"
    }
   ],
   "source": [
    "print ('Shape is', df_clean.shape)\n",
    "df_clean.head(3)"
   ]
  },
  {
   "cell_type": "markdown",
   "metadata": {},
   "source": [
    "# Parse Tags"
   ]
  },
  {
   "cell_type": "code",
   "execution_count": 83,
   "metadata": {},
   "outputs": [],
   "source": [
    "df_clean.tags = df_clean.tags.apply(str2list)"
   ]
  },
  {
   "cell_type": "code",
   "execution_count": 84,
   "metadata": {},
   "outputs": [],
   "source": [
    "tags_all = df_clean.tags\n",
    "tag_dict = {}"
   ]
  },
  {
   "cell_type": "code",
   "execution_count": 85,
   "metadata": {},
   "outputs": [],
   "source": [
    "for ls_tags in tags_all:\n",
    "    for tag in ls_tags:\n",
    "        if tag in tag_dict:\n",
    "            tag_dict[tag] = tag_dict[tag]+1\n",
    "        else:\n",
    "            tag_dict[tag] = 0\n"
   ]
  },
  {
   "cell_type": "code",
   "execution_count": 86,
   "metadata": {},
   "outputs": [
    {
     "name": "stdout",
     "output_type": "stream",
     "text": [
      "We have 416 unique tags assigned to all the talks\n"
     ]
    }
   ],
   "source": [
    "print ('We have %d unique tags assigned to all the talks'%len(tag_dict))"
   ]
  },
  {
   "cell_type": "code",
   "execution_count": 87,
   "metadata": {
    "scrolled": true
   },
   "outputs": [
    {
     "data": {
      "text/plain": [
       "<matplotlib.axes._subplots.AxesSubplot at 0x1d489c41048>"
      ]
     },
     "execution_count": 87,
     "metadata": {},
     "output_type": "execute_result"
    },
    {
     "data": {
      "image/png": "[encoded data removed]",
      "text/plain": [
       "<Figure size 432x288 with 1 Axes>"
      ]
     },
     "metadata": {
      "needs_background": "light"
     },
     "output_type": "display_data"
    }
   ],
   "source": [
    "pd.Series(tag_dict).sort_values(ascending = False)[0:10].plot.bar(title = 'Most Common Tags')"
   ]
  },
  {
   "cell_type": "markdown",
   "metadata": {},
   "source": [
    " We will try to see whether a particular tag is indicative of different ratings"
   ]
  },
  {
   "cell_type": "code",
   "execution_count": 88,
   "metadata": {},
   "outputs": [
    {
     "data": {
      "text/plain": [
       "Index(['description', 'duration', 'event', 'main_speaker',\n",
       "       'speaker_occupation', 'tags', 'title', 'transcript', 'film_datestamp',\n",
       "       'pub_datestamp', 'sentence_count', 'word_count', 'applause', 'laughter',\n",
       "       'music', 'cheering', 'sighs', 'singing', 'video', 'audio', 'Funny',\n",
       "       'Beautiful', 'Ingenious', 'Courageous', 'Confusing', 'Informative',\n",
       "       'Fascinating', 'Unconvincing', 'OK', 'Inspiring', 'event_type',\n",
       "       'Max_rating', 'ratings_total', 'word_per_min'],\n",
       "      dtype='object')"
      ]
     },
     "execution_count": 88,
     "metadata": {},
     "output_type": "execute_result"
    }
   ],
   "source": [
    "df_clean.columns"
   ]
  },
  {
   "cell_type": "code",
   "execution_count": 89,
   "metadata": {},
   "outputs": [],
   "source": [
    "# Keep the three ratings of interest and drop the rest\n",
    "# Keep the following ratings : Inspiring, Informative and Funny\n",
    "df_clean.drop(['Beautiful', 'Ingenious', 'Courageous', 'Confusing', \n",
    "       'Fascinating', 'Unconvincing', 'OK'], axis = 1, inplace = True)"
   ]
  },
  {
   "cell_type": "code",
   "execution_count": 90,
   "metadata": {},
   "outputs": [],
   "source": [
    "# Create Binary columns for top tags\n",
    "df_clean['tag_technology'] = ['tag_technology' in ls for ls in df_clean.tags]\n",
    "df_clean['tag_science'] = ['tag_science' in ls for ls in df_clean.tags]\n",
    "df_clean['tag_global issues'] = ['tag_global issues' in ls for ls in df_clean.tags]\n",
    "df_clean['tag_culture'] = ['tag_culture' in ls for ls in df_clean.tags]\n",
    "df_clean['tag_design'] = ['tag_design' in ls for ls in df_clean.tags]"
   ]
  },
  {
   "cell_type": "markdown",
   "metadata": {},
   "source": [
    "## Hypothesis Testing"
   ]
  },
  {
   "cell_type": "markdown",
   "metadata": {},
   "source": [
    "We would like to see if talks with each of the tags score differently compared to talks without the tag for each of our rating of interest. In other words, we would like to ask the following questions\n"
   ]
  },
  {
   "cell_type": "markdown",
   "metadata": {},
   "source": [
    "Q1 : Are talks with tag 'technology' score differently compared to talks without this tag on the rating 'Informative'? \n",
    "\n",
    "Null Hypotheis : Talks with and without 'technology' tag score similar on 'Informative\n",
    "\n",
    "Alt Hypotheis : Two groups are different"
   ]
  },
  {
   "cell_type": "code",
   "execution_count": 91,
   "metadata": {},
   "outputs": [],
   "source": [
    "tech = df_clean[df_clean['tag_technology'] == True]\n",
    "non_tech = df_clean[df_clean['tag_technology'] != True]"
   ]
  },
  {
   "cell_type": "code",
   "execution_count": 92,
   "metadata": {},
   "outputs": [
    {
     "name": "stdout",
     "output_type": "stream",
     "text": [
      "Talks with technology tag have average 'Informative' rating of 0.19825628772971002\n",
      "Talks without technology tag have average 'Informative' rating of 0.16873213163606943\n"
     ]
    }
   ],
   "source": [
    "# The mean rating for each is\n",
    "print ('Talks with technology tag have average \\'Informative\\' rating of', tech.Informative.mean())\n",
    "print ('Talks without technology tag have average \\'Informative\\' rating of', non_tech.Informative.mean())"
   ]
  },
  {
   "cell_type": "code",
   "execution_count": 93,
   "metadata": {},
   "outputs": [
    {
     "data": {
      "text/plain": [
       "Ttest_indResult(statistic=6.227420675983781, pvalue=6.344877075326349e-10)"
      ]
     },
     "execution_count": 93,
     "metadata": {},
     "output_type": "execute_result"
    }
   ],
   "source": [
    "# Performing a t-test to chcek if the differences are statistically significant\n",
    "from scipy.stats import ttest_ind\n",
    "test_res = ttest_ind(tech.Informative, non_tech.Informative, equal_var = False)\n",
    "\n",
    "test_res"
   ]
  },
  {
   "cell_type": "markdown",
   "metadata": {},
   "source": [
    "As can be seen from the test, we see that talks which have 'technology' as tag scored higher on 'Informative' ratings compared to those without this. In other words, we reject null hypotheis. \n",
    "Lets similarly ask other questions\n",
    "\n",
    "Q2 : Do talks with tag 'design' score differently on 'inspiring' compared to talks without?\n"
   ]
  },
  {
   "cell_type": "code",
   "execution_count": 94,
   "metadata": {},
   "outputs": [
    {
     "name": "stdout",
     "output_type": "stream",
     "text": [
      "Talks with design tag have average 'Inspiring' rating of 0.25009760650748375\n",
      "Talks without design tag have average 'Inspiring' rating of 0.3089004829246212\n"
     ]
    }
   ],
   "source": [
    "design = df_clean[df_clean['tag_design'] == True]\n",
    "non_design = df_clean[df_clean['tag_design'] != True]\n",
    "# Calculate mean ratings\n",
    "print ('Talks with design tag have average \\'Inspiring\\' rating of', tech.Inspiring.mean())\n",
    "print ('Talks without design tag have average \\'Inspiring\\' rating of', non_tech.Inspiring.mean())"
   ]
  },
  {
   "cell_type": "code",
   "execution_count": 95,
   "metadata": {},
   "outputs": [
    {
     "data": {
      "text/plain": [
       "Ttest_indResult(statistic=-6.615982464579601, pvalue=8.34047782299715e-11)"
      ]
     },
     "execution_count": 95,
     "metadata": {},
     "output_type": "execute_result"
    }
   ],
   "source": [
    "# Check statistical significance\n",
    "test_res = ttest_ind(design.Inspiring, non_design.Inspiring, equal_var = False)\n",
    "test_res"
   ]
  },
  {
   "cell_type": "markdown",
   "metadata": {},
   "source": [
    "We see that talks without design as tag score higher on 'Inspiring' than those with. This is counterintuitive"
   ]
  },
  {
   "cell_type": "markdown",
   "metadata": {},
   "source": [
    "## Conclusion"
   ]
  },
  {
   "cell_type": "markdown",
   "metadata": {},
   "source": [
    "Finally, lets drop the tags column and get ready for applying machine learning to the data"
   ]
  },
  {
   "cell_type": "code",
   "execution_count": 96,
   "metadata": {},
   "outputs": [],
   "source": [
    "df_clean.drop(['tags'], axis = 1, inplace = True)"
   ]
  },
  {
   "cell_type": "code",
   "execution_count": 97,
   "metadata": {},
   "outputs": [],
   "source": [
    "# Write to file\n",
    "df_clean.to_csv('After_StatisticalAnalysis.csv')"
   ]
  },
  {
   "cell_type": "code",
   "execution_count": null,
   "metadata": {},
   "outputs": [],
   "source": []
  },
  {
   "cell_type": "code",
   "execution_count": null,
   "metadata": {},
   "outputs": [],
   "source": []
  },
  {
   "cell_type": "code",
   "execution_count": null,
   "metadata": {},
   "outputs": [],
   "source": []
  },
  {
   "cell_type": "code",
   "execution_count": null,
   "metadata": {},
   "outputs": [],
   "source": []
  },
  {
   "cell_type": "code",
   "execution_count": null,
   "metadata": {},
   "outputs": [],
   "source": []
  },
  {
   "cell_type": "code",
   "execution_count": null,
   "metadata": {},
   "outputs": [],
   "source": []
  },
  {
   "cell_type": "code",
   "execution_count": null,
   "metadata": {},
   "outputs": [],
   "source": []
  },
  {
   "cell_type": "code",
   "execution_count": null,
   "metadata": {},
   "outputs": [],
   "source": []
  }
 ],
 "metadata": {
  "kernelspec": {
   "display_name": "Python 3",
   "language": "python",
   "name": "python3"
  },
  "language_info": {
   "codemirror_mode": {
    "name": "ipython",
    "version": 3
   },
   "file_extension": ".py",
   "mimetype": "text/x-python",
   "name": "python",
   "nbconvert_exporter": "python",
   "pygments_lexer": "ipython3",
   "version": "3.7.4"
  }
 },
 "nbformat": 4,
 "nbformat_minor": 2
}
